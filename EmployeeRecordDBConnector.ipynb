{
 "cells": [
  {
   "cell_type": "markdown",
   "id": "76f0a9d1-cd48-4d54-87b5-087dfe2d30ba",
   "metadata": {},
   "source": [
    "### Importing Libraries"
   ]
  },
  {
   "cell_type": "code",
   "execution_count": 24,
   "id": "a4195d4e-1926-41be-9901-2899a517b208",
   "metadata": {},
   "outputs": [],
   "source": [
    "import mysql.connector\n",
    "import matplotlib.pyplot as plt\n",
    "import plotly.express as pt\n",
    "import seaborn as sns\n",
    "import statsmodels.api as sm\n",
    "from statsmodels.formula.api import ols\n",
    "from scipy.stats import ttest_1samp"
   ]
  },
  {
   "cell_type": "markdown",
   "id": "22ee8a55-f30b-4609-a8ed-97789bfc18eb",
   "metadata": {},
   "source": [
    "### Connecting to SQL"
   ]
  },
  {
   "cell_type": "code",
   "execution_count": 25,
   "id": "05d173f5-68e3-43e2-92d9-811c62e876b8",
   "metadata": {},
   "outputs": [
    {
     "data": {
      "text/plain": [
       "<mysql.connector.connection_cext.CMySQLConnection at 0x24c73416190>"
      ]
     },
     "execution_count": 25,
     "metadata": {},
     "output_type": "execute_result"
    }
   ],
   "source": [
    "employeeRecordsDatabase = mysql.connector.connect(\n",
    "    host = \"localhost\",\n",
    "    user = \"root\",\n",
    "    password = \"IshuLogi@9702\",\n",
    "    database = \"employeerecordsdb\"\n",
    ")\n",
    "\n",
    "employeeRecordsDatabase"
   ]
  },
  {
   "cell_type": "markdown",
   "id": "2c3016bf-561e-421f-9775-a0b3ba7f1a3e",
   "metadata": {},
   "source": [
    "### Fetching Data from SQL"
   ]
  },
  {
   "cell_type": "code",
   "execution_count": 26,
   "id": "498c751d-58bf-4c36-9775-ac709b04116e",
   "metadata": {},
   "outputs": [
    {
     "name": "stdout",
     "output_type": "stream",
     "text": [
      "(206, 'William', 'Gietz', 'WGIETZ', '51hr5.123.8181', datetime.date(1994, 6, 7), Decimal('8300.00'), None, 'Public Accountant', Decimal('4200'), Decimal('9000'), 'Accounting', 'Shelley', None, None, '2004 Charade Rd', '98199', 'Seattle', 'Washington', 'United States of America', 'Americas')\n",
      "(205, 'Shelley', 'Higgins', 'SHIGGINS', '515.123.8080', datetime.date(1994, 6, 7), Decimal('12000.00'), None, 'Accounting Manager', Decimal('8200'), Decimal('16000'), 'Accounting', 'Neena', None, None, '2004 Charade Rd', '98199', 'Seattle', 'Washington', 'United States of America', 'Americas')\n",
      "(200, 'Jennifer', 'Whalen', 'JWHALEN', '515.123.4444', datetime.date(1987, 9, 17), Decimal('4400.00'), None, 'Administration Assistant', Decimal('3000'), Decimal('6000'), 'Administration', 'Neena', datetime.date(1987, 9, 17), datetime.date(1998, 12, 31), '2004 Charade Rd', '98199', 'Seattle', 'Washington', 'United States of America', 'Americas')\n",
      "(100, 'Steven', 'King', 'SKING', '515.123.4567', datetime.date(1987, 6, 17), Decimal('24000.00'), None, 'President', Decimal('20000'), Decimal('40000'), 'Executive', None, None, None, '2004 Charade Rd', '98199', 'Seattle', 'Washington', 'United States of America', 'Americas')\n",
      "(101, 'Neena', 'Kochhar', 'NKOCHHAR', '515.123.4568', datetime.date(1989, 9, 21), Decimal('17000.00'), None, 'Administration Vice President', Decimal('15000'), Decimal('30000'), 'Executive', 'Steven', datetime.date(1989, 9, 21), datetime.date(1997, 3, 15), '2004 Charade Rd', '98199', 'Seattle', 'Washington', 'United States of America', 'Americas')\n",
      "(102, 'Lex', 'De Haan', 'LDEHAAN', '515.123.4569', datetime.date(1993, 1, 13), Decimal('17000.00'), None, 'Administration Vice President', Decimal('15000'), Decimal('30000'), 'Executive', 'Steven', datetime.date(1993, 1, 13), datetime.date(1998, 7, 24), '2004 Charade Rd', '98199', 'Seattle', 'Washington', 'United States of America', 'Americas')\n",
      "(109, 'Daniel', 'Faviet', 'DFAVIET', '515.124.4169', datetime.date(1994, 8, 16), Decimal('9000.00'), None, 'Accountant', Decimal('4200'), Decimal('9000'), 'Finance', 'Nancy', None, None, '2004 Charade Rd', '98199', 'Seattle', 'Washington', 'United States of America', 'Americas')\n",
      "(110, 'John', 'Chen', 'JCHEN', '515.124.4269', datetime.date(1997, 9, 28), Decimal('8200.00'), None, 'Accountant', Decimal('4200'), Decimal('9000'), 'Finance', 'Nancy', None, None, '2004 Charade Rd', '98199', 'Seattle', 'Washington', 'United States of America', 'Americas')\n",
      "(111, 'Ismael', 'Sciarra', 'ISCIARRA', '515.124.4369', datetime.date(1997, 9, 30), Decimal('7700.00'), None, 'Accountant', Decimal('4200'), Decimal('9000'), 'Finance', 'Nancy', None, None, '2004 Charade Rd', '98199', 'Seattle', 'Washington', 'United States of America', 'Americas')\n",
      "(112, 'Jose Manuel', 'Urman', 'JMURMAN', '515.124.4469', datetime.date(1998, 3, 7), Decimal('7800.00'), None, 'Accountant', Decimal('4200'), Decimal('9000'), 'Finance', 'Nancy', None, None, '2004 Charade Rd', '98199', 'Seattle', 'Washington', 'United States of America', 'Americas')\n",
      "(113, 'Luis', 'Popp', 'LPOPP', '515.124.4567', datetime.date(1999, 12, 7), Decimal('6900.00'), None, 'Accountant', Decimal('4200'), Decimal('9000'), 'Finance', 'Nancy', None, None, '2004 Charade Rd', '98199', 'Seattle', 'Washington', 'United States of America', 'Americas')\n",
      "(108, 'Nancy', 'Greenberg', 'NGREENBE', '515.124.4569', datetime.date(1994, 8, 17), Decimal('12000.00'), None, 'Finance Manager', Decimal('8200'), Decimal('16000'), 'Finance', 'Neena', None, None, '2004 Charade Rd', '98199', 'Seattle', 'Washington', 'United States of America', 'Americas')\n",
      "(203, 'Susan', 'Mavris', 'SMAVRIS', '515.123.7777', datetime.date(1994, 6, 7), Decimal('6500.00'), None, 'Human Resources Representative', Decimal('4000'), Decimal('9000'), 'Human Resources', 'Neena', None, None, '8204 Arthur St', None, 'London', None, 'United Kingdom', 'Europe')\n",
      "(103, 'Alexander', 'Hunold', 'AHUNOLD', '590.423.4567', datetime.date(1990, 1, 3), Decimal('9000.00'), None, 'Programmer', Decimal('4000'), Decimal('10000'), 'IT', 'Lex', None, None, '2014 Jabberwocky Rd', '26192', 'Southlake', 'Texas', 'United States of America', 'Americas')\n",
      "(104, 'Bruce', 'Ernst', 'BERNST', '590.423.4568', datetime.date(1991, 5, 21), Decimal('6000.00'), None, 'Programmer', Decimal('4000'), Decimal('10000'), 'IT', 'Alexander', None, None, '2014 Jabberwocky Rd', '26192', 'Southlake', 'Texas', 'United States of America', 'Americas')\n",
      "(105, 'David', 'Austin', 'DAUSTIN', '590.423.4569', datetime.date(1997, 6, 25), Decimal('4800.00'), None, 'Programmer', Decimal('4000'), Decimal('10000'), 'IT', 'Alexander', None, None, '2014 Jabberwocky Rd', '26192', 'Southlake', 'Texas', 'United States of America', 'Americas')\n",
      "(106, 'Valli', 'Pataballa', 'VPATABAL', '590.423.4560', datetime.date(1998, 2, 5), Decimal('4800.00'), None, 'Programmer', Decimal('4000'), Decimal('10000'), 'IT', 'Alexander', None, None, '2014 Jabberwocky Rd', '26192', 'Southlake', 'Texas', 'United States of America', 'Americas')\n",
      "(107, 'Diana', 'Lorentz', 'DLORENTZ', '590.423.5567', datetime.date(1999, 2, 7), Decimal('4200.00'), None, 'Programmer', Decimal('4000'), Decimal('10000'), 'IT', 'Alexander', None, None, '2014 Jabberwocky Rd', '26192', 'Southlake', 'Texas', 'United States of America', 'Americas')\n",
      "(201, 'Michael', 'Hartstein', 'MHARTSTE', '515.123.5555', datetime.date(1996, 2, 17), Decimal('13000.00'), None, 'Marketing Manager', Decimal('9000'), Decimal('15000'), 'Marketing', 'Steven', datetime.date(1996, 2, 27), datetime.date(1999, 12, 19), '147 Spadina Ave', 'M5V 2L7', 'Toronto', 'Ontario', 'Canada', 'Americas')\n",
      "(202, 'Pat', 'Fay', 'PFAY', '603.123.6666', datetime.date(1997, 8, 17), Decimal('6000.00'), None, 'Marketing Representative', Decimal('4000'), Decimal('9000'), 'Marketing', 'Michael', None, None, '147 Spadina Ave', 'M5V 2L7', 'Toronto', 'Ontario', 'Canada', 'Americas')\n",
      "(204, 'Hermann', 'Baer', 'HBAER', '515.123.8888', datetime.date(1994, 6, 7), Decimal('10000.00'), None, 'Public Relations Representative', Decimal('4500'), Decimal('10500'), 'Public Relations', 'Neena', None, None, 'Schwanthalerstr. 7031', '80925', 'Munich', 'Bavaria', 'Germany', 'Europe')\n",
      "(115, 'Alexander', 'Khoo', 'AKHOO', '515.127.4562', datetime.date(1995, 5, 18), Decimal('3100.00'), None, 'Purchasing Clerk', Decimal('2500'), Decimal('5500'), 'Purchasing', 'Den', None, None, '2004 Charade Rd', '98199', 'Seattle', 'Washington', 'United States of America', 'Americas')\n",
      "(116, 'Shelli', 'Baida', 'SBAIDA', '515.127.4563', datetime.date(1997, 12, 24), Decimal('2900.00'), None, 'Purchasing Clerk', Decimal('2500'), Decimal('5500'), 'Purchasing', 'Den', None, None, '2004 Charade Rd', '98199', 'Seattle', 'Washington', 'United States of America', 'Americas')\n",
      "(117, 'Sigal', 'Tobias', 'STOBIAS', '515.127.4564', datetime.date(1997, 7, 24), Decimal('2800.00'), None, 'Purchasing Clerk', Decimal('2500'), Decimal('5500'), 'Purchasing', 'Den', None, None, '2004 Charade Rd', '98199', 'Seattle', 'Washington', 'United States of America', 'Americas')\n",
      "(118, 'Guy', 'Himuro', 'GHIMURO', '515.127.4565', datetime.date(1998, 11, 15), Decimal('2600.00'), None, 'Purchasing Clerk', Decimal('2500'), Decimal('5500'), 'Purchasing', 'Den', None, None, '2004 Charade Rd', '98199', 'Seattle', 'Washington', 'United States of America', 'Americas')\n",
      "(119, 'Karen', 'Colmenares', 'KCOLMENA', '515.127.4566', datetime.date(1999, 8, 10), Decimal('2500.00'), None, 'Purchasing Clerk', Decimal('2500'), Decimal('5500'), 'Purchasing', 'Den', None, None, '2004 Charade Rd', '98199', 'Seattle', 'Washington', 'United States of America', 'Americas')\n",
      "(114, 'Den', 'Raphaely', 'DRAPHEAL', '515.127.4561', datetime.date(1994, 12, 7), Decimal('11000.00'), None, 'Purchasing Manager', Decimal('8000'), Decimal('15000'), 'Purchasing', 'Steven', datetime.date(1998, 3, 24), datetime.date(1999, 12, 31), '2004 Charade Rd', '98199', 'Seattle', 'Washington', 'United States of America', 'Americas')\n",
      "(145, 'John', 'Russell', 'JRUSSEL', '011.44.1344.429268', datetime.date(1996, 10, 1), Decimal('14000.00'), Decimal('0.40'), 'Sales Manager', Decimal('10000'), Decimal('20000'), 'Sales', 'Steven', None, None, 'Magdalen Centre, The Oxford Science Park', 'OX9 9ZB', 'Oxford', 'Oxford', 'United Kingdom', 'Europe')\n",
      "(146, 'Karen', 'Partners', 'KPARTNER', '011.44.1344.467268', datetime.date(1997, 1, 5), Decimal('13500.00'), Decimal('0.30'), 'Sales Manager', Decimal('10000'), Decimal('20000'), 'Sales', 'Steven', None, None, 'Magdalen Centre, The Oxford Science Park', 'OX9 9ZB', 'Oxford', 'Oxford', 'United Kingdom', 'Europe')\n",
      "(147, 'Alberto', 'Errazuriz', 'AERRAZUR', '011.44.1344.429278', datetime.date(1997, 3, 10), Decimal('12000.00'), Decimal('0.30'), 'Sales Manager', Decimal('10000'), Decimal('20000'), 'Sales', 'Steven', None, None, 'Magdalen Centre, The Oxford Science Park', 'OX9 9ZB', 'Oxford', 'Oxford', 'United Kingdom', 'Europe')\n",
      "(148, 'Gerald', 'Cambrault', 'GCAMBRAU', '011.44.1344.619268', datetime.date(1999, 10, 15), Decimal('11000.00'), Decimal('0.30'), 'Sales Manager', Decimal('10000'), Decimal('20000'), 'Sales', 'Steven', None, None, 'Magdalen Centre, The Oxford Science Park', 'OX9 9ZB', 'Oxford', 'Oxford', 'United Kingdom', 'Europe')\n",
      "(149, 'Eleni', 'Zlotkey', 'EZLOTKEY', '011.44.1344.429018', datetime.date(2000, 1, 29), Decimal('10500.00'), Decimal('0.20'), 'Sales Manager', Decimal('10000'), Decimal('20000'), 'Sales', 'Steven', None, None, 'Magdalen Centre, The Oxford Science Park', 'OX9 9ZB', 'Oxford', 'Oxford', 'United Kingdom', 'Europe')\n",
      "(150, 'Peter', 'Tucker', 'PTUCKER', '011.44.1344.129268', datetime.date(1997, 1, 30), Decimal('10000.00'), Decimal('0.30'), 'Sales Representative', Decimal('6000'), Decimal('12000'), 'Sales', 'John', None, None, 'Magdalen Centre, The Oxford Science Park', 'OX9 9ZB', 'Oxford', 'Oxford', 'United Kingdom', 'Europe')\n",
      "(151, 'David', 'Bernstein', 'DBERNSTE', '011.44.1344.345268', datetime.date(1997, 3, 24), Decimal('9500.00'), Decimal('0.25'), 'Sales Representative', Decimal('6000'), Decimal('12000'), 'Sales', 'John', None, None, 'Magdalen Centre, The Oxford Science Park', 'OX9 9ZB', 'Oxford', 'Oxford', 'United Kingdom', 'Europe')\n",
      "(152, 'Peter', 'Hall', 'PHALL', '011.44.1344.478968', datetime.date(1997, 8, 20), Decimal('9000.00'), Decimal('0.25'), 'Sales Representative', Decimal('6000'), Decimal('12000'), 'Sales', 'John', None, None, 'Magdalen Centre, The Oxford Science Park', 'OX9 9ZB', 'Oxford', 'Oxford', 'United Kingdom', 'Europe')\n",
      "(153, 'Christopher', 'Olsen', 'COLSEN', '011.44.1344.498718', datetime.date(1998, 3, 30), Decimal('8000.00'), Decimal('0.20'), 'Sales Representative', Decimal('6000'), Decimal('12000'), 'Sales', 'John', None, None, 'Magdalen Centre, The Oxford Science Park', 'OX9 9ZB', 'Oxford', 'Oxford', 'United Kingdom', 'Europe')\n",
      "(154, 'Nanette', 'Cambrault', 'NCAMBRAU', '011.44.1344.987668', datetime.date(1998, 12, 9), Decimal('7500.00'), Decimal('0.20'), 'Sales Representative', Decimal('6000'), Decimal('12000'), 'Sales', 'John', None, None, 'Magdalen Centre, The Oxford Science Park', 'OX9 9ZB', 'Oxford', 'Oxford', 'United Kingdom', 'Europe')\n",
      "(155, 'Oliver', 'Tuvault', 'OTUVAULT', '011.44.1344.486508', datetime.date(1999, 11, 23), Decimal('7000.00'), Decimal('0.15'), 'Sales Representative', Decimal('6000'), Decimal('12000'), 'Sales', 'John', None, None, 'Magdalen Centre, The Oxford Science Park', 'OX9 9ZB', 'Oxford', 'Oxford', 'United Kingdom', 'Europe')\n",
      "(156, 'Janette', 'King', 'JKING', '011.44.1345.429268', datetime.date(1996, 1, 30), Decimal('10000.00'), Decimal('0.35'), 'Sales Representative', Decimal('6000'), Decimal('12000'), 'Sales', 'Karen', None, None, 'Magdalen Centre, The Oxford Science Park', 'OX9 9ZB', 'Oxford', 'Oxford', 'United Kingdom', 'Europe')\n",
      "(157, 'Patrick', 'Sully', 'PSULLY', '011.44.1345.929268', datetime.date(1996, 3, 4), Decimal('9500.00'), Decimal('0.35'), 'Sales Representative', Decimal('6000'), Decimal('12000'), 'Sales', 'Karen', None, None, 'Magdalen Centre, The Oxford Science Park', 'OX9 9ZB', 'Oxford', 'Oxford', 'United Kingdom', 'Europe')\n",
      "(158, 'Allan', 'McEwen', 'AMCEWEN', '011.44.1345.829268', datetime.date(1996, 8, 1), Decimal('9000.00'), Decimal('0.35'), 'Sales Representative', Decimal('6000'), Decimal('12000'), 'Sales', 'Karen', None, None, 'Magdalen Centre, The Oxford Science Park', 'OX9 9ZB', 'Oxford', 'Oxford', 'United Kingdom', 'Europe')\n",
      "(159, 'Lindsey', 'Smith', 'LSMITH', '011.44.1345.729268', datetime.date(1997, 3, 10), Decimal('8000.00'), Decimal('0.30'), 'Sales Representative', Decimal('6000'), Decimal('12000'), 'Sales', 'Karen', None, None, 'Magdalen Centre, The Oxford Science Park', 'OX9 9ZB', 'Oxford', 'Oxford', 'United Kingdom', 'Europe')\n",
      "(160, 'Louise', 'Doran', 'LDORAN', '011.44.1345.629268', datetime.date(1997, 12, 15), Decimal('7500.00'), Decimal('0.30'), 'Sales Representative', Decimal('6000'), Decimal('12000'), 'Sales', 'Karen', None, None, 'Magdalen Centre, The Oxford Science Park', 'OX9 9ZB', 'Oxford', 'Oxford', 'United Kingdom', 'Europe')\n",
      "(161, 'Sarath', 'Sewall', 'SSEWALL', '011.44.1345.529268', datetime.date(1998, 11, 3), Decimal('7000.00'), Decimal('0.25'), 'Sales Representative', Decimal('6000'), Decimal('12000'), 'Sales', 'Karen', None, None, 'Magdalen Centre, The Oxford Science Park', 'OX9 9ZB', 'Oxford', 'Oxford', 'United Kingdom', 'Europe')\n",
      "(162, 'Clara', 'Vishney', 'CVISHNEY', '011.44.1346.129268', datetime.date(1997, 11, 11), Decimal('10500.00'), Decimal('0.25'), 'Sales Representative', Decimal('6000'), Decimal('12000'), 'Sales', 'Alberto', None, None, 'Magdalen Centre, The Oxford Science Park', 'OX9 9ZB', 'Oxford', 'Oxford', 'United Kingdom', 'Europe')\n",
      "(163, 'Danielle', 'Greene', 'DGREENE', '011.44.1346.229268', datetime.date(1999, 3, 19), Decimal('9500.00'), Decimal('0.15'), 'Sales Representative', Decimal('6000'), Decimal('12000'), 'Sales', 'Alberto', None, None, 'Magdalen Centre, The Oxford Science Park', 'OX9 9ZB', 'Oxford', 'Oxford', 'United Kingdom', 'Europe')\n",
      "(164, 'Mattea', 'Marvins', 'MMARVINS', '011.44.1346.329268', datetime.date(2000, 1, 24), Decimal('7200.00'), Decimal('0.10'), 'Sales Representative', Decimal('6000'), Decimal('12000'), 'Sales', 'Alberto', None, None, 'Magdalen Centre, The Oxford Science Park', 'OX9 9ZB', 'Oxford', 'Oxford', 'United Kingdom', 'Europe')\n",
      "(165, 'David', 'Lee', 'DLEE', '011.44.1346.529268', datetime.date(2000, 2, 23), Decimal('6800.00'), Decimal('0.10'), 'Sales Representative', Decimal('6000'), Decimal('12000'), 'Sales', 'Alberto', None, None, 'Magdalen Centre, The Oxford Science Park', 'OX9 9ZB', 'Oxford', 'Oxford', 'United Kingdom', 'Europe')\n",
      "(166, 'Sundar', 'Ande', 'SANDE', '011.44.1346.629268', datetime.date(2000, 3, 24), Decimal('6400.00'), Decimal('0.10'), 'Sales Representative', Decimal('6000'), Decimal('12000'), 'Sales', 'Alberto', None, None, 'Magdalen Centre, The Oxford Science Park', 'OX9 9ZB', 'Oxford', 'Oxford', 'United Kingdom', 'Europe')\n",
      "(167, 'Amit', 'Banda', 'ABANDA', '011.44.1346.729268', datetime.date(2000, 4, 21), Decimal('6200.00'), Decimal('0.10'), 'Sales Representative', Decimal('6000'), Decimal('12000'), 'Sales', 'Alberto', None, None, 'Magdalen Centre, The Oxford Science Park', 'OX9 9ZB', 'Oxford', 'Oxford', 'United Kingdom', 'Europe')\n",
      "(168, 'Lisa', 'Ozer', 'LOZER', '011.44.1343.929268', datetime.date(1997, 3, 11), Decimal('11500.00'), Decimal('0.25'), 'Sales Representative', Decimal('6000'), Decimal('12000'), 'Sales', 'Gerald', None, None, 'Magdalen Centre, The Oxford Science Park', 'OX9 9ZB', 'Oxford', 'Oxford', 'United Kingdom', 'Europe')\n",
      "(169, 'Harrison', 'Bloom', 'HBLOOM', '011.44.1343.829268', datetime.date(1998, 3, 23), Decimal('10000.00'), Decimal('0.20'), 'Sales Representative', Decimal('6000'), Decimal('12000'), 'Sales', 'Gerald', None, None, 'Magdalen Centre, The Oxford Science Park', 'OX9 9ZB', 'Oxford', 'Oxford', 'United Kingdom', 'Europe')\n",
      "(170, 'Tayler', 'Fox', 'TFOX', '011.44.1343.729268', datetime.date(1998, 1, 24), Decimal('9600.00'), Decimal('0.20'), 'Sales Representative', Decimal('6000'), Decimal('12000'), 'Sales', 'Gerald', None, None, 'Magdalen Centre, The Oxford Science Park', 'OX9 9ZB', 'Oxford', 'Oxford', 'United Kingdom', 'Europe')\n",
      "(171, 'William', 'Smith', 'WSMITH', '011.44.1343.629268', datetime.date(1999, 2, 23), Decimal('7400.00'), Decimal('0.15'), 'Sales Representative', Decimal('6000'), Decimal('12000'), 'Sales', 'Gerald', None, None, 'Magdalen Centre, The Oxford Science Park', 'OX9 9ZB', 'Oxford', 'Oxford', 'United Kingdom', 'Europe')\n",
      "(172, 'Elizabeth', 'Bates', 'EBATES', '011.44.1343.529268', datetime.date(1999, 3, 24), Decimal('7300.00'), Decimal('0.15'), 'Sales Representative', Decimal('6000'), Decimal('12000'), 'Sales', 'Gerald', None, None, 'Magdalen Centre, The Oxford Science Park', 'OX9 9ZB', 'Oxford', 'Oxford', 'United Kingdom', 'Europe')\n",
      "(173, 'Sundita', 'Kumar', 'SKUMAR', '011.44.1343.329268', datetime.date(2000, 4, 21), Decimal('6100.00'), Decimal('0.10'), 'Sales Representative', Decimal('6000'), Decimal('12000'), 'Sales', 'Gerald', None, None, 'Magdalen Centre, The Oxford Science Park', 'OX9 9ZB', 'Oxford', 'Oxford', 'United Kingdom', 'Europe')\n",
      "(174, 'Ellen', 'Abel', 'EABEL', '011.44.1644.429267', datetime.date(1996, 5, 11), Decimal('11000.00'), Decimal('0.30'), 'Sales Representative', Decimal('6000'), Decimal('12000'), 'Sales', 'Eleni', None, None, 'Magdalen Centre, The Oxford Science Park', 'OX9 9ZB', 'Oxford', 'Oxford', 'United Kingdom', 'Europe')\n",
      "(175, 'Alyssa', 'Hutton', 'AHUTTON', '011.44.1644.429266', datetime.date(1997, 3, 19), Decimal('8800.00'), Decimal('0.25'), 'Sales Representative', Decimal('6000'), Decimal('12000'), 'Sales', 'Eleni', None, None, 'Magdalen Centre, The Oxford Science Park', 'OX9 9ZB', 'Oxford', 'Oxford', 'United Kingdom', 'Europe')\n",
      "(176, 'Jonathon', 'Taylor', 'JTAYLOR', '011.44.1644.429265', datetime.date(1998, 3, 24), Decimal('8600.00'), Decimal('0.20'), 'Sales Representative', Decimal('6000'), Decimal('12000'), 'Sales', 'Eleni', datetime.date(1998, 3, 24), datetime.date(1999, 12, 31), 'Magdalen Centre, The Oxford Science Park', 'OX9 9ZB', 'Oxford', 'Oxford', 'United Kingdom', 'Europe')\n",
      "(177, 'Jack', 'Livingston', 'JLIVINGS', '011.44.1644.429264', datetime.date(1998, 4, 23), Decimal('8400.00'), Decimal('0.20'), 'Sales Representative', Decimal('6000'), Decimal('12000'), 'Sales', 'Eleni', None, None, 'Magdalen Centre, The Oxford Science Park', 'OX9 9ZB', 'Oxford', 'Oxford', 'United Kingdom', 'Europe')\n",
      "(178, 'Kimberely', 'Grant', 'KGRANT', '011.44.1644.429263', datetime.date(1999, 5, 24), Decimal('7000.00'), Decimal('0.15'), 'Sales Representative', Decimal('6000'), Decimal('12000'), None, 'Eleni', None, None, None, None, None, None, None, None)\n",
      "(179, 'Charles', 'Johnson', 'CJOHNSON', '011.44.1644.429262', datetime.date(2000, 1, 4), Decimal('6200.00'), Decimal('0.10'), 'Sales Representative', Decimal('6000'), Decimal('12000'), 'Sales', 'Eleni', None, None, 'Magdalen Centre, The Oxford Science Park', 'OX9 9ZB', 'Oxford', 'Oxford', 'United Kingdom', 'Europe')\n",
      "(180, 'Winston', 'Taylor', 'WTAYLOR', '650.507.9876', datetime.date(1998, 1, 24), Decimal('3200.00'), None, 'Shipping Clerk', Decimal('2500'), Decimal('5500'), 'Shipping', 'Matthew', None, None, '2011 Interiors Blvd', '99236', 'South San Francisco', 'California', 'United States of America', 'Americas')\n",
      "(181, 'Jean', 'Fleaur', 'JFLEAUR', '650.507.9877', datetime.date(1998, 2, 23), Decimal('3100.00'), None, 'Shipping Clerk', Decimal('2500'), Decimal('5500'), 'Shipping', 'Matthew', None, None, '2011 Interiors Blvd', '99236', 'South San Francisco', 'California', 'United States of America', 'Americas')\n",
      "(182, 'Martha', 'Sullivan', 'MSULLIVA', '650.507.9878', datetime.date(1999, 6, 21), Decimal('2500.00'), None, 'Shipping Clerk', Decimal('2500'), Decimal('5500'), 'Shipping', 'Matthew', None, None, '2011 Interiors Blvd', '99236', 'South San Francisco', 'California', 'United States of America', 'Americas')\n",
      "(183, 'Girard', 'Geoni', 'GGEONI', '650.507.9879', datetime.date(2000, 2, 3), Decimal('2800.00'), None, 'Shipping Clerk', Decimal('2500'), Decimal('5500'), 'Shipping', 'Matthew', None, None, '2011 Interiors Blvd', '99236', 'South San Francisco', 'California', 'United States of America', 'Americas')\n",
      "(184, 'Nandita', 'Sarchand', 'NSARCHAN', '650.509.1876', datetime.date(1996, 1, 27), Decimal('4200.00'), None, 'Shipping Clerk', Decimal('2500'), Decimal('5500'), 'Shipping', 'Adam', None, None, '2011 Interiors Blvd', '99236', 'South San Francisco', 'California', 'United States of America', 'Americas')\n",
      "(185, 'Alexis', 'Bull', 'ABULL', '650.509.2876', datetime.date(1997, 2, 20), Decimal('4100.00'), None, 'Shipping Clerk', Decimal('2500'), Decimal('5500'), 'Shipping', 'Adam', None, None, '2011 Interiors Blvd', '99236', 'South San Francisco', 'California', 'United States of America', 'Americas')\n",
      "(186, 'Julia', 'Dellinger', 'JDELLING', '650.509.3876', datetime.date(1998, 6, 24), Decimal('3400.00'), None, 'Shipping Clerk', Decimal('2500'), Decimal('5500'), 'Shipping', 'Adam', None, None, '2011 Interiors Blvd', '99236', 'South San Francisco', 'California', 'United States of America', 'Americas')\n",
      "(187, 'Anthony', 'Cabrio', 'ACABRIO', '650.509.4876', datetime.date(1999, 2, 7), Decimal('3000.00'), None, 'Shipping Clerk', Decimal('2500'), Decimal('5500'), 'Shipping', 'Adam', None, None, '2011 Interiors Blvd', '99236', 'South San Francisco', 'California', 'United States of America', 'Americas')\n",
      "(188, 'Kelly', 'Chung', 'KCHUNG', '650.505.1876', datetime.date(1997, 6, 14), Decimal('3800.00'), None, 'Shipping Clerk', Decimal('2500'), Decimal('5500'), 'Shipping', 'Payam', None, None, '2011 Interiors Blvd', '99236', 'South San Francisco', 'California', 'United States of America', 'Americas')\n",
      "(189, 'Jennifer', 'Dilly', 'JDILLY', '650.505.2876', datetime.date(1997, 8, 13), Decimal('3600.00'), None, 'Shipping Clerk', Decimal('2500'), Decimal('5500'), 'Shipping', 'Payam', None, None, '2011 Interiors Blvd', '99236', 'South San Francisco', 'California', 'United States of America', 'Americas')\n",
      "(190, 'Timothy', 'Gates', 'TGATES', '650.505.3876', datetime.date(1998, 7, 11), Decimal('2900.00'), None, 'Shipping Clerk', Decimal('2500'), Decimal('5500'), 'Shipping', 'Payam', None, None, '2011 Interiors Blvd', '99236', 'South San Francisco', 'California', 'United States of America', 'Americas')\n",
      "(191, 'Randall', 'Perkins', 'RPERKINS', '650.505.4876', datetime.date(1999, 12, 19), Decimal('2500.00'), None, 'Shipping Clerk', Decimal('2500'), Decimal('5500'), 'Shipping', 'Payam', None, None, '2011 Interiors Blvd', '99236', 'South San Francisco', 'California', 'United States of America', 'Americas')\n",
      "(192, 'Sarah', 'Bell', 'SBELL', '650.501.1876', datetime.date(1996, 2, 4), Decimal('4000.00'), None, 'Shipping Clerk', Decimal('2500'), Decimal('5500'), 'Shipping', 'Shanta', None, None, '2011 Interiors Blvd', '99236', 'South San Francisco', 'California', 'United States of America', 'Americas')\n",
      "(193, 'Britney', 'Everett', 'BEVERETT', '650.501.2876', datetime.date(1997, 3, 3), Decimal('3900.00'), None, 'Shipping Clerk', Decimal('2500'), Decimal('5500'), 'Shipping', 'Shanta', None, None, '2011 Interiors Blvd', '99236', 'South San Francisco', 'California', 'United States of America', 'Americas')\n",
      "(194, 'Samuel', 'McCain', 'SMCCAIN', '650.501.3876', datetime.date(1998, 7, 1), Decimal('3200.00'), None, 'Shipping Clerk', Decimal('2500'), Decimal('5500'), 'Shipping', 'Shanta', None, None, '2011 Interiors Blvd', '99236', 'South San Francisco', 'California', 'United States of America', 'Americas')\n",
      "(195, 'Vance', 'Jones', 'VJONES', '650.501.4876', datetime.date(1999, 3, 17), Decimal('2800.00'), None, 'Shipping Clerk', Decimal('2500'), Decimal('5500'), 'Shipping', 'Shanta', None, None, '2011 Interiors Blvd', '99236', 'South San Francisco', 'California', 'United States of America', 'Americas')\n",
      "(196, 'Alana', 'Walsh', 'AWALSH', '650.507.9811', datetime.date(1998, 4, 24), Decimal('3100.00'), None, 'Shipping Clerk', Decimal('2500'), Decimal('5500'), 'Shipping', 'Kevin', None, None, '2011 Interiors Blvd', '99236', 'South San Francisco', 'California', 'United States of America', 'Americas')\n",
      "(197, 'Kevin', 'Feeney', 'KFEENEY', '650.507.9822', datetime.date(1998, 5, 23), Decimal('3000.00'), None, 'Shipping Clerk', Decimal('2500'), Decimal('5500'), 'Shipping', 'Kevin', None, None, '2011 Interiors Blvd', '99236', 'South San Francisco', 'California', 'United States of America', 'Americas')\n",
      "(198, 'Donald', 'OConnell', 'DOCONNEL', '650.507.9833', datetime.date(1999, 6, 21), Decimal('2600.00'), None, 'Shipping Clerk', Decimal('2500'), Decimal('5500'), 'Shipping', 'Kevin', None, None, '2011 Interiors Blvd', '99236', 'South San Francisco', 'California', 'United States of America', 'Americas')\n",
      "(199, 'Douglas', 'Grant', 'DGRANT', '650.507.9844', datetime.date(2000, 1, 13), Decimal('2600.00'), None, 'Shipping Clerk', Decimal('2500'), Decimal('5500'), 'Shipping', 'Kevin', None, None, '2011 Interiors Blvd', '99236', 'South San Francisco', 'California', 'United States of America', 'Americas')\n",
      "(125, 'Julia', 'Nayer', 'JNAYER', '650.124.1214', datetime.date(1997, 7, 16), Decimal('3200.00'), None, 'Stock Clerk', Decimal('2000'), Decimal('5000'), 'Shipping', 'Matthew', None, None, '2011 Interiors Blvd', '99236', 'South San Francisco', 'California', 'United States of America', 'Americas')\n",
      "(126, 'Irene', 'Mikkilineni', 'IMIKKILI', '650.124.1224', datetime.date(1998, 9, 28), Decimal('2700.00'), None, 'Stock Clerk', Decimal('2000'), Decimal('5000'), 'Shipping', 'Matthew', None, None, '2011 Interiors Blvd', '99236', 'South San Francisco', 'California', 'United States of America', 'Americas')\n",
      "(127, 'James', 'Landry', 'JLANDRY', '650.124.1334', datetime.date(1999, 1, 14), Decimal('2400.00'), None, 'Stock Clerk', Decimal('2000'), Decimal('5000'), 'Shipping', 'Matthew', None, None, '2011 Interiors Blvd', '99236', 'South San Francisco', 'California', 'United States of America', 'Americas')\n",
      "(128, 'Steven', 'Markle', 'SMARKLE', '650.124.1434', datetime.date(2000, 3, 8), Decimal('2200.00'), None, 'Stock Clerk', Decimal('2000'), Decimal('5000'), 'Shipping', 'Matthew', None, None, '2011 Interiors Blvd', '99236', 'South San Francisco', 'California', 'United States of America', 'Americas')\n",
      "(129, 'Laura', 'Bissot', 'LBISSOT', '650.124.5234', datetime.date(1997, 8, 20), Decimal('3300.00'), None, 'Stock Clerk', Decimal('2000'), Decimal('5000'), 'Shipping', 'Adam', None, None, '2011 Interiors Blvd', '99236', 'South San Francisco', 'California', 'United States of America', 'Americas')\n",
      "(130, 'Mozhe', 'Atkinson', 'MATKINSO', '650.124.6234', datetime.date(1997, 10, 30), Decimal('2800.00'), None, 'Stock Clerk', Decimal('2000'), Decimal('5000'), 'Shipping', 'Adam', None, None, '2011 Interiors Blvd', '99236', 'South San Francisco', 'California', 'United States of America', 'Americas')\n",
      "(131, 'James', 'Marlow', 'JAMRLOW', '650.124.7234', datetime.date(1997, 2, 16), Decimal('2500.00'), None, 'Stock Clerk', Decimal('2000'), Decimal('5000'), 'Shipping', 'Adam', None, None, '2011 Interiors Blvd', '99236', 'South San Francisco', 'California', 'United States of America', 'Americas')\n",
      "(132, 'TJ', 'Olson', 'TJOLSON', '650.124.8234', datetime.date(1999, 4, 10), Decimal('2100.00'), None, 'Stock Clerk', Decimal('2000'), Decimal('5000'), 'Shipping', 'Adam', None, None, '2011 Interiors Blvd', '99236', 'South San Francisco', 'California', 'United States of America', 'Americas')\n",
      "(133, 'Jason', 'Mallin', 'JMALLIN', '650.127.1934', datetime.date(1996, 6, 14), Decimal('3300.00'), None, 'Stock Clerk', Decimal('2000'), Decimal('5000'), 'Shipping', 'Payam', None, None, '2011 Interiors Blvd', '99236', 'South San Francisco', 'California', 'United States of America', 'Americas')\n",
      "(134, 'Michael', 'Rogers', 'MROGERS', '650.127.1834', datetime.date(1998, 8, 26), Decimal('2900.00'), None, 'Stock Clerk', Decimal('2000'), Decimal('5000'), 'Shipping', 'Payam', None, None, '2011 Interiors Blvd', '99236', 'South San Francisco', 'California', 'United States of America', 'Americas')\n",
      "(135, 'Ki', 'Gee', 'KGEE', '650.127.1734', datetime.date(1999, 12, 12), Decimal('2400.00'), None, 'Stock Clerk', Decimal('2000'), Decimal('5000'), 'Shipping', 'Payam', None, None, '2011 Interiors Blvd', '99236', 'South San Francisco', 'California', 'United States of America', 'Americas')\n",
      "(136, 'Hazel', 'Philtanker', 'HPHILTAN', '650.127.1634', datetime.date(2000, 2, 6), Decimal('2200.00'), None, 'Stock Clerk', Decimal('2000'), Decimal('5000'), 'Shipping', 'Payam', None, None, '2011 Interiors Blvd', '99236', 'South San Francisco', 'California', 'United States of America', 'Americas')\n",
      "(137, 'Renske', 'Ladwig', 'RLADWIG', '650.121.1234', datetime.date(1995, 7, 14), Decimal('3600.00'), None, 'Stock Clerk', Decimal('2000'), Decimal('5000'), 'Shipping', 'Shanta', None, None, '2011 Interiors Blvd', '99236', 'South San Francisco', 'California', 'United States of America', 'Americas')\n",
      "(138, 'Stephen', 'Stiles', 'SSTILES', '650.121.2034', datetime.date(1997, 10, 26), Decimal('3200.00'), None, 'Stock Clerk', Decimal('2000'), Decimal('5000'), 'Shipping', 'Shanta', None, None, '2011 Interiors Blvd', '99236', 'South San Francisco', 'California', 'United States of America', 'Americas')\n",
      "(139, 'John', 'Seo', 'JSEO', '650.121.2019', datetime.date(1998, 2, 12), Decimal('2700.00'), None, 'Stock Clerk', Decimal('2000'), Decimal('5000'), 'Shipping', 'Shanta', None, None, '2011 Interiors Blvd', '99236', 'South San Francisco', 'California', 'United States of America', 'Americas')\n",
      "(140, 'Joshua', 'Patel', 'JPATEL', '650.121.1834', datetime.date(1998, 4, 6), Decimal('2500.00'), None, 'Stock Clerk', Decimal('2000'), Decimal('5000'), 'Shipping', 'Shanta', None, None, '2011 Interiors Blvd', '99236', 'South San Francisco', 'California', 'United States of America', 'Americas')\n",
      "(141, 'Trenna', 'Rajs', 'TRAJS', '650.121.8009', datetime.date(1995, 10, 17), Decimal('3500.00'), None, 'Stock Clerk', Decimal('2000'), Decimal('5000'), 'Shipping', 'Kevin', None, None, '2011 Interiors Blvd', '99236', 'South San Francisco', 'California', 'United States of America', 'Americas')\n",
      "(142, 'Curtis', 'Davies', 'CDAVIES', '650.121.2994', datetime.date(1997, 1, 29), Decimal('3100.00'), None, 'Stock Clerk', Decimal('2000'), Decimal('5000'), 'Shipping', 'Kevin', None, None, '2011 Interiors Blvd', '99236', 'South San Francisco', 'California', 'United States of America', 'Americas')\n",
      "(143, 'Randall', 'Matos', 'RMATOS', '650.121.2874', datetime.date(1998, 3, 15), Decimal('2600.00'), None, 'Stock Clerk', Decimal('2000'), Decimal('5000'), 'Shipping', 'Kevin', None, None, '2011 Interiors Blvd', '99236', 'South San Francisco', 'California', 'United States of America', 'Americas')\n",
      "(144, 'Peter', 'Vargas', 'PVARGAS', '650.121.2004', datetime.date(1998, 7, 9), Decimal('2500.00'), None, 'Stock Clerk', Decimal('2000'), Decimal('5000'), 'Shipping', 'Kevin', None, None, '2011 Interiors Blvd', '99236', 'South San Francisco', 'California', 'United States of America', 'Americas')\n",
      "(120, 'Matthew', 'Weiss', 'MWEISS', '650.123.1234', datetime.date(1996, 7, 18), Decimal('8000.00'), None, 'Stock Manager', Decimal('5500'), Decimal('8500'), 'Shipping', 'Steven', None, None, '2011 Interiors Blvd', '99236', 'South San Francisco', 'California', 'United States of America', 'Americas')\n",
      "(121, 'Adam', 'Fripp', 'AFRIPP', '650.123.2234', datetime.date(1997, 4, 10), Decimal('8200.00'), None, 'Stock Manager', Decimal('5500'), Decimal('8500'), 'Shipping', 'Steven', None, None, '2011 Interiors Blvd', '99236', 'South San Francisco', 'California', 'United States of America', 'Americas')\n",
      "(122, 'Payam', 'Kaufling', 'PKAUFLIN', '650.123.3234', datetime.date(1995, 5, 1), Decimal('7900.00'), None, 'Stock Manager', Decimal('5500'), Decimal('8500'), 'Shipping', 'Steven', datetime.date(1999, 1, 1), datetime.date(1999, 12, 31), '2011 Interiors Blvd', '99236', 'South San Francisco', 'California', 'United States of America', 'Americas')\n",
      "(123, 'Shanta', 'Vollman', 'SVOLLMAN', '650.123.4234', datetime.date(1997, 10, 10), Decimal('6500.00'), None, 'Stock Manager', Decimal('5500'), Decimal('8500'), 'Shipping', 'Steven', None, None, '2011 Interiors Blvd', '99236', 'South San Francisco', 'California', 'United States of America', 'Americas')\n",
      "(124, 'Kevin', 'Mourgos', 'KMOURGOS', '650.123.5234', datetime.date(1999, 11, 16), Decimal('5800.00'), None, 'Stock Manager', Decimal('5500'), Decimal('8500'), 'Shipping', 'Steven', None, None, '2011 Interiors Blvd', '99236', 'South San Francisco', 'California', 'United States of America', 'Americas')\n"
     ]
    }
   ],
   "source": [
    "databaseFetchRecords = employeeRecordsDatabase.cursor()\n",
    "databaseFetchRecords.execute(\"SELECT * FROM employeerecordsfinalview\")\n",
    "result = databaseFetchRecords.fetchall()\n",
    "\n",
    "for i in result:\n",
    "    print(i)"
   ]
  },
  {
   "cell_type": "markdown",
   "id": "dd0c2ece-8c1a-4926-a156-8053c51a2f96",
   "metadata": {},
   "source": [
    "### Fetching Column Names"
   ]
  },
  {
   "cell_type": "code",
   "execution_count": 27,
   "id": "e8cda216-8158-45e5-8d78-1f61ca822601",
   "metadata": {},
   "outputs": [
    {
     "data": {
      "text/plain": [
       "[('employee_id', 3, None, None, None, None, 0, 36897, 63),\n",
       " ('first_name', 253, None, None, None, None, 1, 0, 255),\n",
       " ('last_name', 253, None, None, None, None, 0, 4097, 255),\n",
       " ('email', 253, None, None, None, None, 0, 4097, 255),\n",
       " ('phone_number', 253, None, None, None, None, 1, 0, 255),\n",
       " ('hire_date', 10, None, None, None, None, 0, 4225, 63),\n",
       " ('salary', 246, None, None, None, None, 0, 36865, 63),\n",
       " ('commission_pct', 246, None, None, None, None, 1, 32768, 63),\n",
       " ('job_title', 253, None, None, None, None, 0, 4097, 255),\n",
       " ('min_salary', 246, None, None, None, None, 1, 32800, 63),\n",
       " ('max_salary', 246, None, None, None, None, 1, 32800, 63),\n",
       " ('department_name', 253, None, None, None, None, 1, 4096, 255),\n",
       " ('manager_name', 253, None, None, None, None, 1, 0, 255),\n",
       " ('prev_employment_start_date', 10, None, None, None, None, 1, 4224, 63),\n",
       " ('prev_employment_end_date', 10, None, None, None, None, 1, 4224, 63),\n",
       " ('street_address', 253, None, None, None, None, 1, 0, 255),\n",
       " ('postal_code', 253, None, None, None, None, 1, 0, 255),\n",
       " ('city', 253, None, None, None, None, 1, 4096, 255),\n",
       " ('state_province', 253, None, None, None, None, 1, 0, 255),\n",
       " ('country_name', 253, None, None, None, None, 1, 0, 255),\n",
       " ('region_name', 253, None, None, None, None, 1, 0, 255)]"
      ]
     },
     "execution_count": 27,
     "metadata": {},
     "output_type": "execute_result"
    }
   ],
   "source": [
    "databaseFetchRecords.description"
   ]
  },
  {
   "cell_type": "markdown",
   "id": "b941f68a-de4f-4a1e-ad37-405854b2f0e6",
   "metadata": {},
   "source": [
    "### Creating Dataframe"
   ]
  },
  {
   "cell_type": "code",
   "execution_count": 28,
   "id": "7ec3b629-3d30-46a9-96ac-fd7cedbd063c",
   "metadata": {},
   "outputs": [
    {
     "data": {
      "text/html": [
       "<div>\n",
       "<style scoped>\n",
       "    .dataframe tbody tr th:only-of-type {\n",
       "        vertical-align: middle;\n",
       "    }\n",
       "\n",
       "    .dataframe tbody tr th {\n",
       "        vertical-align: top;\n",
       "    }\n",
       "\n",
       "    .dataframe thead th {\n",
       "        text-align: right;\n",
       "    }\n",
       "</style>\n",
       "<table border=\"1\" class=\"dataframe\">\n",
       "  <thead>\n",
       "    <tr style=\"text-align: right;\">\n",
       "      <th></th>\n",
       "      <th>employee_id</th>\n",
       "      <th>first_name</th>\n",
       "      <th>last_name</th>\n",
       "      <th>email</th>\n",
       "      <th>phone_number</th>\n",
       "      <th>hire_date</th>\n",
       "      <th>salary</th>\n",
       "      <th>commission_pct</th>\n",
       "      <th>job_title</th>\n",
       "      <th>min_salary</th>\n",
       "      <th>...</th>\n",
       "      <th>department_name</th>\n",
       "      <th>manager_name</th>\n",
       "      <th>prev_employment_start_date</th>\n",
       "      <th>prev_employment_end_date</th>\n",
       "      <th>street_address</th>\n",
       "      <th>postal_code</th>\n",
       "      <th>city</th>\n",
       "      <th>state_province</th>\n",
       "      <th>country_name</th>\n",
       "      <th>region_name</th>\n",
       "    </tr>\n",
       "  </thead>\n",
       "  <tbody>\n",
       "    <tr>\n",
       "      <th>0</th>\n",
       "      <td>206</td>\n",
       "      <td>William</td>\n",
       "      <td>Gietz</td>\n",
       "      <td>WGIETZ</td>\n",
       "      <td>51hr5.123.8181</td>\n",
       "      <td>1994-06-07</td>\n",
       "      <td>8300.00</td>\n",
       "      <td>None</td>\n",
       "      <td>Public Accountant</td>\n",
       "      <td>4200</td>\n",
       "      <td>...</td>\n",
       "      <td>Accounting</td>\n",
       "      <td>Shelley</td>\n",
       "      <td>None</td>\n",
       "      <td>None</td>\n",
       "      <td>2004 Charade Rd</td>\n",
       "      <td>98199</td>\n",
       "      <td>Seattle</td>\n",
       "      <td>Washington</td>\n",
       "      <td>United States of America</td>\n",
       "      <td>Americas</td>\n",
       "    </tr>\n",
       "    <tr>\n",
       "      <th>1</th>\n",
       "      <td>205</td>\n",
       "      <td>Shelley</td>\n",
       "      <td>Higgins</td>\n",
       "      <td>SHIGGINS</td>\n",
       "      <td>515.123.8080</td>\n",
       "      <td>1994-06-07</td>\n",
       "      <td>12000.00</td>\n",
       "      <td>None</td>\n",
       "      <td>Accounting Manager</td>\n",
       "      <td>8200</td>\n",
       "      <td>...</td>\n",
       "      <td>Accounting</td>\n",
       "      <td>Neena</td>\n",
       "      <td>None</td>\n",
       "      <td>None</td>\n",
       "      <td>2004 Charade Rd</td>\n",
       "      <td>98199</td>\n",
       "      <td>Seattle</td>\n",
       "      <td>Washington</td>\n",
       "      <td>United States of America</td>\n",
       "      <td>Americas</td>\n",
       "    </tr>\n",
       "    <tr>\n",
       "      <th>2</th>\n",
       "      <td>200</td>\n",
       "      <td>Jennifer</td>\n",
       "      <td>Whalen</td>\n",
       "      <td>JWHALEN</td>\n",
       "      <td>515.123.4444</td>\n",
       "      <td>1987-09-17</td>\n",
       "      <td>4400.00</td>\n",
       "      <td>None</td>\n",
       "      <td>Administration Assistant</td>\n",
       "      <td>3000</td>\n",
       "      <td>...</td>\n",
       "      <td>Administration</td>\n",
       "      <td>Neena</td>\n",
       "      <td>1987-09-17</td>\n",
       "      <td>1998-12-31</td>\n",
       "      <td>2004 Charade Rd</td>\n",
       "      <td>98199</td>\n",
       "      <td>Seattle</td>\n",
       "      <td>Washington</td>\n",
       "      <td>United States of America</td>\n",
       "      <td>Americas</td>\n",
       "    </tr>\n",
       "    <tr>\n",
       "      <th>3</th>\n",
       "      <td>100</td>\n",
       "      <td>Steven</td>\n",
       "      <td>King</td>\n",
       "      <td>SKING</td>\n",
       "      <td>515.123.4567</td>\n",
       "      <td>1987-06-17</td>\n",
       "      <td>24000.00</td>\n",
       "      <td>None</td>\n",
       "      <td>President</td>\n",
       "      <td>20000</td>\n",
       "      <td>...</td>\n",
       "      <td>Executive</td>\n",
       "      <td>None</td>\n",
       "      <td>None</td>\n",
       "      <td>None</td>\n",
       "      <td>2004 Charade Rd</td>\n",
       "      <td>98199</td>\n",
       "      <td>Seattle</td>\n",
       "      <td>Washington</td>\n",
       "      <td>United States of America</td>\n",
       "      <td>Americas</td>\n",
       "    </tr>\n",
       "    <tr>\n",
       "      <th>4</th>\n",
       "      <td>101</td>\n",
       "      <td>Neena</td>\n",
       "      <td>Kochhar</td>\n",
       "      <td>NKOCHHAR</td>\n",
       "      <td>515.123.4568</td>\n",
       "      <td>1989-09-21</td>\n",
       "      <td>17000.00</td>\n",
       "      <td>None</td>\n",
       "      <td>Administration Vice President</td>\n",
       "      <td>15000</td>\n",
       "      <td>...</td>\n",
       "      <td>Executive</td>\n",
       "      <td>Steven</td>\n",
       "      <td>1989-09-21</td>\n",
       "      <td>1997-03-15</td>\n",
       "      <td>2004 Charade Rd</td>\n",
       "      <td>98199</td>\n",
       "      <td>Seattle</td>\n",
       "      <td>Washington</td>\n",
       "      <td>United States of America</td>\n",
       "      <td>Americas</td>\n",
       "    </tr>\n",
       "    <tr>\n",
       "      <th>...</th>\n",
       "      <td>...</td>\n",
       "      <td>...</td>\n",
       "      <td>...</td>\n",
       "      <td>...</td>\n",
       "      <td>...</td>\n",
       "      <td>...</td>\n",
       "      <td>...</td>\n",
       "      <td>...</td>\n",
       "      <td>...</td>\n",
       "      <td>...</td>\n",
       "      <td>...</td>\n",
       "      <td>...</td>\n",
       "      <td>...</td>\n",
       "      <td>...</td>\n",
       "      <td>...</td>\n",
       "      <td>...</td>\n",
       "      <td>...</td>\n",
       "      <td>...</td>\n",
       "      <td>...</td>\n",
       "      <td>...</td>\n",
       "      <td>...</td>\n",
       "    </tr>\n",
       "    <tr>\n",
       "      <th>102</th>\n",
       "      <td>120</td>\n",
       "      <td>Matthew</td>\n",
       "      <td>Weiss</td>\n",
       "      <td>MWEISS</td>\n",
       "      <td>650.123.1234</td>\n",
       "      <td>1996-07-18</td>\n",
       "      <td>8000.00</td>\n",
       "      <td>None</td>\n",
       "      <td>Stock Manager</td>\n",
       "      <td>5500</td>\n",
       "      <td>...</td>\n",
       "      <td>Shipping</td>\n",
       "      <td>Steven</td>\n",
       "      <td>None</td>\n",
       "      <td>None</td>\n",
       "      <td>2011 Interiors Blvd</td>\n",
       "      <td>99236</td>\n",
       "      <td>South San Francisco</td>\n",
       "      <td>California</td>\n",
       "      <td>United States of America</td>\n",
       "      <td>Americas</td>\n",
       "    </tr>\n",
       "    <tr>\n",
       "      <th>103</th>\n",
       "      <td>121</td>\n",
       "      <td>Adam</td>\n",
       "      <td>Fripp</td>\n",
       "      <td>AFRIPP</td>\n",
       "      <td>650.123.2234</td>\n",
       "      <td>1997-04-10</td>\n",
       "      <td>8200.00</td>\n",
       "      <td>None</td>\n",
       "      <td>Stock Manager</td>\n",
       "      <td>5500</td>\n",
       "      <td>...</td>\n",
       "      <td>Shipping</td>\n",
       "      <td>Steven</td>\n",
       "      <td>None</td>\n",
       "      <td>None</td>\n",
       "      <td>2011 Interiors Blvd</td>\n",
       "      <td>99236</td>\n",
       "      <td>South San Francisco</td>\n",
       "      <td>California</td>\n",
       "      <td>United States of America</td>\n",
       "      <td>Americas</td>\n",
       "    </tr>\n",
       "    <tr>\n",
       "      <th>104</th>\n",
       "      <td>122</td>\n",
       "      <td>Payam</td>\n",
       "      <td>Kaufling</td>\n",
       "      <td>PKAUFLIN</td>\n",
       "      <td>650.123.3234</td>\n",
       "      <td>1995-05-01</td>\n",
       "      <td>7900.00</td>\n",
       "      <td>None</td>\n",
       "      <td>Stock Manager</td>\n",
       "      <td>5500</td>\n",
       "      <td>...</td>\n",
       "      <td>Shipping</td>\n",
       "      <td>Steven</td>\n",
       "      <td>1999-01-01</td>\n",
       "      <td>1999-12-31</td>\n",
       "      <td>2011 Interiors Blvd</td>\n",
       "      <td>99236</td>\n",
       "      <td>South San Francisco</td>\n",
       "      <td>California</td>\n",
       "      <td>United States of America</td>\n",
       "      <td>Americas</td>\n",
       "    </tr>\n",
       "    <tr>\n",
       "      <th>105</th>\n",
       "      <td>123</td>\n",
       "      <td>Shanta</td>\n",
       "      <td>Vollman</td>\n",
       "      <td>SVOLLMAN</td>\n",
       "      <td>650.123.4234</td>\n",
       "      <td>1997-10-10</td>\n",
       "      <td>6500.00</td>\n",
       "      <td>None</td>\n",
       "      <td>Stock Manager</td>\n",
       "      <td>5500</td>\n",
       "      <td>...</td>\n",
       "      <td>Shipping</td>\n",
       "      <td>Steven</td>\n",
       "      <td>None</td>\n",
       "      <td>None</td>\n",
       "      <td>2011 Interiors Blvd</td>\n",
       "      <td>99236</td>\n",
       "      <td>South San Francisco</td>\n",
       "      <td>California</td>\n",
       "      <td>United States of America</td>\n",
       "      <td>Americas</td>\n",
       "    </tr>\n",
       "    <tr>\n",
       "      <th>106</th>\n",
       "      <td>124</td>\n",
       "      <td>Kevin</td>\n",
       "      <td>Mourgos</td>\n",
       "      <td>KMOURGOS</td>\n",
       "      <td>650.123.5234</td>\n",
       "      <td>1999-11-16</td>\n",
       "      <td>5800.00</td>\n",
       "      <td>None</td>\n",
       "      <td>Stock Manager</td>\n",
       "      <td>5500</td>\n",
       "      <td>...</td>\n",
       "      <td>Shipping</td>\n",
       "      <td>Steven</td>\n",
       "      <td>None</td>\n",
       "      <td>None</td>\n",
       "      <td>2011 Interiors Blvd</td>\n",
       "      <td>99236</td>\n",
       "      <td>South San Francisco</td>\n",
       "      <td>California</td>\n",
       "      <td>United States of America</td>\n",
       "      <td>Americas</td>\n",
       "    </tr>\n",
       "  </tbody>\n",
       "</table>\n",
       "<p>107 rows × 21 columns</p>\n",
       "</div>"
      ],
      "text/plain": [
       "     employee_id first_name last_name     email    phone_number   hire_date  \\\n",
       "0            206    William     Gietz    WGIETZ  51hr5.123.8181  1994-06-07   \n",
       "1            205    Shelley   Higgins  SHIGGINS    515.123.8080  1994-06-07   \n",
       "2            200   Jennifer    Whalen   JWHALEN    515.123.4444  1987-09-17   \n",
       "3            100     Steven      King     SKING    515.123.4567  1987-06-17   \n",
       "4            101      Neena   Kochhar  NKOCHHAR    515.123.4568  1989-09-21   \n",
       "..           ...        ...       ...       ...             ...         ...   \n",
       "102          120    Matthew     Weiss    MWEISS    650.123.1234  1996-07-18   \n",
       "103          121       Adam     Fripp    AFRIPP    650.123.2234  1997-04-10   \n",
       "104          122      Payam  Kaufling  PKAUFLIN    650.123.3234  1995-05-01   \n",
       "105          123     Shanta   Vollman  SVOLLMAN    650.123.4234  1997-10-10   \n",
       "106          124      Kevin   Mourgos  KMOURGOS    650.123.5234  1999-11-16   \n",
       "\n",
       "       salary commission_pct                      job_title min_salary  ...  \\\n",
       "0     8300.00           None              Public Accountant       4200  ...   \n",
       "1    12000.00           None             Accounting Manager       8200  ...   \n",
       "2     4400.00           None       Administration Assistant       3000  ...   \n",
       "3    24000.00           None                      President      20000  ...   \n",
       "4    17000.00           None  Administration Vice President      15000  ...   \n",
       "..        ...            ...                            ...        ...  ...   \n",
       "102   8000.00           None                  Stock Manager       5500  ...   \n",
       "103   8200.00           None                  Stock Manager       5500  ...   \n",
       "104   7900.00           None                  Stock Manager       5500  ...   \n",
       "105   6500.00           None                  Stock Manager       5500  ...   \n",
       "106   5800.00           None                  Stock Manager       5500  ...   \n",
       "\n",
       "    department_name manager_name prev_employment_start_date  \\\n",
       "0        Accounting      Shelley                       None   \n",
       "1        Accounting        Neena                       None   \n",
       "2    Administration        Neena                 1987-09-17   \n",
       "3         Executive         None                       None   \n",
       "4         Executive       Steven                 1989-09-21   \n",
       "..              ...          ...                        ...   \n",
       "102        Shipping       Steven                       None   \n",
       "103        Shipping       Steven                       None   \n",
       "104        Shipping       Steven                 1999-01-01   \n",
       "105        Shipping       Steven                       None   \n",
       "106        Shipping       Steven                       None   \n",
       "\n",
       "    prev_employment_end_date       street_address postal_code  \\\n",
       "0                       None      2004 Charade Rd       98199   \n",
       "1                       None      2004 Charade Rd       98199   \n",
       "2                 1998-12-31      2004 Charade Rd       98199   \n",
       "3                       None      2004 Charade Rd       98199   \n",
       "4                 1997-03-15      2004 Charade Rd       98199   \n",
       "..                       ...                  ...         ...   \n",
       "102                     None  2011 Interiors Blvd       99236   \n",
       "103                     None  2011 Interiors Blvd       99236   \n",
       "104               1999-12-31  2011 Interiors Blvd       99236   \n",
       "105                     None  2011 Interiors Blvd       99236   \n",
       "106                     None  2011 Interiors Blvd       99236   \n",
       "\n",
       "                    city state_province              country_name region_name  \n",
       "0                Seattle     Washington  United States of America    Americas  \n",
       "1                Seattle     Washington  United States of America    Americas  \n",
       "2                Seattle     Washington  United States of America    Americas  \n",
       "3                Seattle     Washington  United States of America    Americas  \n",
       "4                Seattle     Washington  United States of America    Americas  \n",
       "..                   ...            ...                       ...         ...  \n",
       "102  South San Francisco     California  United States of America    Americas  \n",
       "103  South San Francisco     California  United States of America    Americas  \n",
       "104  South San Francisco     California  United States of America    Americas  \n",
       "105  South San Francisco     California  United States of America    Americas  \n",
       "106  South San Francisco     California  United States of America    Americas  \n",
       "\n",
       "[107 rows x 21 columns]"
      ]
     },
     "execution_count": 28,
     "metadata": {},
     "output_type": "execute_result"
    }
   ],
   "source": [
    "import pandas as pd\n",
    "\n",
    "columnNames = [i[0] for i in databaseFetchRecords.description]\n",
    "\n",
    "# print(columnNames)\n",
    "\n",
    "employeeRecordsDataframe = pd.DataFrame(result, columns = columnNames)\n",
    "\n",
    "employeeRecordsDataframe"
   ]
  },
  {
   "cell_type": "markdown",
   "id": "a4cfc17e-e8e4-458d-8b61-56fd77e3964c",
   "metadata": {},
   "source": [
    "### Converting Dataframe to CSV File"
   ]
  },
  {
   "cell_type": "code",
   "execution_count": 29,
   "id": "30edb328-3517-45b6-a9ac-a7bc7a46b661",
   "metadata": {},
   "outputs": [],
   "source": [
    "employeeRecordsDataframe.to_csv(\"EmployeeRecords.csv\")"
   ]
  },
  {
   "cell_type": "code",
   "execution_count": 30,
   "id": "2d1bef23-82aa-4573-bc89-ac0c69732c7f",
   "metadata": {},
   "outputs": [
    {
     "name": "stdout",
     "output_type": "stream",
     "text": [
      "<class 'pandas.core.frame.DataFrame'>\n",
      "RangeIndex: 107 entries, 0 to 106\n",
      "Data columns (total 21 columns):\n",
      " #   Column                      Non-Null Count  Dtype \n",
      "---  ------                      --------------  ----- \n",
      " 0   employee_id                 107 non-null    int64 \n",
      " 1   first_name                  107 non-null    object\n",
      " 2   last_name                   107 non-null    object\n",
      " 3   email                       107 non-null    object\n",
      " 4   phone_number                107 non-null    object\n",
      " 5   hire_date                   107 non-null    object\n",
      " 6   salary                      107 non-null    object\n",
      " 7   commission_pct              35 non-null     object\n",
      " 8   job_title                   107 non-null    object\n",
      " 9   min_salary                  107 non-null    object\n",
      " 10  max_salary                  107 non-null    object\n",
      " 11  department_name             106 non-null    object\n",
      " 12  manager_name                106 non-null    object\n",
      " 13  prev_employment_start_date  7 non-null      object\n",
      " 14  prev_employment_end_date    7 non-null      object\n",
      " 15  street_address              106 non-null    object\n",
      " 16  postal_code                 105 non-null    object\n",
      " 17  city                        106 non-null    object\n",
      " 18  state_province              105 non-null    object\n",
      " 19  country_name                106 non-null    object\n",
      " 20  region_name                 106 non-null    object\n",
      "dtypes: int64(1), object(20)\n",
      "memory usage: 17.7+ KB\n"
     ]
    }
   ],
   "source": [
    "employeeRecordsDataframe.info()"
   ]
  },
  {
   "cell_type": "markdown",
   "id": "821e10b9-e0d8-43af-8457-0d3f4e52b8a4",
   "metadata": {},
   "source": [
    "### Retrieving the Column Names"
   ]
  },
  {
   "cell_type": "code",
   "execution_count": 31,
   "id": "fc007f40-e0ab-4cc9-8845-98a09deda8bb",
   "metadata": {},
   "outputs": [
    {
     "data": {
      "text/plain": [
       "Index(['employee_id', 'first_name', 'last_name', 'email', 'phone_number',\n",
       "       'hire_date', 'salary', 'commission_pct', 'job_title', 'min_salary',\n",
       "       'max_salary', 'department_name', 'manager_name',\n",
       "       'prev_employment_start_date', 'prev_employment_end_date',\n",
       "       'street_address', 'postal_code', 'city', 'state_province',\n",
       "       'country_name', 'region_name'],\n",
       "      dtype='object')"
      ]
     },
     "execution_count": 31,
     "metadata": {},
     "output_type": "execute_result"
    }
   ],
   "source": [
    "employeeRecordsDataframe.columns"
   ]
  },
  {
   "cell_type": "markdown",
   "id": "ae1d4280-bfc5-4af7-82d8-05e61f406287",
   "metadata": {},
   "source": [
    "### Dropping Columns"
   ]
  },
  {
   "cell_type": "code",
   "execution_count": 20,
   "id": "997b7d86-f751-42fc-a164-c8e13403afa8",
   "metadata": {},
   "outputs": [],
   "source": [
    "\n",
    "employeeRecordsDataframe = employeeRecordsDataframe.drop(['phone_number', 'commission_pct', 'prev_employment_start_date', 'prev_employment_end_date', 'street_address', 'postal_code'], axis = 1)"
   ]
  },
  {
   "cell_type": "markdown",
   "id": "1fc6a060-8af2-4946-b9ad-03637e4f2ea1",
   "metadata": {},
   "source": [
    "### Check Null Values"
   ]
  },
  {
   "cell_type": "code",
   "execution_count": 32,
   "id": "7e8fb975-93c2-4120-9219-c90e5596d8ff",
   "metadata": {},
   "outputs": [
    {
     "name": "stdout",
     "output_type": "stream",
     "text": [
      "employee_id                     0\n",
      "first_name                      0\n",
      "last_name                       0\n",
      "email                           0\n",
      "phone_number                    0\n",
      "hire_date                       0\n",
      "salary                          0\n",
      "commission_pct                 72\n",
      "job_title                       0\n",
      "min_salary                      0\n",
      "max_salary                      0\n",
      "department_name                 1\n",
      "manager_name                    1\n",
      "prev_employment_start_date    100\n",
      "prev_employment_end_date      100\n",
      "street_address                  1\n",
      "postal_code                     2\n",
      "city                            1\n",
      "state_province                  2\n",
      "country_name                    1\n",
      "region_name                     1\n",
      "dtype: int64\n"
     ]
    },
    {
     "data": {
      "text/html": [
       "<div>\n",
       "<style scoped>\n",
       "    .dataframe tbody tr th:only-of-type {\n",
       "        vertical-align: middle;\n",
       "    }\n",
       "\n",
       "    .dataframe tbody tr th {\n",
       "        vertical-align: top;\n",
       "    }\n",
       "\n",
       "    .dataframe thead th {\n",
       "        text-align: right;\n",
       "    }\n",
       "</style>\n",
       "<table border=\"1\" class=\"dataframe\">\n",
       "  <thead>\n",
       "    <tr style=\"text-align: right;\">\n",
       "      <th></th>\n",
       "      <th>employee_id</th>\n",
       "      <th>first_name</th>\n",
       "      <th>last_name</th>\n",
       "      <th>email</th>\n",
       "      <th>phone_number</th>\n",
       "      <th>hire_date</th>\n",
       "      <th>salary</th>\n",
       "      <th>commission_pct</th>\n",
       "      <th>job_title</th>\n",
       "      <th>min_salary</th>\n",
       "      <th>...</th>\n",
       "      <th>department_name</th>\n",
       "      <th>manager_name</th>\n",
       "      <th>prev_employment_start_date</th>\n",
       "      <th>prev_employment_end_date</th>\n",
       "      <th>street_address</th>\n",
       "      <th>postal_code</th>\n",
       "      <th>city</th>\n",
       "      <th>state_province</th>\n",
       "      <th>country_name</th>\n",
       "      <th>region_name</th>\n",
       "    </tr>\n",
       "  </thead>\n",
       "  <tbody>\n",
       "    <tr>\n",
       "      <th>12</th>\n",
       "      <td>203</td>\n",
       "      <td>Susan</td>\n",
       "      <td>Mavris</td>\n",
       "      <td>SMAVRIS</td>\n",
       "      <td>515.123.7777</td>\n",
       "      <td>1994-06-07</td>\n",
       "      <td>6500.00</td>\n",
       "      <td>None</td>\n",
       "      <td>Human Resources Representative</td>\n",
       "      <td>4000</td>\n",
       "      <td>...</td>\n",
       "      <td>Human Resources</td>\n",
       "      <td>Neena</td>\n",
       "      <td>None</td>\n",
       "      <td>None</td>\n",
       "      <td>8204 Arthur St</td>\n",
       "      <td>None</td>\n",
       "      <td>London</td>\n",
       "      <td>None</td>\n",
       "      <td>United Kingdom</td>\n",
       "      <td>Europe</td>\n",
       "    </tr>\n",
       "    <tr>\n",
       "      <th>60</th>\n",
       "      <td>178</td>\n",
       "      <td>Kimberely</td>\n",
       "      <td>Grant</td>\n",
       "      <td>KGRANT</td>\n",
       "      <td>011.44.1644.429263</td>\n",
       "      <td>1999-05-24</td>\n",
       "      <td>7000.00</td>\n",
       "      <td>0.15</td>\n",
       "      <td>Sales Representative</td>\n",
       "      <td>6000</td>\n",
       "      <td>...</td>\n",
       "      <td>None</td>\n",
       "      <td>Eleni</td>\n",
       "      <td>None</td>\n",
       "      <td>None</td>\n",
       "      <td>None</td>\n",
       "      <td>None</td>\n",
       "      <td>None</td>\n",
       "      <td>None</td>\n",
       "      <td>None</td>\n",
       "      <td>None</td>\n",
       "    </tr>\n",
       "  </tbody>\n",
       "</table>\n",
       "<p>2 rows × 21 columns</p>\n",
       "</div>"
      ],
      "text/plain": [
       "    employee_id first_name last_name    email        phone_number   hire_date  \\\n",
       "12          203      Susan    Mavris  SMAVRIS        515.123.7777  1994-06-07   \n",
       "60          178  Kimberely     Grant   KGRANT  011.44.1644.429263  1999-05-24   \n",
       "\n",
       "     salary commission_pct                       job_title min_salary  ...  \\\n",
       "12  6500.00           None  Human Resources Representative       4000  ...   \n",
       "60  7000.00           0.15            Sales Representative       6000  ...   \n",
       "\n",
       "    department_name manager_name prev_employment_start_date  \\\n",
       "12  Human Resources        Neena                       None   \n",
       "60             None        Eleni                       None   \n",
       "\n",
       "   prev_employment_end_date  street_address postal_code    city  \\\n",
       "12                     None  8204 Arthur St        None  London   \n",
       "60                     None            None        None    None   \n",
       "\n",
       "   state_province    country_name region_name  \n",
       "12           None  United Kingdom      Europe  \n",
       "60           None            None        None  \n",
       "\n",
       "[2 rows x 21 columns]"
      ]
     },
     "execution_count": 32,
     "metadata": {},
     "output_type": "execute_result"
    }
   ],
   "source": [
    "# employeeRecordsDataframe\n",
    "\n",
    "# employeeRecordsDataframe.isnull().any()\n",
    "print(employeeRecordsDataframe.isnull().sum())\n",
    "employeeRecordsDataframe[pd.isna(employeeRecordsDataframe['state_province'])]"
   ]
  },
  {
   "cell_type": "markdown",
   "id": "1e2ac75e-a67c-4bc1-acc0-0cbdee497a19",
   "metadata": {},
   "source": [
    "### Replacing Null Values"
   ]
  },
  {
   "cell_type": "code",
   "execution_count": 22,
   "id": "8b528ab1-3271-4b07-87a2-a635bb448695",
   "metadata": {},
   "outputs": [
    {
     "name": "stdout",
     "output_type": "stream",
     "text": [
      "employee_id        0\n",
      "first_name         0\n",
      "last_name          0\n",
      "email              0\n",
      "hire_date          0\n",
      "salary             0\n",
      "job_title          0\n",
      "min_salary         0\n",
      "max_salary         0\n",
      "department_name    0\n",
      "manager_name       0\n",
      "city               0\n",
      "state_province     0\n",
      "country_name       0\n",
      "region_name        0\n",
      "dtype: int64\n"
     ]
    }
   ],
   "source": [
    "employeeRecordsDataframe.loc[employeeRecordsDataframe['employee_id'] == 178, ['department_name', 'city', 'country_name', 'state_province', 'region_name']] = [\"Sales\", \"Oxford\", \"United Kingdon\", \"Oxford\", \"Europe\"]\n",
    "employeeRecordsDataframe.loc[employeeRecordsDataframe['employee_id'] == 100, 'manager_name'] = \"No Manager\"\n",
    "employeeRecordsDataframe.loc[employeeRecordsDataframe['employee_id'] == 203, 'state_province'] = \"Greater London\"\n",
    "\n",
    "print(employeeRecordsDataframe.isnull().sum())"
   ]
  },
  {
   "cell_type": "markdown",
   "id": "c57e62d2-938a-4e70-866d-223c30fa33dc",
   "metadata": {},
   "source": [
    "### Unique Values of Certain Columns"
   ]
  },
  {
   "cell_type": "code",
   "execution_count": 23,
   "id": "ab1f7e9c-1a91-4ead-95e4-78a5c8c0a184",
   "metadata": {},
   "outputs": [
    {
     "name": "stdout",
     "output_type": "stream",
     "text": [
      "Unique values in job_title: ['Public Accountant' 'Accounting Manager' 'Administration Assistant'\n",
      " 'President' 'Administration Vice President' 'Accountant'\n",
      " 'Finance Manager' 'Human Resources Representative' 'Programmer'\n",
      " 'Marketing Manager' 'Marketing Representative'\n",
      " 'Public Relations Representative' 'Purchasing Clerk' 'Purchasing Manager'\n",
      " 'Sales Manager' 'Sales Representative' 'Shipping Clerk' 'Stock Clerk'\n",
      " 'Stock Manager']\n",
      "\n",
      "Unique values in department_name: ['Accounting' 'Administration' 'Executive' 'Finance' 'Human Resources'\n",
      " 'IT' 'Marketing' 'Public Relations' 'Purchasing' 'Sales' 'Shipping']\n",
      "\n",
      "Unique values in state_province: ['Washington' 'Greater London' 'Texas' 'Ontario' 'Bavaria' 'Oxford'\n",
      " 'California']\n",
      "\n",
      "Unique values in country_name: ['United States of America' 'United Kingdom' 'Canada' 'Germany'\n",
      " 'United Kingdon']\n",
      "\n",
      "Unique values in region_name: ['Americas' 'Europe']\n",
      "\n"
     ]
    }
   ],
   "source": [
    "columns_to_check = [\"job_title\",\"department_name\",\t\n",
    "\t\"state_province\",\"country_name\",\"region_name\"]\n",
    "\n",
    "# Iterate over each column and print unique values\n",
    "for column in columns_to_check:\n",
    "    unique_values = employeeRecordsDataframe[column].unique()\n",
    "    print(f'Unique values in {column}: {unique_values}\\n')"
   ]
  },
  {
   "cell_type": "markdown",
   "id": "12c3c035-8c79-496d-b357-6c28d969d1a6",
   "metadata": {},
   "source": [
    "### Sort Values by Ascending Order"
   ]
  },
  {
   "cell_type": "code",
   "execution_count": 113,
   "id": "c12882f8-a571-404c-af93-ad447e4bc29f",
   "metadata": {},
   "outputs": [
    {
     "data": {
      "text/html": [
       "<div>\n",
       "<style scoped>\n",
       "    .dataframe tbody tr th:only-of-type {\n",
       "        vertical-align: middle;\n",
       "    }\n",
       "\n",
       "    .dataframe tbody tr th {\n",
       "        vertical-align: top;\n",
       "    }\n",
       "\n",
       "    .dataframe thead th {\n",
       "        text-align: right;\n",
       "    }\n",
       "</style>\n",
       "<table border=\"1\" class=\"dataframe\">\n",
       "  <thead>\n",
       "    <tr style=\"text-align: right;\">\n",
       "      <th></th>\n",
       "      <th>employee_id</th>\n",
       "      <th>first_name</th>\n",
       "      <th>last_name</th>\n",
       "      <th>email</th>\n",
       "      <th>hire_date</th>\n",
       "      <th>salary</th>\n",
       "      <th>job_title</th>\n",
       "      <th>min_salary</th>\n",
       "      <th>max_salary</th>\n",
       "      <th>department_name</th>\n",
       "      <th>manager_name</th>\n",
       "      <th>city</th>\n",
       "      <th>state_province</th>\n",
       "      <th>country_name</th>\n",
       "      <th>region_name</th>\n",
       "    </tr>\n",
       "  </thead>\n",
       "  <tbody>\n",
       "    <tr>\n",
       "      <th>3</th>\n",
       "      <td>100</td>\n",
       "      <td>Steven</td>\n",
       "      <td>King</td>\n",
       "      <td>SKING</td>\n",
       "      <td>1987-06-17</td>\n",
       "      <td>24000.00</td>\n",
       "      <td>President</td>\n",
       "      <td>20000</td>\n",
       "      <td>40000</td>\n",
       "      <td>Executive</td>\n",
       "      <td>None</td>\n",
       "      <td>Seattle</td>\n",
       "      <td>Washington</td>\n",
       "      <td>United States of America</td>\n",
       "      <td>Americas</td>\n",
       "    </tr>\n",
       "    <tr>\n",
       "      <th>4</th>\n",
       "      <td>101</td>\n",
       "      <td>Neena</td>\n",
       "      <td>Kochhar</td>\n",
       "      <td>NKOCHHAR</td>\n",
       "      <td>1989-09-21</td>\n",
       "      <td>17000.00</td>\n",
       "      <td>Administration Vice President</td>\n",
       "      <td>15000</td>\n",
       "      <td>30000</td>\n",
       "      <td>Executive</td>\n",
       "      <td>Steven</td>\n",
       "      <td>Seattle</td>\n",
       "      <td>Washington</td>\n",
       "      <td>United States of America</td>\n",
       "      <td>Americas</td>\n",
       "    </tr>\n",
       "    <tr>\n",
       "      <th>5</th>\n",
       "      <td>102</td>\n",
       "      <td>Lex</td>\n",
       "      <td>De Haan</td>\n",
       "      <td>LDEHAAN</td>\n",
       "      <td>1993-01-13</td>\n",
       "      <td>17000.00</td>\n",
       "      <td>Administration Vice President</td>\n",
       "      <td>15000</td>\n",
       "      <td>30000</td>\n",
       "      <td>Executive</td>\n",
       "      <td>Steven</td>\n",
       "      <td>Seattle</td>\n",
       "      <td>Washington</td>\n",
       "      <td>United States of America</td>\n",
       "      <td>Americas</td>\n",
       "    </tr>\n",
       "    <tr>\n",
       "      <th>13</th>\n",
       "      <td>103</td>\n",
       "      <td>Alexander</td>\n",
       "      <td>Hunold</td>\n",
       "      <td>AHUNOLD</td>\n",
       "      <td>1990-01-03</td>\n",
       "      <td>9000.00</td>\n",
       "      <td>Programmer</td>\n",
       "      <td>4000</td>\n",
       "      <td>10000</td>\n",
       "      <td>IT</td>\n",
       "      <td>Lex</td>\n",
       "      <td>Southlake</td>\n",
       "      <td>Texas</td>\n",
       "      <td>United States of America</td>\n",
       "      <td>Americas</td>\n",
       "    </tr>\n",
       "    <tr>\n",
       "      <th>14</th>\n",
       "      <td>104</td>\n",
       "      <td>Bruce</td>\n",
       "      <td>Ernst</td>\n",
       "      <td>BERNST</td>\n",
       "      <td>1991-05-21</td>\n",
       "      <td>6000.00</td>\n",
       "      <td>Programmer</td>\n",
       "      <td>4000</td>\n",
       "      <td>10000</td>\n",
       "      <td>IT</td>\n",
       "      <td>Alexander</td>\n",
       "      <td>Southlake</td>\n",
       "      <td>Texas</td>\n",
       "      <td>United States of America</td>\n",
       "      <td>Americas</td>\n",
       "    </tr>\n",
       "    <tr>\n",
       "      <th>...</th>\n",
       "      <td>...</td>\n",
       "      <td>...</td>\n",
       "      <td>...</td>\n",
       "      <td>...</td>\n",
       "      <td>...</td>\n",
       "      <td>...</td>\n",
       "      <td>...</td>\n",
       "      <td>...</td>\n",
       "      <td>...</td>\n",
       "      <td>...</td>\n",
       "      <td>...</td>\n",
       "      <td>...</td>\n",
       "      <td>...</td>\n",
       "      <td>...</td>\n",
       "      <td>...</td>\n",
       "    </tr>\n",
       "    <tr>\n",
       "      <th>19</th>\n",
       "      <td>202</td>\n",
       "      <td>Pat</td>\n",
       "      <td>Fay</td>\n",
       "      <td>PFAY</td>\n",
       "      <td>1997-08-17</td>\n",
       "      <td>6000.00</td>\n",
       "      <td>Marketing Representative</td>\n",
       "      <td>4000</td>\n",
       "      <td>9000</td>\n",
       "      <td>Marketing</td>\n",
       "      <td>Michael</td>\n",
       "      <td>Toronto</td>\n",
       "      <td>Ontario</td>\n",
       "      <td>Canada</td>\n",
       "      <td>Americas</td>\n",
       "    </tr>\n",
       "    <tr>\n",
       "      <th>12</th>\n",
       "      <td>203</td>\n",
       "      <td>Susan</td>\n",
       "      <td>Mavris</td>\n",
       "      <td>SMAVRIS</td>\n",
       "      <td>1994-06-07</td>\n",
       "      <td>6500.00</td>\n",
       "      <td>Human Resources Representative</td>\n",
       "      <td>4000</td>\n",
       "      <td>9000</td>\n",
       "      <td>Human Resources</td>\n",
       "      <td>Neena</td>\n",
       "      <td>London</td>\n",
       "      <td>None</td>\n",
       "      <td>United Kingdom</td>\n",
       "      <td>Europe</td>\n",
       "    </tr>\n",
       "    <tr>\n",
       "      <th>20</th>\n",
       "      <td>204</td>\n",
       "      <td>Hermann</td>\n",
       "      <td>Baer</td>\n",
       "      <td>HBAER</td>\n",
       "      <td>1994-06-07</td>\n",
       "      <td>10000.00</td>\n",
       "      <td>Public Relations Representative</td>\n",
       "      <td>4500</td>\n",
       "      <td>10500</td>\n",
       "      <td>Public Relations</td>\n",
       "      <td>Neena</td>\n",
       "      <td>Munich</td>\n",
       "      <td>Bavaria</td>\n",
       "      <td>Germany</td>\n",
       "      <td>Europe</td>\n",
       "    </tr>\n",
       "    <tr>\n",
       "      <th>1</th>\n",
       "      <td>205</td>\n",
       "      <td>Shelley</td>\n",
       "      <td>Higgins</td>\n",
       "      <td>SHIGGINS</td>\n",
       "      <td>1994-06-07</td>\n",
       "      <td>12000.00</td>\n",
       "      <td>Accounting Manager</td>\n",
       "      <td>8200</td>\n",
       "      <td>16000</td>\n",
       "      <td>Accounting</td>\n",
       "      <td>Neena</td>\n",
       "      <td>Seattle</td>\n",
       "      <td>Washington</td>\n",
       "      <td>United States of America</td>\n",
       "      <td>Americas</td>\n",
       "    </tr>\n",
       "    <tr>\n",
       "      <th>0</th>\n",
       "      <td>206</td>\n",
       "      <td>William</td>\n",
       "      <td>Gietz</td>\n",
       "      <td>WGIETZ</td>\n",
       "      <td>1994-06-07</td>\n",
       "      <td>8300.00</td>\n",
       "      <td>Public Accountant</td>\n",
       "      <td>4200</td>\n",
       "      <td>9000</td>\n",
       "      <td>Accounting</td>\n",
       "      <td>Shelley</td>\n",
       "      <td>Seattle</td>\n",
       "      <td>Washington</td>\n",
       "      <td>United States of America</td>\n",
       "      <td>Americas</td>\n",
       "    </tr>\n",
       "  </tbody>\n",
       "</table>\n",
       "<p>107 rows × 15 columns</p>\n",
       "</div>"
      ],
      "text/plain": [
       "    employee_id first_name last_name     email   hire_date    salary  \\\n",
       "3           100     Steven      King     SKING  1987-06-17  24000.00   \n",
       "4           101      Neena   Kochhar  NKOCHHAR  1989-09-21  17000.00   \n",
       "5           102        Lex   De Haan   LDEHAAN  1993-01-13  17000.00   \n",
       "13          103  Alexander    Hunold   AHUNOLD  1990-01-03   9000.00   \n",
       "14          104      Bruce     Ernst    BERNST  1991-05-21   6000.00   \n",
       "..          ...        ...       ...       ...         ...       ...   \n",
       "19          202        Pat       Fay      PFAY  1997-08-17   6000.00   \n",
       "12          203      Susan    Mavris   SMAVRIS  1994-06-07   6500.00   \n",
       "20          204    Hermann      Baer     HBAER  1994-06-07  10000.00   \n",
       "1           205    Shelley   Higgins  SHIGGINS  1994-06-07  12000.00   \n",
       "0           206    William     Gietz    WGIETZ  1994-06-07   8300.00   \n",
       "\n",
       "                          job_title min_salary max_salary   department_name  \\\n",
       "3                         President      20000      40000         Executive   \n",
       "4     Administration Vice President      15000      30000         Executive   \n",
       "5     Administration Vice President      15000      30000         Executive   \n",
       "13                       Programmer       4000      10000                IT   \n",
       "14                       Programmer       4000      10000                IT   \n",
       "..                              ...        ...        ...               ...   \n",
       "19         Marketing Representative       4000       9000         Marketing   \n",
       "12   Human Resources Representative       4000       9000   Human Resources   \n",
       "20  Public Relations Representative       4500      10500  Public Relations   \n",
       "1                Accounting Manager       8200      16000        Accounting   \n",
       "0                 Public Accountant       4200       9000        Accounting   \n",
       "\n",
       "   manager_name       city state_province              country_name  \\\n",
       "3          None    Seattle     Washington  United States of America   \n",
       "4        Steven    Seattle     Washington  United States of America   \n",
       "5        Steven    Seattle     Washington  United States of America   \n",
       "13          Lex  Southlake          Texas  United States of America   \n",
       "14    Alexander  Southlake          Texas  United States of America   \n",
       "..          ...        ...            ...                       ...   \n",
       "19      Michael    Toronto        Ontario                    Canada   \n",
       "12        Neena     London           None            United Kingdom   \n",
       "20        Neena     Munich        Bavaria                   Germany   \n",
       "1         Neena    Seattle     Washington  United States of America   \n",
       "0       Shelley    Seattle     Washington  United States of America   \n",
       "\n",
       "   region_name  \n",
       "3     Americas  \n",
       "4     Americas  \n",
       "5     Americas  \n",
       "13    Americas  \n",
       "14    Americas  \n",
       "..         ...  \n",
       "19    Americas  \n",
       "12      Europe  \n",
       "20      Europe  \n",
       "1     Americas  \n",
       "0     Americas  \n",
       "\n",
       "[107 rows x 15 columns]"
      ]
     },
     "execution_count": 113,
     "metadata": {},
     "output_type": "execute_result"
    }
   ],
   "source": [
    "employeeRecordsDataframe = employeeRecordsDataframe.sort_values(by = 'employee_id', ascending = True)\n",
    "employeeRecordsDataframe"
   ]
  },
  {
   "cell_type": "code",
   "execution_count": 114,
   "id": "a8e8a349-2110-4e90-8392-99ad94e1489d",
   "metadata": {},
   "outputs": [
    {
     "name": "stdout",
     "output_type": "stream",
     "text": [
      "Min of Minimum Salary: 2000\n",
      "Min of Maximum Salary: 20000\n"
     ]
    }
   ],
   "source": [
    "print(\"Min of Minimum Salary:\", employeeRecordsDataframe['min_salary'].min())\n",
    "print(\"Min of Maximum Salary:\", employeeRecordsDataframe['min_salary'].max())"
   ]
  },
  {
   "cell_type": "code",
   "execution_count": 115,
   "id": "a0cac129-e6b1-4884-a382-7fe531291bc9",
   "metadata": {},
   "outputs": [
    {
     "name": "stdout",
     "output_type": "stream",
     "text": [
      "Max of Minimum Salary: 5000\n",
      "Max of Maximum Salary: 40000\n"
     ]
    }
   ],
   "source": [
    "print(\"Max of Minimum Salary:\", employeeRecordsDataframe['max_salary'].min())\n",
    "print(\"Max of Maximum Salary:\", employeeRecordsDataframe['max_salary'].max())"
   ]
  },
  {
   "cell_type": "markdown",
   "id": "53116b9f-3cb3-463e-80c3-2205ec99dc3e",
   "metadata": {},
   "source": [
    "### Binning Minimum Salary Values"
   ]
  },
  {
   "cell_type": "code",
   "execution_count": 116,
   "id": "6ef993db-bd2a-4399-86a4-a3e876c1cc44",
   "metadata": {},
   "outputs": [
    {
     "data": {
      "text/html": [
       "<div>\n",
       "<style scoped>\n",
       "    .dataframe tbody tr th:only-of-type {\n",
       "        vertical-align: middle;\n",
       "    }\n",
       "\n",
       "    .dataframe tbody tr th {\n",
       "        vertical-align: top;\n",
       "    }\n",
       "\n",
       "    .dataframe thead th {\n",
       "        text-align: right;\n",
       "    }\n",
       "</style>\n",
       "<table border=\"1\" class=\"dataframe\">\n",
       "  <thead>\n",
       "    <tr style=\"text-align: right;\">\n",
       "      <th></th>\n",
       "      <th>employee_id</th>\n",
       "      <th>first_name</th>\n",
       "      <th>last_name</th>\n",
       "      <th>email</th>\n",
       "      <th>hire_date</th>\n",
       "      <th>salary</th>\n",
       "      <th>job_title</th>\n",
       "      <th>min_salary</th>\n",
       "      <th>max_salary</th>\n",
       "      <th>department_name</th>\n",
       "      <th>manager_name</th>\n",
       "      <th>city</th>\n",
       "      <th>state_province</th>\n",
       "      <th>country_name</th>\n",
       "      <th>region_name</th>\n",
       "      <th>Minimum Salary Category</th>\n",
       "    </tr>\n",
       "  </thead>\n",
       "  <tbody>\n",
       "    <tr>\n",
       "      <th>3</th>\n",
       "      <td>100</td>\n",
       "      <td>Steven</td>\n",
       "      <td>King</td>\n",
       "      <td>SKING</td>\n",
       "      <td>1987-06-17</td>\n",
       "      <td>24000.00</td>\n",
       "      <td>President</td>\n",
       "      <td>20000</td>\n",
       "      <td>40000</td>\n",
       "      <td>Executive</td>\n",
       "      <td>None</td>\n",
       "      <td>Seattle</td>\n",
       "      <td>Washington</td>\n",
       "      <td>United States of America</td>\n",
       "      <td>Americas</td>\n",
       "      <td>15k-20k</td>\n",
       "    </tr>\n",
       "    <tr>\n",
       "      <th>4</th>\n",
       "      <td>101</td>\n",
       "      <td>Neena</td>\n",
       "      <td>Kochhar</td>\n",
       "      <td>NKOCHHAR</td>\n",
       "      <td>1989-09-21</td>\n",
       "      <td>17000.00</td>\n",
       "      <td>Administration Vice President</td>\n",
       "      <td>15000</td>\n",
       "      <td>30000</td>\n",
       "      <td>Executive</td>\n",
       "      <td>Steven</td>\n",
       "      <td>Seattle</td>\n",
       "      <td>Washington</td>\n",
       "      <td>United States of America</td>\n",
       "      <td>Americas</td>\n",
       "      <td>10k-15k</td>\n",
       "    </tr>\n",
       "    <tr>\n",
       "      <th>5</th>\n",
       "      <td>102</td>\n",
       "      <td>Lex</td>\n",
       "      <td>De Haan</td>\n",
       "      <td>LDEHAAN</td>\n",
       "      <td>1993-01-13</td>\n",
       "      <td>17000.00</td>\n",
       "      <td>Administration Vice President</td>\n",
       "      <td>15000</td>\n",
       "      <td>30000</td>\n",
       "      <td>Executive</td>\n",
       "      <td>Steven</td>\n",
       "      <td>Seattle</td>\n",
       "      <td>Washington</td>\n",
       "      <td>United States of America</td>\n",
       "      <td>Americas</td>\n",
       "      <td>10k-15k</td>\n",
       "    </tr>\n",
       "    <tr>\n",
       "      <th>13</th>\n",
       "      <td>103</td>\n",
       "      <td>Alexander</td>\n",
       "      <td>Hunold</td>\n",
       "      <td>AHUNOLD</td>\n",
       "      <td>1990-01-03</td>\n",
       "      <td>9000.00</td>\n",
       "      <td>Programmer</td>\n",
       "      <td>4000</td>\n",
       "      <td>10000</td>\n",
       "      <td>IT</td>\n",
       "      <td>Lex</td>\n",
       "      <td>Southlake</td>\n",
       "      <td>Texas</td>\n",
       "      <td>United States of America</td>\n",
       "      <td>Americas</td>\n",
       "      <td>1k-5k</td>\n",
       "    </tr>\n",
       "    <tr>\n",
       "      <th>14</th>\n",
       "      <td>104</td>\n",
       "      <td>Bruce</td>\n",
       "      <td>Ernst</td>\n",
       "      <td>BERNST</td>\n",
       "      <td>1991-05-21</td>\n",
       "      <td>6000.00</td>\n",
       "      <td>Programmer</td>\n",
       "      <td>4000</td>\n",
       "      <td>10000</td>\n",
       "      <td>IT</td>\n",
       "      <td>Alexander</td>\n",
       "      <td>Southlake</td>\n",
       "      <td>Texas</td>\n",
       "      <td>United States of America</td>\n",
       "      <td>Americas</td>\n",
       "      <td>1k-5k</td>\n",
       "    </tr>\n",
       "  </tbody>\n",
       "</table>\n",
       "</div>"
      ],
      "text/plain": [
       "    employee_id first_name last_name     email   hire_date    salary  \\\n",
       "3           100     Steven      King     SKING  1987-06-17  24000.00   \n",
       "4           101      Neena   Kochhar  NKOCHHAR  1989-09-21  17000.00   \n",
       "5           102        Lex   De Haan   LDEHAAN  1993-01-13  17000.00   \n",
       "13          103  Alexander    Hunold   AHUNOLD  1990-01-03   9000.00   \n",
       "14          104      Bruce     Ernst    BERNST  1991-05-21   6000.00   \n",
       "\n",
       "                        job_title min_salary max_salary department_name  \\\n",
       "3                       President      20000      40000       Executive   \n",
       "4   Administration Vice President      15000      30000       Executive   \n",
       "5   Administration Vice President      15000      30000       Executive   \n",
       "13                     Programmer       4000      10000              IT   \n",
       "14                     Programmer       4000      10000              IT   \n",
       "\n",
       "   manager_name       city state_province              country_name  \\\n",
       "3          None    Seattle     Washington  United States of America   \n",
       "4        Steven    Seattle     Washington  United States of America   \n",
       "5        Steven    Seattle     Washington  United States of America   \n",
       "13          Lex  Southlake          Texas  United States of America   \n",
       "14    Alexander  Southlake          Texas  United States of America   \n",
       "\n",
       "   region_name Minimum Salary Category  \n",
       "3     Americas                 15k-20k  \n",
       "4     Americas                 10k-15k  \n",
       "5     Americas                 10k-15k  \n",
       "13    Americas                   1k-5k  \n",
       "14    Americas                   1k-5k  "
      ]
     },
     "execution_count": 116,
     "metadata": {},
     "output_type": "execute_result"
    }
   ],
   "source": [
    "bins = [1000, 5000, 10000, 15000, 20000]\n",
    "\n",
    "labels = ['1k-5k', '5k-10k', '10k-15k', '15k-20k']\n",
    "\n",
    "employeeRecordsDataframe['Minimum Salary Category'] = pd.cut(employeeRecordsDataframe['min_salary'], bins = bins, labels = labels)\n",
    "\n",
    "employeeRecordsDataframe.head(5)"
   ]
  },
  {
   "cell_type": "markdown",
   "id": "ed747b1a-baca-4e1f-a789-d08e86588731",
   "metadata": {},
   "source": [
    "### Binning Maximum Salary Values"
   ]
  },
  {
   "cell_type": "code",
   "execution_count": 117,
   "id": "fddc5902-b045-404c-85e8-5a3191f6c9e6",
   "metadata": {},
   "outputs": [
    {
     "data": {
      "text/html": [
       "<div>\n",
       "<style scoped>\n",
       "    .dataframe tbody tr th:only-of-type {\n",
       "        vertical-align: middle;\n",
       "    }\n",
       "\n",
       "    .dataframe tbody tr th {\n",
       "        vertical-align: top;\n",
       "    }\n",
       "\n",
       "    .dataframe thead th {\n",
       "        text-align: right;\n",
       "    }\n",
       "</style>\n",
       "<table border=\"1\" class=\"dataframe\">\n",
       "  <thead>\n",
       "    <tr style=\"text-align: right;\">\n",
       "      <th></th>\n",
       "      <th>employee_id</th>\n",
       "      <th>first_name</th>\n",
       "      <th>last_name</th>\n",
       "      <th>email</th>\n",
       "      <th>hire_date</th>\n",
       "      <th>salary</th>\n",
       "      <th>job_title</th>\n",
       "      <th>min_salary</th>\n",
       "      <th>max_salary</th>\n",
       "      <th>department_name</th>\n",
       "      <th>manager_name</th>\n",
       "      <th>city</th>\n",
       "      <th>state_province</th>\n",
       "      <th>country_name</th>\n",
       "      <th>region_name</th>\n",
       "      <th>Minimum Salary Category</th>\n",
       "      <th>Maximum Salary Category</th>\n",
       "    </tr>\n",
       "  </thead>\n",
       "  <tbody>\n",
       "    <tr>\n",
       "      <th>3</th>\n",
       "      <td>100</td>\n",
       "      <td>Steven</td>\n",
       "      <td>King</td>\n",
       "      <td>SKING</td>\n",
       "      <td>1987-06-17</td>\n",
       "      <td>24000.00</td>\n",
       "      <td>President</td>\n",
       "      <td>20000</td>\n",
       "      <td>40000</td>\n",
       "      <td>Executive</td>\n",
       "      <td>None</td>\n",
       "      <td>Seattle</td>\n",
       "      <td>Washington</td>\n",
       "      <td>United States of America</td>\n",
       "      <td>Americas</td>\n",
       "      <td>15k-20k</td>\n",
       "      <td>30k-40k</td>\n",
       "    </tr>\n",
       "    <tr>\n",
       "      <th>4</th>\n",
       "      <td>101</td>\n",
       "      <td>Neena</td>\n",
       "      <td>Kochhar</td>\n",
       "      <td>NKOCHHAR</td>\n",
       "      <td>1989-09-21</td>\n",
       "      <td>17000.00</td>\n",
       "      <td>Administration Vice President</td>\n",
       "      <td>15000</td>\n",
       "      <td>30000</td>\n",
       "      <td>Executive</td>\n",
       "      <td>Steven</td>\n",
       "      <td>Seattle</td>\n",
       "      <td>Washington</td>\n",
       "      <td>United States of America</td>\n",
       "      <td>Americas</td>\n",
       "      <td>10k-15k</td>\n",
       "      <td>20k-30k</td>\n",
       "    </tr>\n",
       "    <tr>\n",
       "      <th>5</th>\n",
       "      <td>102</td>\n",
       "      <td>Lex</td>\n",
       "      <td>De Haan</td>\n",
       "      <td>LDEHAAN</td>\n",
       "      <td>1993-01-13</td>\n",
       "      <td>17000.00</td>\n",
       "      <td>Administration Vice President</td>\n",
       "      <td>15000</td>\n",
       "      <td>30000</td>\n",
       "      <td>Executive</td>\n",
       "      <td>Steven</td>\n",
       "      <td>Seattle</td>\n",
       "      <td>Washington</td>\n",
       "      <td>United States of America</td>\n",
       "      <td>Americas</td>\n",
       "      <td>10k-15k</td>\n",
       "      <td>20k-30k</td>\n",
       "    </tr>\n",
       "    <tr>\n",
       "      <th>13</th>\n",
       "      <td>103</td>\n",
       "      <td>Alexander</td>\n",
       "      <td>Hunold</td>\n",
       "      <td>AHUNOLD</td>\n",
       "      <td>1990-01-03</td>\n",
       "      <td>9000.00</td>\n",
       "      <td>Programmer</td>\n",
       "      <td>4000</td>\n",
       "      <td>10000</td>\n",
       "      <td>IT</td>\n",
       "      <td>Lex</td>\n",
       "      <td>Southlake</td>\n",
       "      <td>Texas</td>\n",
       "      <td>United States of America</td>\n",
       "      <td>Americas</td>\n",
       "      <td>1k-5k</td>\n",
       "      <td>4k-10k</td>\n",
       "    </tr>\n",
       "    <tr>\n",
       "      <th>14</th>\n",
       "      <td>104</td>\n",
       "      <td>Bruce</td>\n",
       "      <td>Ernst</td>\n",
       "      <td>BERNST</td>\n",
       "      <td>1991-05-21</td>\n",
       "      <td>6000.00</td>\n",
       "      <td>Programmer</td>\n",
       "      <td>4000</td>\n",
       "      <td>10000</td>\n",
       "      <td>IT</td>\n",
       "      <td>Alexander</td>\n",
       "      <td>Southlake</td>\n",
       "      <td>Texas</td>\n",
       "      <td>United States of America</td>\n",
       "      <td>Americas</td>\n",
       "      <td>1k-5k</td>\n",
       "      <td>4k-10k</td>\n",
       "    </tr>\n",
       "  </tbody>\n",
       "</table>\n",
       "</div>"
      ],
      "text/plain": [
       "    employee_id first_name last_name     email   hire_date    salary  \\\n",
       "3           100     Steven      King     SKING  1987-06-17  24000.00   \n",
       "4           101      Neena   Kochhar  NKOCHHAR  1989-09-21  17000.00   \n",
       "5           102        Lex   De Haan   LDEHAAN  1993-01-13  17000.00   \n",
       "13          103  Alexander    Hunold   AHUNOLD  1990-01-03   9000.00   \n",
       "14          104      Bruce     Ernst    BERNST  1991-05-21   6000.00   \n",
       "\n",
       "                        job_title min_salary max_salary department_name  \\\n",
       "3                       President      20000      40000       Executive   \n",
       "4   Administration Vice President      15000      30000       Executive   \n",
       "5   Administration Vice President      15000      30000       Executive   \n",
       "13                     Programmer       4000      10000              IT   \n",
       "14                     Programmer       4000      10000              IT   \n",
       "\n",
       "   manager_name       city state_province              country_name  \\\n",
       "3          None    Seattle     Washington  United States of America   \n",
       "4        Steven    Seattle     Washington  United States of America   \n",
       "5        Steven    Seattle     Washington  United States of America   \n",
       "13          Lex  Southlake          Texas  United States of America   \n",
       "14    Alexander  Southlake          Texas  United States of America   \n",
       "\n",
       "   region_name Minimum Salary Category Maximum Salary Category  \n",
       "3     Americas                 15k-20k                 30k-40k  \n",
       "4     Americas                 10k-15k                 20k-30k  \n",
       "5     Americas                 10k-15k                 20k-30k  \n",
       "13    Americas                   1k-5k                  4k-10k  \n",
       "14    Americas                   1k-5k                  4k-10k  "
      ]
     },
     "execution_count": 117,
     "metadata": {},
     "output_type": "execute_result"
    }
   ],
   "source": [
    "bins = [4000, 10000, 20000, 30000, 40000]\n",
    "\n",
    "labels = ['4k-10k', '10k-20k', '20k-30k', '30k-40k']\n",
    "\n",
    "employeeRecordsDataframe['Maximum Salary Category'] = pd.cut(employeeRecordsDataframe['max_salary'], bins = bins, labels = labels)\n",
    "\n",
    "employeeRecordsDataframe.head(5)"
   ]
  },
  {
   "cell_type": "markdown",
   "id": "5829bdc6-1033-45a0-b58c-6bcdb7d5ccdc",
   "metadata": {},
   "source": [
    "### Converting DataType"
   ]
  },
  {
   "cell_type": "code",
   "execution_count": 118,
   "id": "e67e3989-4d40-4634-adb2-3f4107e24481",
   "metadata": {},
   "outputs": [],
   "source": [
    "employeeRecordsDataframe['hire_date'] = pd.to_datetime(employeeRecordsDataframe['hire_date'])"
   ]
  },
  {
   "cell_type": "code",
   "execution_count": 119,
   "id": "c6b33b05-d279-4684-ba87-d1b5fc23414b",
   "metadata": {},
   "outputs": [],
   "source": [
    "employeeRecordsDataframe['salary'] = employeeRecordsDataframe['salary'].astype('int')"
   ]
  },
  {
   "cell_type": "code",
   "execution_count": 120,
   "id": "bff32e7c-e1f5-4da3-b6a3-480ec7a4741a",
   "metadata": {},
   "outputs": [
    {
     "name": "stdout",
     "output_type": "stream",
     "text": [
      "<class 'pandas.core.frame.DataFrame'>\n",
      "Index: 107 entries, 3 to 0\n",
      "Data columns (total 17 columns):\n",
      " #   Column                   Non-Null Count  Dtype         \n",
      "---  ------                   --------------  -----         \n",
      " 0   employee_id              107 non-null    int64         \n",
      " 1   first_name               107 non-null    object        \n",
      " 2   last_name                107 non-null    object        \n",
      " 3   email                    107 non-null    object        \n",
      " 4   hire_date                107 non-null    datetime64[ns]\n",
      " 5   salary                   107 non-null    int32         \n",
      " 6   job_title                107 non-null    object        \n",
      " 7   min_salary               107 non-null    object        \n",
      " 8   max_salary               107 non-null    object        \n",
      " 9   department_name          106 non-null    object        \n",
      " 10  manager_name             106 non-null    object        \n",
      " 11  city                     106 non-null    object        \n",
      " 12  state_province           105 non-null    object        \n",
      " 13  country_name             106 non-null    object        \n",
      " 14  region_name              106 non-null    object        \n",
      " 15  Minimum Salary Category  107 non-null    category      \n",
      " 16  Maximum Salary Category  107 non-null    category      \n",
      "dtypes: category(2), datetime64[ns](1), int32(1), int64(1), object(12)\n",
      "memory usage: 13.6+ KB\n"
     ]
    }
   ],
   "source": [
    "employeeRecordsDataframe.info()"
   ]
  },
  {
   "cell_type": "markdown",
   "id": "3d061309-9d59-40a2-84f2-01338e88b77e",
   "metadata": {},
   "source": [
    "### Extracting Year From Hire Year"
   ]
  },
  {
   "cell_type": "code",
   "execution_count": 121,
   "id": "fcfeeb23-b53b-48ac-b2df-ea51496edf71",
   "metadata": {},
   "outputs": [],
   "source": [
    "employeeRecordsDataframe['Hire Year'] = employeeRecordsDataframe['hire_date'].dt.year"
   ]
  },
  {
   "cell_type": "markdown",
   "id": "f968f25a-82b1-4896-a5ce-36ac7196541f",
   "metadata": {},
   "source": [
    "### Average Salary by Country"
   ]
  },
  {
   "cell_type": "code",
   "execution_count": 124,
   "id": "1c5095e1-77f9-4ffb-b585-07dd2e297648",
   "metadata": {},
   "outputs": [
    {
     "data": {
      "image/png": "[encoded data removed]",
      "text/plain": [
       "<Figure size 1600x600 with 1 Axes>"
      ]
     },
     "metadata": {},
     "output_type": "display_data"
    }
   ],
   "source": [
    "salary_by_country = employeeRecordsDataframe.groupby('country_name')['salary'].mean().reset_index()\n",
    "plt.figure(figsize=(16, 6))\n",
    "\n",
    "# Creating the horizontal bar plot\n",
    "bars = plt.barh(\n",
    "    salary_by_country['country_name'], \n",
    "    salary_by_country['salary'],\n",
    "    color='purple'\n",
    ")\n",
    "\n",
    "# Adding labels and title\n",
    "plt.xlabel('Average Salary',fontsize=10)\n",
    "plt.ylabel('Country', fontsize=10)\n",
    "plt.title('Average Salary by Country', weight = 'light', fontsize=12, pad = 15)\n",
    "\n",
    "# Adding bar labels\n",
    "for bar in bars:\n",
    "    width = bar.get_width()  # Get the width of the bar\n",
    "    plt.text(\n",
    "        width,  # X position of the label (end of the bar)\n",
    "        bar.get_y() + bar.get_height() / 2,  # Y position of the label (middle of the bar)\n",
    "        f'{width:.2f}',  # Label text (formatted to 2 decimal places)\n",
    "        va='center',  # Vertical alignment\n",
    "        ha='left',    # Horizontal alignment\n",
    "        fontsize=9,\n",
    "        color='black'\n",
    "    )\n",
    "\n",
    "# Display the plot\n",
    "plt.tight_layout()\n",
    "plt.show()"
   ]
  },
  {
   "cell_type": "markdown",
   "id": "334d51d2-54e6-4475-a22a-68afff72682e",
   "metadata": {},
   "source": [
    "### Employee Count by Department using Bar plot"
   ]
  },
  {
   "cell_type": "code",
   "execution_count": 125,
   "id": "45ace2f3-4e0a-47a9-baf9-1f806ed18e73",
   "metadata": {},
   "outputs": [
    {
     "data": {
      "image/png": "[encoded data removed]",
      "text/plain": [
       "<Figure size 1200x700 with 1 Axes>"
      ]
     },
     "metadata": {},
     "output_type": "display_data"
    }
   ],
   "source": [
    "# Plotting the bar chart with improved visualization\n",
    "ax = employeeRecordsDataframe['department_name'].value_counts().plot(kind='bar', color='#007acc', figsize=(12, 7), edgecolor='black')\n",
    "\n",
    "# Adding title and labels\n",
    "ax.set_title('Employee Count by Department', fontsize=12, fontweight='light', pad = 12)\n",
    "ax.set_xlabel('Department Name', fontsize=10)\n",
    "ax.set_ylabel('Employee Count', fontsize=10)\n",
    "\n",
    "# Adding bar labels\n",
    "for container in ax.containers:\n",
    "    ax.bar_label(container, fmt='%d', padding=3)\n",
    "\n",
    "# Rotating x-axis labels for better readability\n",
    "ax.set_xticklabels(ax.get_xticklabels(), rotation=45, ha='right')\n",
    "\n",
    "# Adding gridlines for better readability\n",
    "plt.grid(axis='y', linestyle='--', alpha=0.7)\n",
    "\n",
    "# Show plot\n",
    "plt.tight_layout()\n",
    "plt.show()\n"
   ]
  },
  {
   "cell_type": "markdown",
   "id": "c655eb5b-7abb-4d92-8529-0d215df9c7ec",
   "metadata": {},
   "source": [
    "### Distribution of Salaries: A Histogram Overview"
   ]
  },
  {
   "cell_type": "code",
   "execution_count": 126,
   "id": "35cbbe7c-461d-4d9f-9b53-406b2437cce8",
   "metadata": {},
   "outputs": [
    {
     "name": "stderr",
     "output_type": "stream",
     "text": [
      "C:\\Users\\Logiya Vidhyapathy\\anaconda3\\Lib\\site-packages\\seaborn\\_oldcore.py:1119: FutureWarning:\n",
      "\n",
      "use_inf_as_na option is deprecated and will be removed in a future version. Convert inf values to NaN before operating instead.\n",
      "\n"
     ]
    },
    {
     "data": {
      "image/png": "[encoded data removed]",
      "text/plain": [
       "<Figure size 640x480 with 1 Axes>"
      ]
     },
     "metadata": {},
     "output_type": "display_data"
    }
   ],
   "source": [
    "sns.histplot(employeeRecordsDataframe['salary'], bins = 5, kde = True)\n",
    "plt.title('Histogram of Salary')\n",
    "plt.show()"
   ]
  },
  {
   "cell_type": "markdown",
   "id": "21d36c31-6e13-472a-afa0-fcf3ffaaed15",
   "metadata": {},
   "source": [
    "### Calculate Average Salary by Department using Point Plot"
   ]
  },
  {
   "cell_type": "code",
   "execution_count": 127,
   "id": "405a7745-647c-46da-b9b3-d7ea5f365f11",
   "metadata": {},
   "outputs": [
    {
     "data": {
      "image/png": "[encoded data removed]",
      "text/plain": [
       "<Figure size 1000x700 with 1 Axes>"
      ]
     },
     "metadata": {},
     "output_type": "display_data"
    }
   ],
   "source": [
    "# Aggregating data: Calculate average salary by department\n",
    "salary_by_department = employeeRecordsDataframe.groupby('department_name')['salary'].mean().reset_index()\n",
    "\n",
    "plt.figure(figsize=(10, 7))\n",
    "\n",
    "# Creating the line plot\n",
    "plt.plot(\n",
    "    salary_by_department['department_name'], \n",
    "    salary_by_department['salary'],\n",
    "    color='#ff6f61',  # Line color\n",
    "    marker='o',  # Marker style\n",
    "    markersize=8,  # Marker size\n",
    "    linewidth=2  # Line width\n",
    ")\n",
    "\n",
    "# Adding labels and title\n",
    "plt.xlabel('Department', fontsize=10)\n",
    "plt.ylabel('Average Salary', fontsize=10)\n",
    "plt.title('Average Salary by Department', weight='light', fontsize=12, pad = 15)\n",
    "\n",
    "# Adding annotations to each data point\n",
    "for i, row in salary_by_department.iterrows():\n",
    "    plt.text(\n",
    "        row['department_name'], \n",
    "        row['salary'], \n",
    "        f'{row[\"salary\"]:.2f}',  # Format value to 2 decimal places\n",
    "        ha='center', \n",
    "        va='bottom', \n",
    "        fontsize=9, \n",
    "        color='black'\n",
    "    )\n",
    "    \n",
    "# Rotating x-axis labels for better readability\n",
    "plt.xticks(rotation=45, ha='right')\n",
    "\n",
    "# Adding gridlines for better readability\n",
    "plt.grid(True, linestyle='--', alpha=0.7)\n",
    "\n",
    "# Display the plot\n",
    "plt.tight_layout()\n",
    "plt.show()"
   ]
  },
  {
   "cell_type": "markdown",
   "id": "d48612b3-11f5-4c01-9743-08e431ad06ee",
   "metadata": {},
   "source": [
    "### Correlation between Features using Heatmap"
   ]
  },
  {
   "cell_type": "code",
   "execution_count": 128,
   "id": "6bd4155f-3c14-407c-82e4-a27ce00b8cd1",
   "metadata": {},
   "outputs": [
    {
     "data": {
      "application/vnd.plotly.v1+json": {
       "config": {
        "plotlyServerURL": "https://plot.ly"
       },
       "data": [
        {
         "coloraxis": "coloraxis",
         "hovertemplate": "x: %{x}<br>y: %{y}<br>color: %{z}<extra></extra>",
         "name": "0",
         "texttemplate": "%{z}",
         "type": "heatmap",
         "x": [
          "salary",
          "min_salary",
          "max_salary"
         ],
         "xaxis": "x",
         "y": [
          "salary",
          "min_salary",
          "max_salary"
         ],
         "yaxis": "y",
         "z": [
          [
           1,
           0.94,
           0.93
          ],
          [
           0.94,
           1,
           0.99
          ],
          [
           0.93,
           0.99,
           1
          ]
         ]
        }
       ],
       "layout": {
        "coloraxis": {
         "colorscale": [
          [
           0,
           "#0d0887"
          ],
          [
           0.1111111111111111,
           "#46039f"
          ],
          [
           0.2222222222222222,
           "#7201a8"
          ],
          [
           0.3333333333333333,
           "#9c179e"
          ],
          [
           0.4444444444444444,
           "#bd3786"
          ],
          [
           0.5555555555555556,
           "#d8576b"
          ],
          [
           0.6666666666666666,
           "#ed7953"
          ],
          [
           0.7777777777777778,
           "#fb9f3a"
          ],
          [
           0.8888888888888888,
           "#fdca26"
          ],
          [
           1,
           "#f0f921"
          ]
         ]
        },
        "height": 500,
        "template": {
         "data": {
          "bar": [
           {
            "error_x": {
             "color": "#2a3f5f"
            },
            "error_y": {
             "color": "#2a3f5f"
            },
            "marker": {
             "line": {
              "color": "#E5ECF6",
              "width": 0.5
             },
             "pattern": {
              "fillmode": "overlay",
              "size": 10,
              "solidity": 0.2
             }
            },
            "type": "bar"
           }
          ],
          "barpolar": [
           {
            "marker": {
             "line": {
              "color": "#E5ECF6",
              "width": 0.5
             },
             "pattern": {
              "fillmode": "overlay",
              "size": 10,
              "solidity": 0.2
             }
            },
            "type": "barpolar"
           }
          ],
          "carpet": [
           {
            "aaxis": {
             "endlinecolor": "#2a3f5f",
             "gridcolor": "white",
             "linecolor": "white",
             "minorgridcolor": "white",
             "startlinecolor": "#2a3f5f"
            },
            "baxis": {
             "endlinecolor": "#2a3f5f",
             "gridcolor": "white",
             "linecolor": "white",
             "minorgridcolor": "white",
             "startlinecolor": "#2a3f5f"
            },
            "type": "carpet"
           }
          ],
          "choropleth": [
           {
            "colorbar": {
             "outlinewidth": 0,
             "ticks": ""
            },
            "type": "choropleth"
           }
          ],
          "contour": [
           {
            "colorbar": {
             "outlinewidth": 0,
             "ticks": ""
            },
            "colorscale": [
             [
              0,
              "#0d0887"
             ],
             [
              0.1111111111111111,
              "#46039f"
             ],
             [
              0.2222222222222222,
              "#7201a8"
             ],
             [
              0.3333333333333333,
              "#9c179e"
             ],
             [
              0.4444444444444444,
              "#bd3786"
             ],
             [
              0.5555555555555556,
              "#d8576b"
             ],
             [
              0.6666666666666666,
              "#ed7953"
             ],
             [
              0.7777777777777778,
              "#fb9f3a"
             ],
             [
              0.8888888888888888,
              "#fdca26"
             ],
             [
              1,
              "#f0f921"
             ]
            ],
            "type": "contour"
           }
          ],
          "contourcarpet": [
           {
            "colorbar": {
             "outlinewidth": 0,
             "ticks": ""
            },
            "type": "contourcarpet"
           }
          ],
          "heatmap": [
           {
            "colorbar": {
             "outlinewidth": 0,
             "ticks": ""
            },
            "colorscale": [
             [
              0,
              "#0d0887"
             ],
             [
              0.1111111111111111,
              "#46039f"
             ],
             [
              0.2222222222222222,
              "#7201a8"
             ],
             [
              0.3333333333333333,
              "#9c179e"
             ],
             [
              0.4444444444444444,
              "#bd3786"
             ],
             [
              0.5555555555555556,
              "#d8576b"
             ],
             [
              0.6666666666666666,
              "#ed7953"
             ],
             [
              0.7777777777777778,
              "#fb9f3a"
             ],
             [
              0.8888888888888888,
              "#fdca26"
             ],
             [
              1,
              "#f0f921"
             ]
            ],
            "type": "heatmap"
           }
          ],
          "heatmapgl": [
           {
            "colorbar": {
             "outlinewidth": 0,
             "ticks": ""
            },
            "colorscale": [
             [
              0,
              "#0d0887"
             ],
             [
              0.1111111111111111,
              "#46039f"
             ],
             [
              0.2222222222222222,
              "#7201a8"
             ],
             [
              0.3333333333333333,
              "#9c179e"
             ],
             [
              0.4444444444444444,
              "#bd3786"
             ],
             [
              0.5555555555555556,
              "#d8576b"
             ],
             [
              0.6666666666666666,
              "#ed7953"
             ],
             [
              0.7777777777777778,
              "#fb9f3a"
             ],
             [
              0.8888888888888888,
              "#fdca26"
             ],
             [
              1,
              "#f0f921"
             ]
            ],
            "type": "heatmapgl"
           }
          ],
          "histogram": [
           {
            "marker": {
             "pattern": {
              "fillmode": "overlay",
              "size": 10,
              "solidity": 0.2
             }
            },
            "type": "histogram"
           }
          ],
          "histogram2d": [
           {
            "colorbar": {
             "outlinewidth": 0,
             "ticks": ""
            },
            "colorscale": [
             [
              0,
              "#0d0887"
             ],
             [
              0.1111111111111111,
              "#46039f"
             ],
             [
              0.2222222222222222,
              "#7201a8"
             ],
             [
              0.3333333333333333,
              "#9c179e"
             ],
             [
              0.4444444444444444,
              "#bd3786"
             ],
             [
              0.5555555555555556,
              "#d8576b"
             ],
             [
              0.6666666666666666,
              "#ed7953"
             ],
             [
              0.7777777777777778,
              "#fb9f3a"
             ],
             [
              0.8888888888888888,
              "#fdca26"
             ],
             [
              1,
              "#f0f921"
             ]
            ],
            "type": "histogram2d"
           }
          ],
          "histogram2dcontour": [
           {
            "colorbar": {
             "outlinewidth": 0,
             "ticks": ""
            },
            "colorscale": [
             [
              0,
              "#0d0887"
             ],
             [
              0.1111111111111111,
              "#46039f"
             ],
             [
              0.2222222222222222,
              "#7201a8"
             ],
             [
              0.3333333333333333,
              "#9c179e"
             ],
             [
              0.4444444444444444,
              "#bd3786"
             ],
             [
              0.5555555555555556,
              "#d8576b"
             ],
             [
              0.6666666666666666,
              "#ed7953"
             ],
             [
              0.7777777777777778,
              "#fb9f3a"
             ],
             [
              0.8888888888888888,
              "#fdca26"
             ],
             [
              1,
              "#f0f921"
             ]
            ],
            "type": "histogram2dcontour"
           }
          ],
          "mesh3d": [
           {
            "colorbar": {
             "outlinewidth": 0,
             "ticks": ""
            },
            "type": "mesh3d"
           }
          ],
          "parcoords": [
           {
            "line": {
             "colorbar": {
              "outlinewidth": 0,
              "ticks": ""
             }
            },
            "type": "parcoords"
           }
          ],
          "pie": [
           {
            "automargin": true,
            "type": "pie"
           }
          ],
          "scatter": [
           {
            "fillpattern": {
             "fillmode": "overlay",
             "size": 10,
             "solidity": 0.2
            },
            "type": "scatter"
           }
          ],
          "scatter3d": [
           {
            "line": {
             "colorbar": {
              "outlinewidth": 0,
              "ticks": ""
             }
            },
            "marker": {
             "colorbar": {
              "outlinewidth": 0,
              "ticks": ""
             }
            },
            "type": "scatter3d"
           }
          ],
          "scattercarpet": [
           {
            "marker": {
             "colorbar": {
              "outlinewidth": 0,
              "ticks": ""
             }
            },
            "type": "scattercarpet"
           }
          ],
          "scattergeo": [
           {
            "marker": {
             "colorbar": {
              "outlinewidth": 0,
              "ticks": ""
             }
            },
            "type": "scattergeo"
           }
          ],
          "scattergl": [
           {
            "marker": {
             "colorbar": {
              "outlinewidth": 0,
              "ticks": ""
             }
            },
            "type": "scattergl"
           }
          ],
          "scattermapbox": [
           {
            "marker": {
             "colorbar": {
              "outlinewidth": 0,
              "ticks": ""
             }
            },
            "type": "scattermapbox"
           }
          ],
          "scatterpolar": [
           {
            "marker": {
             "colorbar": {
              "outlinewidth": 0,
              "ticks": ""
             }
            },
            "type": "scatterpolar"
           }
          ],
          "scatterpolargl": [
           {
            "marker": {
             "colorbar": {
              "outlinewidth": 0,
              "ticks": ""
             }
            },
            "type": "scatterpolargl"
           }
          ],
          "scatterternary": [
           {
            "marker": {
             "colorbar": {
              "outlinewidth": 0,
              "ticks": ""
             }
            },
            "type": "scatterternary"
           }
          ],
          "surface": [
           {
            "colorbar": {
             "outlinewidth": 0,
             "ticks": ""
            },
            "colorscale": [
             [
              0,
              "#0d0887"
             ],
             [
              0.1111111111111111,
              "#46039f"
             ],
             [
              0.2222222222222222,
              "#7201a8"
             ],
             [
              0.3333333333333333,
              "#9c179e"
             ],
             [
              0.4444444444444444,
              "#bd3786"
             ],
             [
              0.5555555555555556,
              "#d8576b"
             ],
             [
              0.6666666666666666,
              "#ed7953"
             ],
             [
              0.7777777777777778,
              "#fb9f3a"
             ],
             [
              0.8888888888888888,
              "#fdca26"
             ],
             [
              1,
              "#f0f921"
             ]
            ],
            "type": "surface"
           }
          ],
          "table": [
           {
            "cells": {
             "fill": {
              "color": "#EBF0F8"
             },
             "line": {
              "color": "white"
             }
            },
            "header": {
             "fill": {
              "color": "#C8D4E3"
             },
             "line": {
              "color": "white"
             }
            },
            "type": "table"
           }
          ]
         },
         "layout": {
          "annotationdefaults": {
           "arrowcolor": "#2a3f5f",
           "arrowhead": 0,
           "arrowwidth": 1
          },
          "autotypenumbers": "strict",
          "coloraxis": {
           "colorbar": {
            "outlinewidth": 0,
            "ticks": ""
           }
          },
          "colorscale": {
           "diverging": [
            [
             0,
             "#8e0152"
            ],
            [
             0.1,
             "#c51b7d"
            ],
            [
             0.2,
             "#de77ae"
            ],
            [
             0.3,
             "#f1b6da"
            ],
            [
             0.4,
             "#fde0ef"
            ],
            [
             0.5,
             "#f7f7f7"
            ],
            [
             0.6,
             "#e6f5d0"
            ],
            [
             0.7,
             "#b8e186"
            ],
            [
             0.8,
             "#7fbc41"
            ],
            [
             0.9,
             "#4d9221"
            ],
            [
             1,
             "#276419"
            ]
           ],
           "sequential": [
            [
             0,
             "#0d0887"
            ],
            [
             0.1111111111111111,
             "#46039f"
            ],
            [
             0.2222222222222222,
             "#7201a8"
            ],
            [
             0.3333333333333333,
             "#9c179e"
            ],
            [
             0.4444444444444444,
             "#bd3786"
            ],
            [
             0.5555555555555556,
             "#d8576b"
            ],
            [
             0.6666666666666666,
             "#ed7953"
            ],
            [
             0.7777777777777778,
             "#fb9f3a"
            ],
            [
             0.8888888888888888,
             "#fdca26"
            ],
            [
             1,
             "#f0f921"
            ]
           ],
           "sequentialminus": [
            [
             0,
             "#0d0887"
            ],
            [
             0.1111111111111111,
             "#46039f"
            ],
            [
             0.2222222222222222,
             "#7201a8"
            ],
            [
             0.3333333333333333,
             "#9c179e"
            ],
            [
             0.4444444444444444,
             "#bd3786"
            ],
            [
             0.5555555555555556,
             "#d8576b"
            ],
            [
             0.6666666666666666,
             "#ed7953"
            ],
            [
             0.7777777777777778,
             "#fb9f3a"
            ],
            [
             0.8888888888888888,
             "#fdca26"
            ],
            [
             1,
             "#f0f921"
            ]
           ]
          },
          "colorway": [
           "#636efa",
           "#EF553B",
           "#00cc96",
           "#ab63fa",
           "#FFA15A",
           "#19d3f3",
           "#FF6692",
           "#B6E880",
           "#FF97FF",
           "#FECB52"
          ],
          "font": {
           "color": "#2a3f5f"
          },
          "geo": {
           "bgcolor": "white",
           "lakecolor": "white",
           "landcolor": "#E5ECF6",
           "showlakes": true,
           "showland": true,
           "subunitcolor": "white"
          },
          "hoverlabel": {
           "align": "left"
          },
          "hovermode": "closest",
          "mapbox": {
           "style": "light"
          },
          "paper_bgcolor": "white",
          "plot_bgcolor": "#E5ECF6",
          "polar": {
           "angularaxis": {
            "gridcolor": "white",
            "linecolor": "white",
            "ticks": ""
           },
           "bgcolor": "#E5ECF6",
           "radialaxis": {
            "gridcolor": "white",
            "linecolor": "white",
            "ticks": ""
           }
          },
          "scene": {
           "xaxis": {
            "backgroundcolor": "#E5ECF6",
            "gridcolor": "white",
            "gridwidth": 2,
            "linecolor": "white",
            "showbackground": true,
            "ticks": "",
            "zerolinecolor": "white"
           },
           "yaxis": {
            "backgroundcolor": "#E5ECF6",
            "gridcolor": "white",
            "gridwidth": 2,
            "linecolor": "white",
            "showbackground": true,
            "ticks": "",
            "zerolinecolor": "white"
           },
           "zaxis": {
            "backgroundcolor": "#E5ECF6",
            "gridcolor": "white",
            "gridwidth": 2,
            "linecolor": "white",
            "showbackground": true,
            "ticks": "",
            "zerolinecolor": "white"
           }
          },
          "shapedefaults": {
           "line": {
            "color": "#2a3f5f"
           }
          },
          "ternary": {
           "aaxis": {
            "gridcolor": "white",
            "linecolor": "white",
            "ticks": ""
           },
           "baxis": {
            "gridcolor": "white",
            "linecolor": "white",
            "ticks": ""
           },
           "bgcolor": "#E5ECF6",
           "caxis": {
            "gridcolor": "white",
            "linecolor": "white",
            "ticks": ""
           }
          },
          "title": {
           "x": 0.05
          },
          "xaxis": {
           "automargin": true,
           "gridcolor": "white",
           "linecolor": "white",
           "ticks": "",
           "title": {
            "standoff": 15
           },
           "zerolinecolor": "white",
           "zerolinewidth": 2
          },
          "yaxis": {
           "automargin": true,
           "gridcolor": "white",
           "linecolor": "white",
           "ticks": "",
           "title": {
            "standoff": 15
           },
           "zerolinecolor": "white",
           "zerolinewidth": 2
          }
         }
        },
        "title": {
         "text": "Correlation Between Features"
        },
        "width": 900,
        "xaxis": {
         "anchor": "y",
         "autorange": true,
         "constrain": "domain",
         "domain": [
          0.276536312849162,
          0.723463687150838
         ],
         "range": [
          -0.5,
          2.5
         ],
         "scaleanchor": "y",
         "type": "category"
        },
        "yaxis": {
         "anchor": "x",
         "autorange": true,
         "constrain": "domain",
         "domain": [
          0,
          1
         ],
         "range": [
          2.5,
          -0.5
         ],
         "type": "category"
        }
       }
      },
      "image/png": "[encoded data removed]",
      "text/html": [
       "<div>                            <div id=\"70769b22-cec9-43dd-9faf-1b92c5ebf84b\" class=\"plotly-graph-div\" style=\"height:500px; width:900px;\"></div>            <script type=\"text/javascript\">                require([\"plotly\"], function(Plotly) {                    window.PLOTLYENV=window.PLOTLYENV || {};                                    if (document.getElementById(\"70769b22-cec9-43dd-9faf-1b92c5ebf84b\")) {                    Plotly.newPlot(                        \"70769b22-cec9-43dd-9faf-1b92c5ebf84b\",                        [{\"coloraxis\":\"coloraxis\",\"name\":\"0\",\"texttemplate\":\"%{z}\",\"x\":[\"salary\",\"min_salary\",\"max_salary\"],\"y\":[\"salary\",\"min_salary\",\"max_salary\"],\"z\":[[1.0,0.94,0.93],[0.94,1.0,0.99],[0.93,0.99,1.0]],\"type\":\"heatmap\",\"xaxis\":\"x\",\"yaxis\":\"y\",\"hovertemplate\":\"x: %{x}<br>y: %{y}<br>color: %{z}<extra></extra>\"}],                        {\"template\":{\"data\":{\"histogram2dcontour\":[{\"type\":\"histogram2dcontour\",\"colorbar\":{\"outlinewidth\":0,\"ticks\":\"\"},\"colorscale\":[[0.0,\"#0d0887\"],[0.1111111111111111,\"#46039f\"],[0.2222222222222222,\"#7201a8\"],[0.3333333333333333,\"#9c179e\"],[0.4444444444444444,\"#bd3786\"],[0.5555555555555556,\"#d8576b\"],[0.6666666666666666,\"#ed7953\"],[0.7777777777777778,\"#fb9f3a\"],[0.8888888888888888,\"#fdca26\"],[1.0,\"#f0f921\"]]}],\"choropleth\":[{\"type\":\"choropleth\",\"colorbar\":{\"outlinewidth\":0,\"ticks\":\"\"}}],\"histogram2d\":[{\"type\":\"histogram2d\",\"colorbar\":{\"outlinewidth\":0,\"ticks\":\"\"},\"colorscale\":[[0.0,\"#0d0887\"],[0.1111111111111111,\"#46039f\"],[0.2222222222222222,\"#7201a8\"],[0.3333333333333333,\"#9c179e\"],[0.4444444444444444,\"#bd3786\"],[0.5555555555555556,\"#d8576b\"],[0.6666666666666666,\"#ed7953\"],[0.7777777777777778,\"#fb9f3a\"],[0.8888888888888888,\"#fdca26\"],[1.0,\"#f0f921\"]]}],\"heatmap\":[{\"type\":\"heatmap\",\"colorbar\":{\"outlinewidth\":0,\"ticks\":\"\"},\"colorscale\":[[0.0,\"#0d0887\"],[0.1111111111111111,\"#46039f\"],[0.2222222222222222,\"#7201a8\"],[0.3333333333333333,\"#9c179e\"],[0.4444444444444444,\"#bd3786\"],[0.5555555555555556,\"#d8576b\"],[0.6666666666666666,\"#ed7953\"],[0.7777777777777778,\"#fb9f3a\"],[0.8888888888888888,\"#fdca26\"],[1.0,\"#f0f921\"]]}],\"heatmapgl\":[{\"type\":\"heatmapgl\",\"colorbar\":{\"outlinewidth\":0,\"ticks\":\"\"},\"colorscale\":[[0.0,\"#0d0887\"],[0.1111111111111111,\"#46039f\"],[0.2222222222222222,\"#7201a8\"],[0.3333333333333333,\"#9c179e\"],[0.4444444444444444,\"#bd3786\"],[0.5555555555555556,\"#d8576b\"],[0.6666666666666666,\"#ed7953\"],[0.7777777777777778,\"#fb9f3a\"],[0.8888888888888888,\"#fdca26\"],[1.0,\"#f0f921\"]]}],\"contourcarpet\":[{\"type\":\"contourcarpet\",\"colorbar\":{\"outlinewidth\":0,\"ticks\":\"\"}}],\"contour\":[{\"type\":\"contour\",\"colorbar\":{\"outlinewidth\":0,\"ticks\":\"\"},\"colorscale\":[[0.0,\"#0d0887\"],[0.1111111111111111,\"#46039f\"],[0.2222222222222222,\"#7201a8\"],[0.3333333333333333,\"#9c179e\"],[0.4444444444444444,\"#bd3786\"],[0.5555555555555556,\"#d8576b\"],[0.6666666666666666,\"#ed7953\"],[0.7777777777777778,\"#fb9f3a\"],[0.8888888888888888,\"#fdca26\"],[1.0,\"#f0f921\"]]}],\"surface\":[{\"type\":\"surface\",\"colorbar\":{\"outlinewidth\":0,\"ticks\":\"\"},\"colorscale\":[[0.0,\"#0d0887\"],[0.1111111111111111,\"#46039f\"],[0.2222222222222222,\"#7201a8\"],[0.3333333333333333,\"#9c179e\"],[0.4444444444444444,\"#bd3786\"],[0.5555555555555556,\"#d8576b\"],[0.6666666666666666,\"#ed7953\"],[0.7777777777777778,\"#fb9f3a\"],[0.8888888888888888,\"#fdca26\"],[1.0,\"#f0f921\"]]}],\"mesh3d\":[{\"type\":\"mesh3d\",\"colorbar\":{\"outlinewidth\":0,\"ticks\":\"\"}}],\"scatter\":[{\"fillpattern\":{\"fillmode\":\"overlay\",\"size\":10,\"solidity\":0.2},\"type\":\"scatter\"}],\"parcoords\":[{\"type\":\"parcoords\",\"line\":{\"colorbar\":{\"outlinewidth\":0,\"ticks\":\"\"}}}],\"scatterpolargl\":[{\"type\":\"scatterpolargl\",\"marker\":{\"colorbar\":{\"outlinewidth\":0,\"ticks\":\"\"}}}],\"bar\":[{\"error_x\":{\"color\":\"#2a3f5f\"},\"error_y\":{\"color\":\"#2a3f5f\"},\"marker\":{\"line\":{\"color\":\"#E5ECF6\",\"width\":0.5},\"pattern\":{\"fillmode\":\"overlay\",\"size\":10,\"solidity\":0.2}},\"type\":\"bar\"}],\"scattergeo\":[{\"type\":\"scattergeo\",\"marker\":{\"colorbar\":{\"outlinewidth\":0,\"ticks\":\"\"}}}],\"scatterpolar\":[{\"type\":\"scatterpolar\",\"marker\":{\"colorbar\":{\"outlinewidth\":0,\"ticks\":\"\"}}}],\"histogram\":[{\"marker\":{\"pattern\":{\"fillmode\":\"overlay\",\"size\":10,\"solidity\":0.2}},\"type\":\"histogram\"}],\"scattergl\":[{\"type\":\"scattergl\",\"marker\":{\"colorbar\":{\"outlinewidth\":0,\"ticks\":\"\"}}}],\"scatter3d\":[{\"type\":\"scatter3d\",\"line\":{\"colorbar\":{\"outlinewidth\":0,\"ticks\":\"\"}},\"marker\":{\"colorbar\":{\"outlinewidth\":0,\"ticks\":\"\"}}}],\"scattermapbox\":[{\"type\":\"scattermapbox\",\"marker\":{\"colorbar\":{\"outlinewidth\":0,\"ticks\":\"\"}}}],\"scatterternary\":[{\"type\":\"scatterternary\",\"marker\":{\"colorbar\":{\"outlinewidth\":0,\"ticks\":\"\"}}}],\"scattercarpet\":[{\"type\":\"scattercarpet\",\"marker\":{\"colorbar\":{\"outlinewidth\":0,\"ticks\":\"\"}}}],\"carpet\":[{\"aaxis\":{\"endlinecolor\":\"#2a3f5f\",\"gridcolor\":\"white\",\"linecolor\":\"white\",\"minorgridcolor\":\"white\",\"startlinecolor\":\"#2a3f5f\"},\"baxis\":{\"endlinecolor\":\"#2a3f5f\",\"gridcolor\":\"white\",\"linecolor\":\"white\",\"minorgridcolor\":\"white\",\"startlinecolor\":\"#2a3f5f\"},\"type\":\"carpet\"}],\"table\":[{\"cells\":{\"fill\":{\"color\":\"#EBF0F8\"},\"line\":{\"color\":\"white\"}},\"header\":{\"fill\":{\"color\":\"#C8D4E3\"},\"line\":{\"color\":\"white\"}},\"type\":\"table\"}],\"barpolar\":[{\"marker\":{\"line\":{\"color\":\"#E5ECF6\",\"width\":0.5},\"pattern\":{\"fillmode\":\"overlay\",\"size\":10,\"solidity\":0.2}},\"type\":\"barpolar\"}],\"pie\":[{\"automargin\":true,\"type\":\"pie\"}]},\"layout\":{\"autotypenumbers\":\"strict\",\"colorway\":[\"#636efa\",\"#EF553B\",\"#00cc96\",\"#ab63fa\",\"#FFA15A\",\"#19d3f3\",\"#FF6692\",\"#B6E880\",\"#FF97FF\",\"#FECB52\"],\"font\":{\"color\":\"#2a3f5f\"},\"hovermode\":\"closest\",\"hoverlabel\":{\"align\":\"left\"},\"paper_bgcolor\":\"white\",\"plot_bgcolor\":\"#E5ECF6\",\"polar\":{\"bgcolor\":\"#E5ECF6\",\"angularaxis\":{\"gridcolor\":\"white\",\"linecolor\":\"white\",\"ticks\":\"\"},\"radialaxis\":{\"gridcolor\":\"white\",\"linecolor\":\"white\",\"ticks\":\"\"}},\"ternary\":{\"bgcolor\":\"#E5ECF6\",\"aaxis\":{\"gridcolor\":\"white\",\"linecolor\":\"white\",\"ticks\":\"\"},\"baxis\":{\"gridcolor\":\"white\",\"linecolor\":\"white\",\"ticks\":\"\"},\"caxis\":{\"gridcolor\":\"white\",\"linecolor\":\"white\",\"ticks\":\"\"}},\"coloraxis\":{\"colorbar\":{\"outlinewidth\":0,\"ticks\":\"\"}},\"colorscale\":{\"sequential\":[[0.0,\"#0d0887\"],[0.1111111111111111,\"#46039f\"],[0.2222222222222222,\"#7201a8\"],[0.3333333333333333,\"#9c179e\"],[0.4444444444444444,\"#bd3786\"],[0.5555555555555556,\"#d8576b\"],[0.6666666666666666,\"#ed7953\"],[0.7777777777777778,\"#fb9f3a\"],[0.8888888888888888,\"#fdca26\"],[1.0,\"#f0f921\"]],\"sequentialminus\":[[0.0,\"#0d0887\"],[0.1111111111111111,\"#46039f\"],[0.2222222222222222,\"#7201a8\"],[0.3333333333333333,\"#9c179e\"],[0.4444444444444444,\"#bd3786\"],[0.5555555555555556,\"#d8576b\"],[0.6666666666666666,\"#ed7953\"],[0.7777777777777778,\"#fb9f3a\"],[0.8888888888888888,\"#fdca26\"],[1.0,\"#f0f921\"]],\"diverging\":[[0,\"#8e0152\"],[0.1,\"#c51b7d\"],[0.2,\"#de77ae\"],[0.3,\"#f1b6da\"],[0.4,\"#fde0ef\"],[0.5,\"#f7f7f7\"],[0.6,\"#e6f5d0\"],[0.7,\"#b8e186\"],[0.8,\"#7fbc41\"],[0.9,\"#4d9221\"],[1,\"#276419\"]]},\"xaxis\":{\"gridcolor\":\"white\",\"linecolor\":\"white\",\"ticks\":\"\",\"title\":{\"standoff\":15},\"zerolinecolor\":\"white\",\"automargin\":true,\"zerolinewidth\":2},\"yaxis\":{\"gridcolor\":\"white\",\"linecolor\":\"white\",\"ticks\":\"\",\"title\":{\"standoff\":15},\"zerolinecolor\":\"white\",\"automargin\":true,\"zerolinewidth\":2},\"scene\":{\"xaxis\":{\"backgroundcolor\":\"#E5ECF6\",\"gridcolor\":\"white\",\"linecolor\":\"white\",\"showbackground\":true,\"ticks\":\"\",\"zerolinecolor\":\"white\",\"gridwidth\":2},\"yaxis\":{\"backgroundcolor\":\"#E5ECF6\",\"gridcolor\":\"white\",\"linecolor\":\"white\",\"showbackground\":true,\"ticks\":\"\",\"zerolinecolor\":\"white\",\"gridwidth\":2},\"zaxis\":{\"backgroundcolor\":\"#E5ECF6\",\"gridcolor\":\"white\",\"linecolor\":\"white\",\"showbackground\":true,\"ticks\":\"\",\"zerolinecolor\":\"white\",\"gridwidth\":2}},\"shapedefaults\":{\"line\":{\"color\":\"#2a3f5f\"}},\"annotationdefaults\":{\"arrowcolor\":\"#2a3f5f\",\"arrowhead\":0,\"arrowwidth\":1},\"geo\":{\"bgcolor\":\"white\",\"landcolor\":\"#E5ECF6\",\"subunitcolor\":\"white\",\"showland\":true,\"showlakes\":true,\"lakecolor\":\"white\"},\"title\":{\"x\":0.05},\"mapbox\":{\"style\":\"light\"}}},\"xaxis\":{\"anchor\":\"y\",\"domain\":[0.0,1.0],\"scaleanchor\":\"y\",\"constrain\":\"domain\"},\"yaxis\":{\"anchor\":\"x\",\"domain\":[0.0,1.0],\"autorange\":\"reversed\",\"constrain\":\"domain\"},\"coloraxis\":{\"colorscale\":[[0.0,\"#0d0887\"],[0.1111111111111111,\"#46039f\"],[0.2222222222222222,\"#7201a8\"],[0.3333333333333333,\"#9c179e\"],[0.4444444444444444,\"#bd3786\"],[0.5555555555555556,\"#d8576b\"],[0.6666666666666666,\"#ed7953\"],[0.7777777777777778,\"#fb9f3a\"],[0.8888888888888888,\"#fdca26\"],[1.0,\"#f0f921\"]]},\"title\":{\"text\":\"Correlation Between Features\"},\"width\":900,\"height\":500},                        {\"responsive\": true}                    ).then(function(){\n",
       "                            \n",
       "var gd = document.getElementById('70769b22-cec9-43dd-9faf-1b92c5ebf84b');\n",
       "var x = new MutationObserver(function (mutations, observer) {{\n",
       "        var display = window.getComputedStyle(gd).display;\n",
       "        if (!display || display === 'none') {{\n",
       "            console.log([gd, 'removed!']);\n",
       "            Plotly.purge(gd);\n",
       "            observer.disconnect();\n",
       "        }}\n",
       "}});\n",
       "\n",
       "// Listen for the removal of the full notebook cells\n",
       "var notebookContainer = gd.closest('#notebook-container');\n",
       "if (notebookContainer) {{\n",
       "    x.observe(notebookContainer, {childList: true});\n",
       "}}\n",
       "\n",
       "// Listen for the clearing of the current output cell\n",
       "var outputEl = gd.closest('.output');\n",
       "if (outputEl) {{\n",
       "    x.observe(outputEl, {childList: true});\n",
       "}}\n",
       "\n",
       "                        })                };                });            </script>        </div>"
      ]
     },
     "metadata": {},
     "output_type": "display_data"
    },
    {
     "data": {
      "text/plain": [
       "<Figure size 600x400 with 0 Axes>"
      ]
     },
     "metadata": {},
     "output_type": "display_data"
    }
   ],
   "source": [
    "# Selecting numeric columns for correlation analysis\n",
    "numeric_columns = ['salary', 'min_salary', 'max_salary']\n",
    "\n",
    "# Compute the correlation matrix\n",
    "correlation_matrix = employeeRecordsDataframe[numeric_columns].corr().round(2)\n",
    "\n",
    "# Create the heatmap with a different color palette (e.g., 'viridis')\n",
    "plt.figure(figsize=(6, 4))\n",
    "fig = pt.imshow(correlation_matrix, text_auto = True, title = \"Correlation Between Features\")\n",
    "fig.layout.width = 900\n",
    "fig.layout.height = 500\n",
    "fig.show()"
   ]
  },
  {
   "cell_type": "markdown",
   "id": "c2ca0c9f-fa5d-4d79-b95a-429b735052e1",
   "metadata": {},
   "source": [
    "### Number of Hires by Year"
   ]
  },
  {
   "cell_type": "code",
   "execution_count": 129,
   "id": "7afe8851-3145-4964-94ef-fe5f378e1d8f",
   "metadata": {},
   "outputs": [
    {
     "data": {
      "image/png": "[encoded data removed]",
      "text/plain": [
       "<Figure size 1600x600 with 1 Axes>"
      ]
     },
     "metadata": {},
     "output_type": "display_data"
    }
   ],
   "source": [
    "plt.figure(figsize = (16, 6))\n",
    "ax = sns.countplot(data = employeeRecordsDataframe, x = \"Hire Year\", palette = \"flare\")\n",
    "\n",
    "for container in ax.containers:\n",
    "    ax.bar_label(container)\n",
    "\n",
    "plt.title(\"Number of Hires by Year\", fontsize = 12)\n",
    "    \n",
    "plt.show()"
   ]
  },
  {
   "cell_type": "markdown",
   "id": "eda0cb9f-c712-423c-95ee-a0991cc14729",
   "metadata": {},
   "source": [
    "### Average Salary by Job Title"
   ]
  },
  {
   "cell_type": "code",
   "execution_count": 130,
   "id": "81620247-92cd-4a7c-83a1-22555be69ef8",
   "metadata": {},
   "outputs": [
    {
     "data": {
      "image/png": "[encoded data removed]",
      "text/plain": [
       "<Figure size 1500x800 with 1 Axes>"
      ]
     },
     "metadata": {},
     "output_type": "display_data"
    }
   ],
   "source": [
    "# Calculate average salary by job title\n",
    "avg_salary_by_job = employeeRecordsDataframe.groupby('job_title')['salary'].mean().reset_index()\n",
    "\n",
    "avg_salary_by_job = avg_salary_by_job.sort_values(by = 'salary', ascending = True)\n",
    "\n",
    "# Plotting\n",
    "plt.figure(figsize=(15, 8))\n",
    "ax = sns.barplot(data=avg_salary_by_job, x='job_title', y='salary', palette='viridis')\n",
    "\n",
    "# Add bar labels\n",
    "for container in ax.containers:\n",
    "    ax.bar_label(container)\n",
    "\n",
    "plt.title('Average Salary by Job Title', weight = \"light\", fontsize = 14, pad = 15)\n",
    "plt.xlabel('Job Title', fontsize = 12)\n",
    "plt.ylabel('Average Salary', fontsize = 12)\n",
    "plt.xticks(rotation=90)\n",
    "plt.tight_layout()  # Adjust layout to prevent clipping\n",
    "\n",
    "plt.show()"
   ]
  },
  {
   "cell_type": "markdown",
   "id": "405cf1ef-17b9-499f-9c34-9109a99582b9",
   "metadata": {},
   "source": [
    "### Minimum Salary Category"
   ]
  },
  {
   "cell_type": "code",
   "execution_count": 131,
   "id": "1009cebe-b975-4ff3-937e-1a444c84f529",
   "metadata": {},
   "outputs": [
    {
     "data": {
      "application/vnd.plotly.v1+json": {
       "config": {
        "plotlyServerURL": "https://plot.ly"
       },
       "data": [
        {
         "customdata": [
          [
           20000
          ],
          [
           15000
          ],
          [
           15000
          ],
          [
           4000
          ],
          [
           4000
          ],
          [
           4000
          ],
          [
           4000
          ],
          [
           4000
          ],
          [
           8200
          ],
          [
           4200
          ],
          [
           4200
          ],
          [
           4200
          ],
          [
           4200
          ],
          [
           4200
          ],
          [
           8000
          ],
          [
           2500
          ],
          [
           2500
          ],
          [
           2500
          ],
          [
           2500
          ],
          [
           2500
          ],
          [
           5500
          ],
          [
           5500
          ],
          [
           5500
          ],
          [
           5500
          ],
          [
           5500
          ],
          [
           2000
          ],
          [
           2000
          ],
          [
           2000
          ],
          [
           2000
          ],
          [
           2000
          ],
          [
           2000
          ],
          [
           2000
          ],
          [
           2000
          ],
          [
           2000
          ],
          [
           2000
          ],
          [
           2000
          ],
          [
           2000
          ],
          [
           2000
          ],
          [
           2000
          ],
          [
           2000
          ],
          [
           2000
          ],
          [
           2000
          ],
          [
           2000
          ],
          [
           2000
          ],
          [
           2000
          ],
          [
           10000
          ],
          [
           10000
          ],
          [
           10000
          ],
          [
           10000
          ],
          [
           10000
          ],
          [
           6000
          ],
          [
           6000
          ],
          [
           6000
          ],
          [
           6000
          ],
          [
           6000
          ],
          [
           6000
          ],
          [
           6000
          ],
          [
           6000
          ],
          [
           6000
          ],
          [
           6000
          ],
          [
           6000
          ],
          [
           6000
          ],
          [
           6000
          ],
          [
           6000
          ],
          [
           6000
          ],
          [
           6000
          ],
          [
           6000
          ],
          [
           6000
          ],
          [
           6000
          ],
          [
           6000
          ],
          [
           6000
          ],
          [
           6000
          ],
          [
           6000
          ],
          [
           6000
          ],
          [
           6000
          ],
          [
           6000
          ],
          [
           6000
          ],
          [
           6000
          ],
          [
           6000
          ],
          [
           6000
          ],
          [
           2500
          ],
          [
           2500
          ],
          [
           2500
          ],
          [
           2500
          ],
          [
           2500
          ],
          [
           2500
          ],
          [
           2500
          ],
          [
           2500
          ],
          [
           2500
          ],
          [
           2500
          ],
          [
           2500
          ],
          [
           2500
          ],
          [
           2500
          ],
          [
           2500
          ],
          [
           2500
          ],
          [
           2500
          ],
          [
           2500
          ],
          [
           2500
          ],
          [
           2500
          ],
          [
           2500
          ],
          [
           3000
          ],
          [
           9000
          ],
          [
           4000
          ],
          [
           4000
          ],
          [
           4500
          ],
          [
           8200
          ],
          [
           4200
          ]
         ],
         "domain": {
          "x": [
           0,
           1
          ],
          "y": [
           0,
           1
          ]
         },
         "hovertemplate": "Minimum Salary Category=%{label}<br>min_salary=%{customdata[0]}<extra></extra>",
         "labels": [
          "15k-20k",
          "10k-15k",
          "10k-15k",
          "1k-5k",
          "1k-5k",
          "1k-5k",
          "1k-5k",
          "1k-5k",
          "5k-10k",
          "1k-5k",
          "1k-5k",
          "1k-5k",
          "1k-5k",
          "1k-5k",
          "5k-10k",
          "1k-5k",
          "1k-5k",
          "1k-5k",
          "1k-5k",
          "1k-5k",
          "5k-10k",
          "5k-10k",
          "5k-10k",
          "5k-10k",
          "5k-10k",
          "1k-5k",
          "1k-5k",
          "1k-5k",
          "1k-5k",
          "1k-5k",
          "1k-5k",
          "1k-5k",
          "1k-5k",
          "1k-5k",
          "1k-5k",
          "1k-5k",
          "1k-5k",
          "1k-5k",
          "1k-5k",
          "1k-5k",
          "1k-5k",
          "1k-5k",
          "1k-5k",
          "1k-5k",
          "1k-5k",
          "5k-10k",
          "5k-10k",
          "5k-10k",
          "5k-10k",
          "5k-10k",
          "5k-10k",
          "5k-10k",
          "5k-10k",
          "5k-10k",
          "5k-10k",
          "5k-10k",
          "5k-10k",
          "5k-10k",
          "5k-10k",
          "5k-10k",
          "5k-10k",
          "5k-10k",
          "5k-10k",
          "5k-10k",
          "5k-10k",
          "5k-10k",
          "5k-10k",
          "5k-10k",
          "5k-10k",
          "5k-10k",
          "5k-10k",
          "5k-10k",
          "5k-10k",
          "5k-10k",
          "5k-10k",
          "5k-10k",
          "5k-10k",
          "5k-10k",
          "5k-10k",
          "5k-10k",
          "1k-5k",
          "1k-5k",
          "1k-5k",
          "1k-5k",
          "1k-5k",
          "1k-5k",
          "1k-5k",
          "1k-5k",
          "1k-5k",
          "1k-5k",
          "1k-5k",
          "1k-5k",
          "1k-5k",
          "1k-5k",
          "1k-5k",
          "1k-5k",
          "1k-5k",
          "1k-5k",
          "1k-5k",
          "1k-5k",
          "1k-5k",
          "5k-10k",
          "1k-5k",
          "1k-5k",
          "1k-5k",
          "5k-10k",
          "1k-5k"
         ],
         "legendgroup": "",
         "name": "",
         "showlegend": true,
         "type": "pie"
        }
       ],
       "layout": {
        "height": 400,
        "legend": {
         "tracegroupgap": 0
        },
        "piecolorway": [
         "#0d0887",
         "#46039f",
         "#7201a8",
         "#9c179e",
         "#bd3786",
         "#d8576b",
         "#ed7953",
         "#fb9f3a",
         "#fdca26",
         "#f0f921"
        ],
        "template": {
         "data": {
          "bar": [
           {
            "error_x": {
             "color": "#2a3f5f"
            },
            "error_y": {
             "color": "#2a3f5f"
            },
            "marker": {
             "line": {
              "color": "#E5ECF6",
              "width": 0.5
             },
             "pattern": {
              "fillmode": "overlay",
              "size": 10,
              "solidity": 0.2
             }
            },
            "type": "bar"
           }
          ],
          "barpolar": [
           {
            "marker": {
             "line": {
              "color": "#E5ECF6",
              "width": 0.5
             },
             "pattern": {
              "fillmode": "overlay",
              "size": 10,
              "solidity": 0.2
             }
            },
            "type": "barpolar"
           }
          ],
          "carpet": [
           {
            "aaxis": {
             "endlinecolor": "#2a3f5f",
             "gridcolor": "white",
             "linecolor": "white",
             "minorgridcolor": "white",
             "startlinecolor": "#2a3f5f"
            },
            "baxis": {
             "endlinecolor": "#2a3f5f",
             "gridcolor": "white",
             "linecolor": "white",
             "minorgridcolor": "white",
             "startlinecolor": "#2a3f5f"
            },
            "type": "carpet"
           }
          ],
          "choropleth": [
           {
            "colorbar": {
             "outlinewidth": 0,
             "ticks": ""
            },
            "type": "choropleth"
           }
          ],
          "contour": [
           {
            "colorbar": {
             "outlinewidth": 0,
             "ticks": ""
            },
            "colorscale": [
             [
              0,
              "#0d0887"
             ],
             [
              0.1111111111111111,
              "#46039f"
             ],
             [
              0.2222222222222222,
              "#7201a8"
             ],
             [
              0.3333333333333333,
              "#9c179e"
             ],
             [
              0.4444444444444444,
              "#bd3786"
             ],
             [
              0.5555555555555556,
              "#d8576b"
             ],
             [
              0.6666666666666666,
              "#ed7953"
             ],
             [
              0.7777777777777778,
              "#fb9f3a"
             ],
             [
              0.8888888888888888,
              "#fdca26"
             ],
             [
              1,
              "#f0f921"
             ]
            ],
            "type": "contour"
           }
          ],
          "contourcarpet": [
           {
            "colorbar": {
             "outlinewidth": 0,
             "ticks": ""
            },
            "type": "contourcarpet"
           }
          ],
          "heatmap": [
           {
            "colorbar": {
             "outlinewidth": 0,
             "ticks": ""
            },
            "colorscale": [
             [
              0,
              "#0d0887"
             ],
             [
              0.1111111111111111,
              "#46039f"
             ],
             [
              0.2222222222222222,
              "#7201a8"
             ],
             [
              0.3333333333333333,
              "#9c179e"
             ],
             [
              0.4444444444444444,
              "#bd3786"
             ],
             [
              0.5555555555555556,
              "#d8576b"
             ],
             [
              0.6666666666666666,
              "#ed7953"
             ],
             [
              0.7777777777777778,
              "#fb9f3a"
             ],
             [
              0.8888888888888888,
              "#fdca26"
             ],
             [
              1,
              "#f0f921"
             ]
            ],
            "type": "heatmap"
           }
          ],
          "heatmapgl": [
           {
            "colorbar": {
             "outlinewidth": 0,
             "ticks": ""
            },
            "colorscale": [
             [
              0,
              "#0d0887"
             ],
             [
              0.1111111111111111,
              "#46039f"
             ],
             [
              0.2222222222222222,
              "#7201a8"
             ],
             [
              0.3333333333333333,
              "#9c179e"
             ],
             [
              0.4444444444444444,
              "#bd3786"
             ],
             [
              0.5555555555555556,
              "#d8576b"
             ],
             [
              0.6666666666666666,
              "#ed7953"
             ],
             [
              0.7777777777777778,
              "#fb9f3a"
             ],
             [
              0.8888888888888888,
              "#fdca26"
             ],
             [
              1,
              "#f0f921"
             ]
            ],
            "type": "heatmapgl"
           }
          ],
          "histogram": [
           {
            "marker": {
             "pattern": {
              "fillmode": "overlay",
              "size": 10,
              "solidity": 0.2
             }
            },
            "type": "histogram"
           }
          ],
          "histogram2d": [
           {
            "colorbar": {
             "outlinewidth": 0,
             "ticks": ""
            },
            "colorscale": [
             [
              0,
              "#0d0887"
             ],
             [
              0.1111111111111111,
              "#46039f"
             ],
             [
              0.2222222222222222,
              "#7201a8"
             ],
             [
              0.3333333333333333,
              "#9c179e"
             ],
             [
              0.4444444444444444,
              "#bd3786"
             ],
             [
              0.5555555555555556,
              "#d8576b"
             ],
             [
              0.6666666666666666,
              "#ed7953"
             ],
             [
              0.7777777777777778,
              "#fb9f3a"
             ],
             [
              0.8888888888888888,
              "#fdca26"
             ],
             [
              1,
              "#f0f921"
             ]
            ],
            "type": "histogram2d"
           }
          ],
          "histogram2dcontour": [
           {
            "colorbar": {
             "outlinewidth": 0,
             "ticks": ""
            },
            "colorscale": [
             [
              0,
              "#0d0887"
             ],
             [
              0.1111111111111111,
              "#46039f"
             ],
             [
              0.2222222222222222,
              "#7201a8"
             ],
             [
              0.3333333333333333,
              "#9c179e"
             ],
             [
              0.4444444444444444,
              "#bd3786"
             ],
             [
              0.5555555555555556,
              "#d8576b"
             ],
             [
              0.6666666666666666,
              "#ed7953"
             ],
             [
              0.7777777777777778,
              "#fb9f3a"
             ],
             [
              0.8888888888888888,
              "#fdca26"
             ],
             [
              1,
              "#f0f921"
             ]
            ],
            "type": "histogram2dcontour"
           }
          ],
          "mesh3d": [
           {
            "colorbar": {
             "outlinewidth": 0,
             "ticks": ""
            },
            "type": "mesh3d"
           }
          ],
          "parcoords": [
           {
            "line": {
             "colorbar": {
              "outlinewidth": 0,
              "ticks": ""
             }
            },
            "type": "parcoords"
           }
          ],
          "pie": [
           {
            "automargin": true,
            "type": "pie"
           }
          ],
          "scatter": [
           {
            "fillpattern": {
             "fillmode": "overlay",
             "size": 10,
             "solidity": 0.2
            },
            "type": "scatter"
           }
          ],
          "scatter3d": [
           {
            "line": {
             "colorbar": {
              "outlinewidth": 0,
              "ticks": ""
             }
            },
            "marker": {
             "colorbar": {
              "outlinewidth": 0,
              "ticks": ""
             }
            },
            "type": "scatter3d"
           }
          ],
          "scattercarpet": [
           {
            "marker": {
             "colorbar": {
              "outlinewidth": 0,
              "ticks": ""
             }
            },
            "type": "scattercarpet"
           }
          ],
          "scattergeo": [
           {
            "marker": {
             "colorbar": {
              "outlinewidth": 0,
              "ticks": ""
             }
            },
            "type": "scattergeo"
           }
          ],
          "scattergl": [
           {
            "marker": {
             "colorbar": {
              "outlinewidth": 0,
              "ticks": ""
             }
            },
            "type": "scattergl"
           }
          ],
          "scattermapbox": [
           {
            "marker": {
             "colorbar": {
              "outlinewidth": 0,
              "ticks": ""
             }
            },
            "type": "scattermapbox"
           }
          ],
          "scatterpolar": [
           {
            "marker": {
             "colorbar": {
              "outlinewidth": 0,
              "ticks": ""
             }
            },
            "type": "scatterpolar"
           }
          ],
          "scatterpolargl": [
           {
            "marker": {
             "colorbar": {
              "outlinewidth": 0,
              "ticks": ""
             }
            },
            "type": "scatterpolargl"
           }
          ],
          "scatterternary": [
           {
            "marker": {
             "colorbar": {
              "outlinewidth": 0,
              "ticks": ""
             }
            },
            "type": "scatterternary"
           }
          ],
          "surface": [
           {
            "colorbar": {
             "outlinewidth": 0,
             "ticks": ""
            },
            "colorscale": [
             [
              0,
              "#0d0887"
             ],
             [
              0.1111111111111111,
              "#46039f"
             ],
             [
              0.2222222222222222,
              "#7201a8"
             ],
             [
              0.3333333333333333,
              "#9c179e"
             ],
             [
              0.4444444444444444,
              "#bd3786"
             ],
             [
              0.5555555555555556,
              "#d8576b"
             ],
             [
              0.6666666666666666,
              "#ed7953"
             ],
             [
              0.7777777777777778,
              "#fb9f3a"
             ],
             [
              0.8888888888888888,
              "#fdca26"
             ],
             [
              1,
              "#f0f921"
             ]
            ],
            "type": "surface"
           }
          ],
          "table": [
           {
            "cells": {
             "fill": {
              "color": "#EBF0F8"
             },
             "line": {
              "color": "white"
             }
            },
            "header": {
             "fill": {
              "color": "#C8D4E3"
             },
             "line": {
              "color": "white"
             }
            },
            "type": "table"
           }
          ]
         },
         "layout": {
          "annotationdefaults": {
           "arrowcolor": "#2a3f5f",
           "arrowhead": 0,
           "arrowwidth": 1
          },
          "autotypenumbers": "strict",
          "coloraxis": {
           "colorbar": {
            "outlinewidth": 0,
            "ticks": ""
           }
          },
          "colorscale": {
           "diverging": [
            [
             0,
             "#8e0152"
            ],
            [
             0.1,
             "#c51b7d"
            ],
            [
             0.2,
             "#de77ae"
            ],
            [
             0.3,
             "#f1b6da"
            ],
            [
             0.4,
             "#fde0ef"
            ],
            [
             0.5,
             "#f7f7f7"
            ],
            [
             0.6,
             "#e6f5d0"
            ],
            [
             0.7,
             "#b8e186"
            ],
            [
             0.8,
             "#7fbc41"
            ],
            [
             0.9,
             "#4d9221"
            ],
            [
             1,
             "#276419"
            ]
           ],
           "sequential": [
            [
             0,
             "#0d0887"
            ],
            [
             0.1111111111111111,
             "#46039f"
            ],
            [
             0.2222222222222222,
             "#7201a8"
            ],
            [
             0.3333333333333333,
             "#9c179e"
            ],
            [
             0.4444444444444444,
             "#bd3786"
            ],
            [
             0.5555555555555556,
             "#d8576b"
            ],
            [
             0.6666666666666666,
             "#ed7953"
            ],
            [
             0.7777777777777778,
             "#fb9f3a"
            ],
            [
             0.8888888888888888,
             "#fdca26"
            ],
            [
             1,
             "#f0f921"
            ]
           ],
           "sequentialminus": [
            [
             0,
             "#0d0887"
            ],
            [
             0.1111111111111111,
             "#46039f"
            ],
            [
             0.2222222222222222,
             "#7201a8"
            ],
            [
             0.3333333333333333,
             "#9c179e"
            ],
            [
             0.4444444444444444,
             "#bd3786"
            ],
            [
             0.5555555555555556,
             "#d8576b"
            ],
            [
             0.6666666666666666,
             "#ed7953"
            ],
            [
             0.7777777777777778,
             "#fb9f3a"
            ],
            [
             0.8888888888888888,
             "#fdca26"
            ],
            [
             1,
             "#f0f921"
            ]
           ]
          },
          "colorway": [
           "#636efa",
           "#EF553B",
           "#00cc96",
           "#ab63fa",
           "#FFA15A",
           "#19d3f3",
           "#FF6692",
           "#B6E880",
           "#FF97FF",
           "#FECB52"
          ],
          "font": {
           "color": "#2a3f5f"
          },
          "geo": {
           "bgcolor": "white",
           "lakecolor": "white",
           "landcolor": "#E5ECF6",
           "showlakes": true,
           "showland": true,
           "subunitcolor": "white"
          },
          "hoverlabel": {
           "align": "left"
          },
          "hovermode": "closest",
          "mapbox": {
           "style": "light"
          },
          "paper_bgcolor": "white",
          "plot_bgcolor": "#E5ECF6",
          "polar": {
           "angularaxis": {
            "gridcolor": "white",
            "linecolor": "white",
            "ticks": ""
           },
           "bgcolor": "#E5ECF6",
           "radialaxis": {
            "gridcolor": "white",
            "linecolor": "white",
            "ticks": ""
           }
          },
          "scene": {
           "xaxis": {
            "backgroundcolor": "#E5ECF6",
            "gridcolor": "white",
            "gridwidth": 2,
            "linecolor": "white",
            "showbackground": true,
            "ticks": "",
            "zerolinecolor": "white"
           },
           "yaxis": {
            "backgroundcolor": "#E5ECF6",
            "gridcolor": "white",
            "gridwidth": 2,
            "linecolor": "white",
            "showbackground": true,
            "ticks": "",
            "zerolinecolor": "white"
           },
           "zaxis": {
            "backgroundcolor": "#E5ECF6",
            "gridcolor": "white",
            "gridwidth": 2,
            "linecolor": "white",
            "showbackground": true,
            "ticks": "",
            "zerolinecolor": "white"
           }
          },
          "shapedefaults": {
           "line": {
            "color": "#2a3f5f"
           }
          },
          "ternary": {
           "aaxis": {
            "gridcolor": "white",
            "linecolor": "white",
            "ticks": ""
           },
           "baxis": {
            "gridcolor": "white",
            "linecolor": "white",
            "ticks": ""
           },
           "bgcolor": "#E5ECF6",
           "caxis": {
            "gridcolor": "white",
            "linecolor": "white",
            "ticks": ""
           }
          },
          "title": {
           "x": 0.05
          },
          "xaxis": {
           "automargin": true,
           "gridcolor": "white",
           "linecolor": "white",
           "ticks": "",
           "title": {
            "standoff": 15
           },
           "zerolinecolor": "white",
           "zerolinewidth": 2
          },
          "yaxis": {
           "automargin": true,
           "gridcolor": "white",
           "linecolor": "white",
           "ticks": "",
           "title": {
            "standoff": 15
           },
           "zerolinecolor": "white",
           "zerolinewidth": 2
          }
         }
        },
        "title": {
         "text": "Minimum Salary Category"
        },
        "width": 1000
       }
      },
      "image/png": "[encoded data removed]",
      "text/html": [
       "<div>                            <div id=\"de24c2ab-3aba-4d8c-981f-18ae5dfaf6b3\" class=\"plotly-graph-div\" style=\"height:400px; width:1000px;\"></div>            <script type=\"text/javascript\">                require([\"plotly\"], function(Plotly) {                    window.PLOTLYENV=window.PLOTLYENV || {};                                    if (document.getElementById(\"de24c2ab-3aba-4d8c-981f-18ae5dfaf6b3\")) {                    Plotly.newPlot(                        \"de24c2ab-3aba-4d8c-981f-18ae5dfaf6b3\",                        [{\"customdata\":[[20000.0],[15000.0],[15000.0],[4000.0],[4000.0],[4000.0],[4000.0],[4000.0],[8200.0],[4200.0],[4200.0],[4200.0],[4200.0],[4200.0],[8000.0],[2500.0],[2500.0],[2500.0],[2500.0],[2500.0],[5500.0],[5500.0],[5500.0],[5500.0],[5500.0],[2000.0],[2000.0],[2000.0],[2000.0],[2000.0],[2000.0],[2000.0],[2000.0],[2000.0],[2000.0],[2000.0],[2000.0],[2000.0],[2000.0],[2000.0],[2000.0],[2000.0],[2000.0],[2000.0],[2000.0],[10000.0],[10000.0],[10000.0],[10000.0],[10000.0],[6000.0],[6000.0],[6000.0],[6000.0],[6000.0],[6000.0],[6000.0],[6000.0],[6000.0],[6000.0],[6000.0],[6000.0],[6000.0],[6000.0],[6000.0],[6000.0],[6000.0],[6000.0],[6000.0],[6000.0],[6000.0],[6000.0],[6000.0],[6000.0],[6000.0],[6000.0],[6000.0],[6000.0],[6000.0],[6000.0],[2500.0],[2500.0],[2500.0],[2500.0],[2500.0],[2500.0],[2500.0],[2500.0],[2500.0],[2500.0],[2500.0],[2500.0],[2500.0],[2500.0],[2500.0],[2500.0],[2500.0],[2500.0],[2500.0],[2500.0],[3000.0],[9000.0],[4000.0],[4000.0],[4500.0],[8200.0],[4200.0]],\"domain\":{\"x\":[0.0,1.0],\"y\":[0.0,1.0]},\"hovertemplate\":\"Minimum Salary Category=%{label}<br>min_salary=%{customdata[0]}<extra></extra>\",\"labels\":[\"15k-20k\",\"10k-15k\",\"10k-15k\",\"1k-5k\",\"1k-5k\",\"1k-5k\",\"1k-5k\",\"1k-5k\",\"5k-10k\",\"1k-5k\",\"1k-5k\",\"1k-5k\",\"1k-5k\",\"1k-5k\",\"5k-10k\",\"1k-5k\",\"1k-5k\",\"1k-5k\",\"1k-5k\",\"1k-5k\",\"5k-10k\",\"5k-10k\",\"5k-10k\",\"5k-10k\",\"5k-10k\",\"1k-5k\",\"1k-5k\",\"1k-5k\",\"1k-5k\",\"1k-5k\",\"1k-5k\",\"1k-5k\",\"1k-5k\",\"1k-5k\",\"1k-5k\",\"1k-5k\",\"1k-5k\",\"1k-5k\",\"1k-5k\",\"1k-5k\",\"1k-5k\",\"1k-5k\",\"1k-5k\",\"1k-5k\",\"1k-5k\",\"5k-10k\",\"5k-10k\",\"5k-10k\",\"5k-10k\",\"5k-10k\",\"5k-10k\",\"5k-10k\",\"5k-10k\",\"5k-10k\",\"5k-10k\",\"5k-10k\",\"5k-10k\",\"5k-10k\",\"5k-10k\",\"5k-10k\",\"5k-10k\",\"5k-10k\",\"5k-10k\",\"5k-10k\",\"5k-10k\",\"5k-10k\",\"5k-10k\",\"5k-10k\",\"5k-10k\",\"5k-10k\",\"5k-10k\",\"5k-10k\",\"5k-10k\",\"5k-10k\",\"5k-10k\",\"5k-10k\",\"5k-10k\",\"5k-10k\",\"5k-10k\",\"5k-10k\",\"1k-5k\",\"1k-5k\",\"1k-5k\",\"1k-5k\",\"1k-5k\",\"1k-5k\",\"1k-5k\",\"1k-5k\",\"1k-5k\",\"1k-5k\",\"1k-5k\",\"1k-5k\",\"1k-5k\",\"1k-5k\",\"1k-5k\",\"1k-5k\",\"1k-5k\",\"1k-5k\",\"1k-5k\",\"1k-5k\",\"1k-5k\",\"5k-10k\",\"1k-5k\",\"1k-5k\",\"1k-5k\",\"5k-10k\",\"1k-5k\"],\"legendgroup\":\"\",\"name\":\"\",\"showlegend\":true,\"type\":\"pie\"}],                        {\"template\":{\"data\":{\"histogram2dcontour\":[{\"type\":\"histogram2dcontour\",\"colorbar\":{\"outlinewidth\":0,\"ticks\":\"\"},\"colorscale\":[[0.0,\"#0d0887\"],[0.1111111111111111,\"#46039f\"],[0.2222222222222222,\"#7201a8\"],[0.3333333333333333,\"#9c179e\"],[0.4444444444444444,\"#bd3786\"],[0.5555555555555556,\"#d8576b\"],[0.6666666666666666,\"#ed7953\"],[0.7777777777777778,\"#fb9f3a\"],[0.8888888888888888,\"#fdca26\"],[1.0,\"#f0f921\"]]}],\"choropleth\":[{\"type\":\"choropleth\",\"colorbar\":{\"outlinewidth\":0,\"ticks\":\"\"}}],\"histogram2d\":[{\"type\":\"histogram2d\",\"colorbar\":{\"outlinewidth\":0,\"ticks\":\"\"},\"colorscale\":[[0.0,\"#0d0887\"],[0.1111111111111111,\"#46039f\"],[0.2222222222222222,\"#7201a8\"],[0.3333333333333333,\"#9c179e\"],[0.4444444444444444,\"#bd3786\"],[0.5555555555555556,\"#d8576b\"],[0.6666666666666666,\"#ed7953\"],[0.7777777777777778,\"#fb9f3a\"],[0.8888888888888888,\"#fdca26\"],[1.0,\"#f0f921\"]]}],\"heatmap\":[{\"type\":\"heatmap\",\"colorbar\":{\"outlinewidth\":0,\"ticks\":\"\"},\"colorscale\":[[0.0,\"#0d0887\"],[0.1111111111111111,\"#46039f\"],[0.2222222222222222,\"#7201a8\"],[0.3333333333333333,\"#9c179e\"],[0.4444444444444444,\"#bd3786\"],[0.5555555555555556,\"#d8576b\"],[0.6666666666666666,\"#ed7953\"],[0.7777777777777778,\"#fb9f3a\"],[0.8888888888888888,\"#fdca26\"],[1.0,\"#f0f921\"]]}],\"heatmapgl\":[{\"type\":\"heatmapgl\",\"colorbar\":{\"outlinewidth\":0,\"ticks\":\"\"},\"colorscale\":[[0.0,\"#0d0887\"],[0.1111111111111111,\"#46039f\"],[0.2222222222222222,\"#7201a8\"],[0.3333333333333333,\"#9c179e\"],[0.4444444444444444,\"#bd3786\"],[0.5555555555555556,\"#d8576b\"],[0.6666666666666666,\"#ed7953\"],[0.7777777777777778,\"#fb9f3a\"],[0.8888888888888888,\"#fdca26\"],[1.0,\"#f0f921\"]]}],\"contourcarpet\":[{\"type\":\"contourcarpet\",\"colorbar\":{\"outlinewidth\":0,\"ticks\":\"\"}}],\"contour\":[{\"type\":\"contour\",\"colorbar\":{\"outlinewidth\":0,\"ticks\":\"\"},\"colorscale\":[[0.0,\"#0d0887\"],[0.1111111111111111,\"#46039f\"],[0.2222222222222222,\"#7201a8\"],[0.3333333333333333,\"#9c179e\"],[0.4444444444444444,\"#bd3786\"],[0.5555555555555556,\"#d8576b\"],[0.6666666666666666,\"#ed7953\"],[0.7777777777777778,\"#fb9f3a\"],[0.8888888888888888,\"#fdca26\"],[1.0,\"#f0f921\"]]}],\"surface\":[{\"type\":\"surface\",\"colorbar\":{\"outlinewidth\":0,\"ticks\":\"\"},\"colorscale\":[[0.0,\"#0d0887\"],[0.1111111111111111,\"#46039f\"],[0.2222222222222222,\"#7201a8\"],[0.3333333333333333,\"#9c179e\"],[0.4444444444444444,\"#bd3786\"],[0.5555555555555556,\"#d8576b\"],[0.6666666666666666,\"#ed7953\"],[0.7777777777777778,\"#fb9f3a\"],[0.8888888888888888,\"#fdca26\"],[1.0,\"#f0f921\"]]}],\"mesh3d\":[{\"type\":\"mesh3d\",\"colorbar\":{\"outlinewidth\":0,\"ticks\":\"\"}}],\"scatter\":[{\"fillpattern\":{\"fillmode\":\"overlay\",\"size\":10,\"solidity\":0.2},\"type\":\"scatter\"}],\"parcoords\":[{\"type\":\"parcoords\",\"line\":{\"colorbar\":{\"outlinewidth\":0,\"ticks\":\"\"}}}],\"scatterpolargl\":[{\"type\":\"scatterpolargl\",\"marker\":{\"colorbar\":{\"outlinewidth\":0,\"ticks\":\"\"}}}],\"bar\":[{\"error_x\":{\"color\":\"#2a3f5f\"},\"error_y\":{\"color\":\"#2a3f5f\"},\"marker\":{\"line\":{\"color\":\"#E5ECF6\",\"width\":0.5},\"pattern\":{\"fillmode\":\"overlay\",\"size\":10,\"solidity\":0.2}},\"type\":\"bar\"}],\"scattergeo\":[{\"type\":\"scattergeo\",\"marker\":{\"colorbar\":{\"outlinewidth\":0,\"ticks\":\"\"}}}],\"scatterpolar\":[{\"type\":\"scatterpolar\",\"marker\":{\"colorbar\":{\"outlinewidth\":0,\"ticks\":\"\"}}}],\"histogram\":[{\"marker\":{\"pattern\":{\"fillmode\":\"overlay\",\"size\":10,\"solidity\":0.2}},\"type\":\"histogram\"}],\"scattergl\":[{\"type\":\"scattergl\",\"marker\":{\"colorbar\":{\"outlinewidth\":0,\"ticks\":\"\"}}}],\"scatter3d\":[{\"type\":\"scatter3d\",\"line\":{\"colorbar\":{\"outlinewidth\":0,\"ticks\":\"\"}},\"marker\":{\"colorbar\":{\"outlinewidth\":0,\"ticks\":\"\"}}}],\"scattermapbox\":[{\"type\":\"scattermapbox\",\"marker\":{\"colorbar\":{\"outlinewidth\":0,\"ticks\":\"\"}}}],\"scatterternary\":[{\"type\":\"scatterternary\",\"marker\":{\"colorbar\":{\"outlinewidth\":0,\"ticks\":\"\"}}}],\"scattercarpet\":[{\"type\":\"scattercarpet\",\"marker\":{\"colorbar\":{\"outlinewidth\":0,\"ticks\":\"\"}}}],\"carpet\":[{\"aaxis\":{\"endlinecolor\":\"#2a3f5f\",\"gridcolor\":\"white\",\"linecolor\":\"white\",\"minorgridcolor\":\"white\",\"startlinecolor\":\"#2a3f5f\"},\"baxis\":{\"endlinecolor\":\"#2a3f5f\",\"gridcolor\":\"white\",\"linecolor\":\"white\",\"minorgridcolor\":\"white\",\"startlinecolor\":\"#2a3f5f\"},\"type\":\"carpet\"}],\"table\":[{\"cells\":{\"fill\":{\"color\":\"#EBF0F8\"},\"line\":{\"color\":\"white\"}},\"header\":{\"fill\":{\"color\":\"#C8D4E3\"},\"line\":{\"color\":\"white\"}},\"type\":\"table\"}],\"barpolar\":[{\"marker\":{\"line\":{\"color\":\"#E5ECF6\",\"width\":0.5},\"pattern\":{\"fillmode\":\"overlay\",\"size\":10,\"solidity\":0.2}},\"type\":\"barpolar\"}],\"pie\":[{\"automargin\":true,\"type\":\"pie\"}]},\"layout\":{\"autotypenumbers\":\"strict\",\"colorway\":[\"#636efa\",\"#EF553B\",\"#00cc96\",\"#ab63fa\",\"#FFA15A\",\"#19d3f3\",\"#FF6692\",\"#B6E880\",\"#FF97FF\",\"#FECB52\"],\"font\":{\"color\":\"#2a3f5f\"},\"hovermode\":\"closest\",\"hoverlabel\":{\"align\":\"left\"},\"paper_bgcolor\":\"white\",\"plot_bgcolor\":\"#E5ECF6\",\"polar\":{\"bgcolor\":\"#E5ECF6\",\"angularaxis\":{\"gridcolor\":\"white\",\"linecolor\":\"white\",\"ticks\":\"\"},\"radialaxis\":{\"gridcolor\":\"white\",\"linecolor\":\"white\",\"ticks\":\"\"}},\"ternary\":{\"bgcolor\":\"#E5ECF6\",\"aaxis\":{\"gridcolor\":\"white\",\"linecolor\":\"white\",\"ticks\":\"\"},\"baxis\":{\"gridcolor\":\"white\",\"linecolor\":\"white\",\"ticks\":\"\"},\"caxis\":{\"gridcolor\":\"white\",\"linecolor\":\"white\",\"ticks\":\"\"}},\"coloraxis\":{\"colorbar\":{\"outlinewidth\":0,\"ticks\":\"\"}},\"colorscale\":{\"sequential\":[[0.0,\"#0d0887\"],[0.1111111111111111,\"#46039f\"],[0.2222222222222222,\"#7201a8\"],[0.3333333333333333,\"#9c179e\"],[0.4444444444444444,\"#bd3786\"],[0.5555555555555556,\"#d8576b\"],[0.6666666666666666,\"#ed7953\"],[0.7777777777777778,\"#fb9f3a\"],[0.8888888888888888,\"#fdca26\"],[1.0,\"#f0f921\"]],\"sequentialminus\":[[0.0,\"#0d0887\"],[0.1111111111111111,\"#46039f\"],[0.2222222222222222,\"#7201a8\"],[0.3333333333333333,\"#9c179e\"],[0.4444444444444444,\"#bd3786\"],[0.5555555555555556,\"#d8576b\"],[0.6666666666666666,\"#ed7953\"],[0.7777777777777778,\"#fb9f3a\"],[0.8888888888888888,\"#fdca26\"],[1.0,\"#f0f921\"]],\"diverging\":[[0,\"#8e0152\"],[0.1,\"#c51b7d\"],[0.2,\"#de77ae\"],[0.3,\"#f1b6da\"],[0.4,\"#fde0ef\"],[0.5,\"#f7f7f7\"],[0.6,\"#e6f5d0\"],[0.7,\"#b8e186\"],[0.8,\"#7fbc41\"],[0.9,\"#4d9221\"],[1,\"#276419\"]]},\"xaxis\":{\"gridcolor\":\"white\",\"linecolor\":\"white\",\"ticks\":\"\",\"title\":{\"standoff\":15},\"zerolinecolor\":\"white\",\"automargin\":true,\"zerolinewidth\":2},\"yaxis\":{\"gridcolor\":\"white\",\"linecolor\":\"white\",\"ticks\":\"\",\"title\":{\"standoff\":15},\"zerolinecolor\":\"white\",\"automargin\":true,\"zerolinewidth\":2},\"scene\":{\"xaxis\":{\"backgroundcolor\":\"#E5ECF6\",\"gridcolor\":\"white\",\"linecolor\":\"white\",\"showbackground\":true,\"ticks\":\"\",\"zerolinecolor\":\"white\",\"gridwidth\":2},\"yaxis\":{\"backgroundcolor\":\"#E5ECF6\",\"gridcolor\":\"white\",\"linecolor\":\"white\",\"showbackground\":true,\"ticks\":\"\",\"zerolinecolor\":\"white\",\"gridwidth\":2},\"zaxis\":{\"backgroundcolor\":\"#E5ECF6\",\"gridcolor\":\"white\",\"linecolor\":\"white\",\"showbackground\":true,\"ticks\":\"\",\"zerolinecolor\":\"white\",\"gridwidth\":2}},\"shapedefaults\":{\"line\":{\"color\":\"#2a3f5f\"}},\"annotationdefaults\":{\"arrowcolor\":\"#2a3f5f\",\"arrowhead\":0,\"arrowwidth\":1},\"geo\":{\"bgcolor\":\"white\",\"landcolor\":\"#E5ECF6\",\"subunitcolor\":\"white\",\"showland\":true,\"showlakes\":true,\"lakecolor\":\"white\"},\"title\":{\"x\":0.05},\"mapbox\":{\"style\":\"light\"}}},\"legend\":{\"tracegroupgap\":0},\"title\":{\"text\":\"Minimum Salary Category\"},\"piecolorway\":[\"#0d0887\",\"#46039f\",\"#7201a8\",\"#9c179e\",\"#bd3786\",\"#d8576b\",\"#ed7953\",\"#fb9f3a\",\"#fdca26\",\"#f0f921\"],\"height\":400,\"width\":1000},                        {\"responsive\": true}                    ).then(function(){\n",
       "                            \n",
       "var gd = document.getElementById('de24c2ab-3aba-4d8c-981f-18ae5dfaf6b3');\n",
       "var x = new MutationObserver(function (mutations, observer) {{\n",
       "        var display = window.getComputedStyle(gd).display;\n",
       "        if (!display || display === 'none') {{\n",
       "            console.log([gd, 'removed!']);\n",
       "            Plotly.purge(gd);\n",
       "            observer.disconnect();\n",
       "        }}\n",
       "}});\n",
       "\n",
       "// Listen for the removal of the full notebook cells\n",
       "var notebookContainer = gd.closest('#notebook-container');\n",
       "if (notebookContainer) {{\n",
       "    x.observe(notebookContainer, {childList: true});\n",
       "}}\n",
       "\n",
       "// Listen for the clearing of the current output cell\n",
       "var outputEl = gd.closest('.output');\n",
       "if (outputEl) {{\n",
       "    x.observe(outputEl, {childList: true});\n",
       "}}\n",
       "\n",
       "                        })                };                });            </script>        </div>"
      ]
     },
     "metadata": {},
     "output_type": "display_data"
    }
   ],
   "source": [
    "\n",
    "fig = pt.pie(data_frame = employeeRecordsDataframe, names = \"Minimum Salary Category\", color_discrete_sequence = pt.colors.sequential.Plasma,\n",
    "             title = \"Minimum Salary Category\", hover_data = {\"min_salary\" : True}, width = 1000, height = 400)\n",
    "fig.show()"
   ]
  },
  {
   "cell_type": "markdown",
   "id": "1bb6ded0-d4c2-45ce-99c6-633283507da4",
   "metadata": {},
   "source": [
    "### Maximum Salary Category"
   ]
  },
  {
   "cell_type": "code",
   "execution_count": 132,
   "id": "52c8ec6a-a97a-41de-ac57-9684239a4881",
   "metadata": {},
   "outputs": [
    {
     "data": {
      "application/vnd.plotly.v1+json": {
       "config": {
        "plotlyServerURL": "https://plot.ly"
       },
       "data": [
        {
         "customdata": [
          [
           40000
          ],
          [
           30000
          ],
          [
           30000
          ],
          [
           10000
          ],
          [
           10000
          ],
          [
           10000
          ],
          [
           10000
          ],
          [
           10000
          ],
          [
           16000
          ],
          [
           9000
          ],
          [
           9000
          ],
          [
           9000
          ],
          [
           9000
          ],
          [
           9000
          ],
          [
           15000
          ],
          [
           5500
          ],
          [
           5500
          ],
          [
           5500
          ],
          [
           5500
          ],
          [
           5500
          ],
          [
           8500
          ],
          [
           8500
          ],
          [
           8500
          ],
          [
           8500
          ],
          [
           8500
          ],
          [
           5000
          ],
          [
           5000
          ],
          [
           5000
          ],
          [
           5000
          ],
          [
           5000
          ],
          [
           5000
          ],
          [
           5000
          ],
          [
           5000
          ],
          [
           5000
          ],
          [
           5000
          ],
          [
           5000
          ],
          [
           5000
          ],
          [
           5000
          ],
          [
           5000
          ],
          [
           5000
          ],
          [
           5000
          ],
          [
           5000
          ],
          [
           5000
          ],
          [
           5000
          ],
          [
           5000
          ],
          [
           20000
          ],
          [
           20000
          ],
          [
           20000
          ],
          [
           20000
          ],
          [
           20000
          ],
          [
           12000
          ],
          [
           12000
          ],
          [
           12000
          ],
          [
           12000
          ],
          [
           12000
          ],
          [
           12000
          ],
          [
           12000
          ],
          [
           12000
          ],
          [
           12000
          ],
          [
           12000
          ],
          [
           12000
          ],
          [
           12000
          ],
          [
           12000
          ],
          [
           12000
          ],
          [
           12000
          ],
          [
           12000
          ],
          [
           12000
          ],
          [
           12000
          ],
          [
           12000
          ],
          [
           12000
          ],
          [
           12000
          ],
          [
           12000
          ],
          [
           12000
          ],
          [
           12000
          ],
          [
           12000
          ],
          [
           12000
          ],
          [
           12000
          ],
          [
           12000
          ],
          [
           12000
          ],
          [
           12000
          ],
          [
           5500
          ],
          [
           5500
          ],
          [
           5500
          ],
          [
           5500
          ],
          [
           5500
          ],
          [
           5500
          ],
          [
           5500
          ],
          [
           5500
          ],
          [
           5500
          ],
          [
           5500
          ],
          [
           5500
          ],
          [
           5500
          ],
          [
           5500
          ],
          [
           5500
          ],
          [
           5500
          ],
          [
           5500
          ],
          [
           5500
          ],
          [
           5500
          ],
          [
           5500
          ],
          [
           5500
          ],
          [
           6000
          ],
          [
           15000
          ],
          [
           9000
          ],
          [
           9000
          ],
          [
           10500
          ],
          [
           16000
          ],
          [
           9000
          ]
         ],
         "domain": {
          "x": [
           0,
           1
          ],
          "y": [
           0,
           1
          ]
         },
         "hovertemplate": "Maximum Salary Category=%{label}<br>max_salary=%{customdata[0]}<extra></extra>",
         "labels": [
          "30k-40k",
          "20k-30k",
          "20k-30k",
          "4k-10k",
          "4k-10k",
          "4k-10k",
          "4k-10k",
          "4k-10k",
          "10k-20k",
          "4k-10k",
          "4k-10k",
          "4k-10k",
          "4k-10k",
          "4k-10k",
          "10k-20k",
          "4k-10k",
          "4k-10k",
          "4k-10k",
          "4k-10k",
          "4k-10k",
          "4k-10k",
          "4k-10k",
          "4k-10k",
          "4k-10k",
          "4k-10k",
          "4k-10k",
          "4k-10k",
          "4k-10k",
          "4k-10k",
          "4k-10k",
          "4k-10k",
          "4k-10k",
          "4k-10k",
          "4k-10k",
          "4k-10k",
          "4k-10k",
          "4k-10k",
          "4k-10k",
          "4k-10k",
          "4k-10k",
          "4k-10k",
          "4k-10k",
          "4k-10k",
          "4k-10k",
          "4k-10k",
          "10k-20k",
          "10k-20k",
          "10k-20k",
          "10k-20k",
          "10k-20k",
          "10k-20k",
          "10k-20k",
          "10k-20k",
          "10k-20k",
          "10k-20k",
          "10k-20k",
          "10k-20k",
          "10k-20k",
          "10k-20k",
          "10k-20k",
          "10k-20k",
          "10k-20k",
          "10k-20k",
          "10k-20k",
          "10k-20k",
          "10k-20k",
          "10k-20k",
          "10k-20k",
          "10k-20k",
          "10k-20k",
          "10k-20k",
          "10k-20k",
          "10k-20k",
          "10k-20k",
          "10k-20k",
          "10k-20k",
          "10k-20k",
          "10k-20k",
          "10k-20k",
          "10k-20k",
          "4k-10k",
          "4k-10k",
          "4k-10k",
          "4k-10k",
          "4k-10k",
          "4k-10k",
          "4k-10k",
          "4k-10k",
          "4k-10k",
          "4k-10k",
          "4k-10k",
          "4k-10k",
          "4k-10k",
          "4k-10k",
          "4k-10k",
          "4k-10k",
          "4k-10k",
          "4k-10k",
          "4k-10k",
          "4k-10k",
          "4k-10k",
          "10k-20k",
          "4k-10k",
          "4k-10k",
          "10k-20k",
          "10k-20k",
          "4k-10k"
         ],
         "legendgroup": "",
         "name": "",
         "showlegend": true,
         "type": "pie"
        }
       ],
       "layout": {
        "height": 400,
        "legend": {
         "tracegroupgap": 0
        },
        "piecolorway": [
         "#0d0887",
         "#46039f",
         "#7201a8",
         "#9c179e",
         "#bd3786",
         "#d8576b",
         "#ed7953",
         "#fb9f3a",
         "#fdca26",
         "#f0f921"
        ],
        "template": {
         "data": {
          "bar": [
           {
            "error_x": {
             "color": "#2a3f5f"
            },
            "error_y": {
             "color": "#2a3f5f"
            },
            "marker": {
             "line": {
              "color": "#E5ECF6",
              "width": 0.5
             },
             "pattern": {
              "fillmode": "overlay",
              "size": 10,
              "solidity": 0.2
             }
            },
            "type": "bar"
           }
          ],
          "barpolar": [
           {
            "marker": {
             "line": {
              "color": "#E5ECF6",
              "width": 0.5
             },
             "pattern": {
              "fillmode": "overlay",
              "size": 10,
              "solidity": 0.2
             }
            },
            "type": "barpolar"
           }
          ],
          "carpet": [
           {
            "aaxis": {
             "endlinecolor": "#2a3f5f",
             "gridcolor": "white",
             "linecolor": "white",
             "minorgridcolor": "white",
             "startlinecolor": "#2a3f5f"
            },
            "baxis": {
             "endlinecolor": "#2a3f5f",
             "gridcolor": "white",
             "linecolor": "white",
             "minorgridcolor": "white",
             "startlinecolor": "#2a3f5f"
            },
            "type": "carpet"
           }
          ],
          "choropleth": [
           {
            "colorbar": {
             "outlinewidth": 0,
             "ticks": ""
            },
            "type": "choropleth"
           }
          ],
          "contour": [
           {
            "colorbar": {
             "outlinewidth": 0,
             "ticks": ""
            },
            "colorscale": [
             [
              0,
              "#0d0887"
             ],
             [
              0.1111111111111111,
              "#46039f"
             ],
             [
              0.2222222222222222,
              "#7201a8"
             ],
             [
              0.3333333333333333,
              "#9c179e"
             ],
             [
              0.4444444444444444,
              "#bd3786"
             ],
             [
              0.5555555555555556,
              "#d8576b"
             ],
             [
              0.6666666666666666,
              "#ed7953"
             ],
             [
              0.7777777777777778,
              "#fb9f3a"
             ],
             [
              0.8888888888888888,
              "#fdca26"
             ],
             [
              1,
              "#f0f921"
             ]
            ],
            "type": "contour"
           }
          ],
          "contourcarpet": [
           {
            "colorbar": {
             "outlinewidth": 0,
             "ticks": ""
            },
            "type": "contourcarpet"
           }
          ],
          "heatmap": [
           {
            "colorbar": {
             "outlinewidth": 0,
             "ticks": ""
            },
            "colorscale": [
             [
              0,
              "#0d0887"
             ],
             [
              0.1111111111111111,
              "#46039f"
             ],
             [
              0.2222222222222222,
              "#7201a8"
             ],
             [
              0.3333333333333333,
              "#9c179e"
             ],
             [
              0.4444444444444444,
              "#bd3786"
             ],
             [
              0.5555555555555556,
              "#d8576b"
             ],
             [
              0.6666666666666666,
              "#ed7953"
             ],
             [
              0.7777777777777778,
              "#fb9f3a"
             ],
             [
              0.8888888888888888,
              "#fdca26"
             ],
             [
              1,
              "#f0f921"
             ]
            ],
            "type": "heatmap"
           }
          ],
          "heatmapgl": [
           {
            "colorbar": {
             "outlinewidth": 0,
             "ticks": ""
            },
            "colorscale": [
             [
              0,
              "#0d0887"
             ],
             [
              0.1111111111111111,
              "#46039f"
             ],
             [
              0.2222222222222222,
              "#7201a8"
             ],
             [
              0.3333333333333333,
              "#9c179e"
             ],
             [
              0.4444444444444444,
              "#bd3786"
             ],
             [
              0.5555555555555556,
              "#d8576b"
             ],
             [
              0.6666666666666666,
              "#ed7953"
             ],
             [
              0.7777777777777778,
              "#fb9f3a"
             ],
             [
              0.8888888888888888,
              "#fdca26"
             ],
             [
              1,
              "#f0f921"
             ]
            ],
            "type": "heatmapgl"
           }
          ],
          "histogram": [
           {
            "marker": {
             "pattern": {
              "fillmode": "overlay",
              "size": 10,
              "solidity": 0.2
             }
            },
            "type": "histogram"
           }
          ],
          "histogram2d": [
           {
            "colorbar": {
             "outlinewidth": 0,
             "ticks": ""
            },
            "colorscale": [
             [
              0,
              "#0d0887"
             ],
             [
              0.1111111111111111,
              "#46039f"
             ],
             [
              0.2222222222222222,
              "#7201a8"
             ],
             [
              0.3333333333333333,
              "#9c179e"
             ],
             [
              0.4444444444444444,
              "#bd3786"
             ],
             [
              0.5555555555555556,
              "#d8576b"
             ],
             [
              0.6666666666666666,
              "#ed7953"
             ],
             [
              0.7777777777777778,
              "#fb9f3a"
             ],
             [
              0.8888888888888888,
              "#fdca26"
             ],
             [
              1,
              "#f0f921"
             ]
            ],
            "type": "histogram2d"
           }
          ],
          "histogram2dcontour": [
           {
            "colorbar": {
             "outlinewidth": 0,
             "ticks": ""
            },
            "colorscale": [
             [
              0,
              "#0d0887"
             ],
             [
              0.1111111111111111,
              "#46039f"
             ],
             [
              0.2222222222222222,
              "#7201a8"
             ],
             [
              0.3333333333333333,
              "#9c179e"
             ],
             [
              0.4444444444444444,
              "#bd3786"
             ],
             [
              0.5555555555555556,
              "#d8576b"
             ],
             [
              0.6666666666666666,
              "#ed7953"
             ],
             [
              0.7777777777777778,
              "#fb9f3a"
             ],
             [
              0.8888888888888888,
              "#fdca26"
             ],
             [
              1,
              "#f0f921"
             ]
            ],
            "type": "histogram2dcontour"
           }
          ],
          "mesh3d": [
           {
            "colorbar": {
             "outlinewidth": 0,
             "ticks": ""
            },
            "type": "mesh3d"
           }
          ],
          "parcoords": [
           {
            "line": {
             "colorbar": {
              "outlinewidth": 0,
              "ticks": ""
             }
            },
            "type": "parcoords"
           }
          ],
          "pie": [
           {
            "automargin": true,
            "type": "pie"
           }
          ],
          "scatter": [
           {
            "fillpattern": {
             "fillmode": "overlay",
             "size": 10,
             "solidity": 0.2
            },
            "type": "scatter"
           }
          ],
          "scatter3d": [
           {
            "line": {
             "colorbar": {
              "outlinewidth": 0,
              "ticks": ""
             }
            },
            "marker": {
             "colorbar": {
              "outlinewidth": 0,
              "ticks": ""
             }
            },
            "type": "scatter3d"
           }
          ],
          "scattercarpet": [
           {
            "marker": {
             "colorbar": {
              "outlinewidth": 0,
              "ticks": ""
             }
            },
            "type": "scattercarpet"
           }
          ],
          "scattergeo": [
           {
            "marker": {
             "colorbar": {
              "outlinewidth": 0,
              "ticks": ""
             }
            },
            "type": "scattergeo"
           }
          ],
          "scattergl": [
           {
            "marker": {
             "colorbar": {
              "outlinewidth": 0,
              "ticks": ""
             }
            },
            "type": "scattergl"
           }
          ],
          "scattermapbox": [
           {
            "marker": {
             "colorbar": {
              "outlinewidth": 0,
              "ticks": ""
             }
            },
            "type": "scattermapbox"
           }
          ],
          "scatterpolar": [
           {
            "marker": {
             "colorbar": {
              "outlinewidth": 0,
              "ticks": ""
             }
            },
            "type": "scatterpolar"
           }
          ],
          "scatterpolargl": [
           {
            "marker": {
             "colorbar": {
              "outlinewidth": 0,
              "ticks": ""
             }
            },
            "type": "scatterpolargl"
           }
          ],
          "scatterternary": [
           {
            "marker": {
             "colorbar": {
              "outlinewidth": 0,
              "ticks": ""
             }
            },
            "type": "scatterternary"
           }
          ],
          "surface": [
           {
            "colorbar": {
             "outlinewidth": 0,
             "ticks": ""
            },
            "colorscale": [
             [
              0,
              "#0d0887"
             ],
             [
              0.1111111111111111,
              "#46039f"
             ],
             [
              0.2222222222222222,
              "#7201a8"
             ],
             [
              0.3333333333333333,
              "#9c179e"
             ],
             [
              0.4444444444444444,
              "#bd3786"
             ],
             [
              0.5555555555555556,
              "#d8576b"
             ],
             [
              0.6666666666666666,
              "#ed7953"
             ],
             [
              0.7777777777777778,
              "#fb9f3a"
             ],
             [
              0.8888888888888888,
              "#fdca26"
             ],
             [
              1,
              "#f0f921"
             ]
            ],
            "type": "surface"
           }
          ],
          "table": [
           {
            "cells": {
             "fill": {
              "color": "#EBF0F8"
             },
             "line": {
              "color": "white"
             }
            },
            "header": {
             "fill": {
              "color": "#C8D4E3"
             },
             "line": {
              "color": "white"
             }
            },
            "type": "table"
           }
          ]
         },
         "layout": {
          "annotationdefaults": {
           "arrowcolor": "#2a3f5f",
           "arrowhead": 0,
           "arrowwidth": 1
          },
          "autotypenumbers": "strict",
          "coloraxis": {
           "colorbar": {
            "outlinewidth": 0,
            "ticks": ""
           }
          },
          "colorscale": {
           "diverging": [
            [
             0,
             "#8e0152"
            ],
            [
             0.1,
             "#c51b7d"
            ],
            [
             0.2,
             "#de77ae"
            ],
            [
             0.3,
             "#f1b6da"
            ],
            [
             0.4,
             "#fde0ef"
            ],
            [
             0.5,
             "#f7f7f7"
            ],
            [
             0.6,
             "#e6f5d0"
            ],
            [
             0.7,
             "#b8e186"
            ],
            [
             0.8,
             "#7fbc41"
            ],
            [
             0.9,
             "#4d9221"
            ],
            [
             1,
             "#276419"
            ]
           ],
           "sequential": [
            [
             0,
             "#0d0887"
            ],
            [
             0.1111111111111111,
             "#46039f"
            ],
            [
             0.2222222222222222,
             "#7201a8"
            ],
            [
             0.3333333333333333,
             "#9c179e"
            ],
            [
             0.4444444444444444,
             "#bd3786"
            ],
            [
             0.5555555555555556,
             "#d8576b"
            ],
            [
             0.6666666666666666,
             "#ed7953"
            ],
            [
             0.7777777777777778,
             "#fb9f3a"
            ],
            [
             0.8888888888888888,
             "#fdca26"
            ],
            [
             1,
             "#f0f921"
            ]
           ],
           "sequentialminus": [
            [
             0,
             "#0d0887"
            ],
            [
             0.1111111111111111,
             "#46039f"
            ],
            [
             0.2222222222222222,
             "#7201a8"
            ],
            [
             0.3333333333333333,
             "#9c179e"
            ],
            [
             0.4444444444444444,
             "#bd3786"
            ],
            [
             0.5555555555555556,
             "#d8576b"
            ],
            [
             0.6666666666666666,
             "#ed7953"
            ],
            [
             0.7777777777777778,
             "#fb9f3a"
            ],
            [
             0.8888888888888888,
             "#fdca26"
            ],
            [
             1,
             "#f0f921"
            ]
           ]
          },
          "colorway": [
           "#636efa",
           "#EF553B",
           "#00cc96",
           "#ab63fa",
           "#FFA15A",
           "#19d3f3",
           "#FF6692",
           "#B6E880",
           "#FF97FF",
           "#FECB52"
          ],
          "font": {
           "color": "#2a3f5f"
          },
          "geo": {
           "bgcolor": "white",
           "lakecolor": "white",
           "landcolor": "#E5ECF6",
           "showlakes": true,
           "showland": true,
           "subunitcolor": "white"
          },
          "hoverlabel": {
           "align": "left"
          },
          "hovermode": "closest",
          "mapbox": {
           "style": "light"
          },
          "paper_bgcolor": "white",
          "plot_bgcolor": "#E5ECF6",
          "polar": {
           "angularaxis": {
            "gridcolor": "white",
            "linecolor": "white",
            "ticks": ""
           },
           "bgcolor": "#E5ECF6",
           "radialaxis": {
            "gridcolor": "white",
            "linecolor": "white",
            "ticks": ""
           }
          },
          "scene": {
           "xaxis": {
            "backgroundcolor": "#E5ECF6",
            "gridcolor": "white",
            "gridwidth": 2,
            "linecolor": "white",
            "showbackground": true,
            "ticks": "",
            "zerolinecolor": "white"
           },
           "yaxis": {
            "backgroundcolor": "#E5ECF6",
            "gridcolor": "white",
            "gridwidth": 2,
            "linecolor": "white",
            "showbackground": true,
            "ticks": "",
            "zerolinecolor": "white"
           },
           "zaxis": {
            "backgroundcolor": "#E5ECF6",
            "gridcolor": "white",
            "gridwidth": 2,
            "linecolor": "white",
            "showbackground": true,
            "ticks": "",
            "zerolinecolor": "white"
           }
          },
          "shapedefaults": {
           "line": {
            "color": "#2a3f5f"
           }
          },
          "ternary": {
           "aaxis": {
            "gridcolor": "white",
            "linecolor": "white",
            "ticks": ""
           },
           "baxis": {
            "gridcolor": "white",
            "linecolor": "white",
            "ticks": ""
           },
           "bgcolor": "#E5ECF6",
           "caxis": {
            "gridcolor": "white",
            "linecolor": "white",
            "ticks": ""
           }
          },
          "title": {
           "x": 0.05
          },
          "xaxis": {
           "automargin": true,
           "gridcolor": "white",
           "linecolor": "white",
           "ticks": "",
           "title": {
            "standoff": 15
           },
           "zerolinecolor": "white",
           "zerolinewidth": 2
          },
          "yaxis": {
           "automargin": true,
           "gridcolor": "white",
           "linecolor": "white",
           "ticks": "",
           "title": {
            "standoff": 15
           },
           "zerolinecolor": "white",
           "zerolinewidth": 2
          }
         }
        },
        "title": {
         "text": "Maximum Salary Category"
        },
        "width": 1000
       }
      },
      "image/png": "[encoded data removed]",
      "text/html": [
       "<div>                            <div id=\"1f8e584b-e68d-4c81-a1f0-6bfab829a214\" class=\"plotly-graph-div\" style=\"height:400px; width:1000px;\"></div>            <script type=\"text/javascript\">                require([\"plotly\"], function(Plotly) {                    window.PLOTLYENV=window.PLOTLYENV || {};                                    if (document.getElementById(\"1f8e584b-e68d-4c81-a1f0-6bfab829a214\")) {                    Plotly.newPlot(                        \"1f8e584b-e68d-4c81-a1f0-6bfab829a214\",                        [{\"customdata\":[[40000.0],[30000.0],[30000.0],[10000.0],[10000.0],[10000.0],[10000.0],[10000.0],[16000.0],[9000.0],[9000.0],[9000.0],[9000.0],[9000.0],[15000.0],[5500.0],[5500.0],[5500.0],[5500.0],[5500.0],[8500.0],[8500.0],[8500.0],[8500.0],[8500.0],[5000.0],[5000.0],[5000.0],[5000.0],[5000.0],[5000.0],[5000.0],[5000.0],[5000.0],[5000.0],[5000.0],[5000.0],[5000.0],[5000.0],[5000.0],[5000.0],[5000.0],[5000.0],[5000.0],[5000.0],[20000.0],[20000.0],[20000.0],[20000.0],[20000.0],[12000.0],[12000.0],[12000.0],[12000.0],[12000.0],[12000.0],[12000.0],[12000.0],[12000.0],[12000.0],[12000.0],[12000.0],[12000.0],[12000.0],[12000.0],[12000.0],[12000.0],[12000.0],[12000.0],[12000.0],[12000.0],[12000.0],[12000.0],[12000.0],[12000.0],[12000.0],[12000.0],[12000.0],[12000.0],[12000.0],[5500.0],[5500.0],[5500.0],[5500.0],[5500.0],[5500.0],[5500.0],[5500.0],[5500.0],[5500.0],[5500.0],[5500.0],[5500.0],[5500.0],[5500.0],[5500.0],[5500.0],[5500.0],[5500.0],[5500.0],[6000.0],[15000.0],[9000.0],[9000.0],[10500.0],[16000.0],[9000.0]],\"domain\":{\"x\":[0.0,1.0],\"y\":[0.0,1.0]},\"hovertemplate\":\"Maximum Salary Category=%{label}<br>max_salary=%{customdata[0]}<extra></extra>\",\"labels\":[\"30k-40k\",\"20k-30k\",\"20k-30k\",\"4k-10k\",\"4k-10k\",\"4k-10k\",\"4k-10k\",\"4k-10k\",\"10k-20k\",\"4k-10k\",\"4k-10k\",\"4k-10k\",\"4k-10k\",\"4k-10k\",\"10k-20k\",\"4k-10k\",\"4k-10k\",\"4k-10k\",\"4k-10k\",\"4k-10k\",\"4k-10k\",\"4k-10k\",\"4k-10k\",\"4k-10k\",\"4k-10k\",\"4k-10k\",\"4k-10k\",\"4k-10k\",\"4k-10k\",\"4k-10k\",\"4k-10k\",\"4k-10k\",\"4k-10k\",\"4k-10k\",\"4k-10k\",\"4k-10k\",\"4k-10k\",\"4k-10k\",\"4k-10k\",\"4k-10k\",\"4k-10k\",\"4k-10k\",\"4k-10k\",\"4k-10k\",\"4k-10k\",\"10k-20k\",\"10k-20k\",\"10k-20k\",\"10k-20k\",\"10k-20k\",\"10k-20k\",\"10k-20k\",\"10k-20k\",\"10k-20k\",\"10k-20k\",\"10k-20k\",\"10k-20k\",\"10k-20k\",\"10k-20k\",\"10k-20k\",\"10k-20k\",\"10k-20k\",\"10k-20k\",\"10k-20k\",\"10k-20k\",\"10k-20k\",\"10k-20k\",\"10k-20k\",\"10k-20k\",\"10k-20k\",\"10k-20k\",\"10k-20k\",\"10k-20k\",\"10k-20k\",\"10k-20k\",\"10k-20k\",\"10k-20k\",\"10k-20k\",\"10k-20k\",\"10k-20k\",\"4k-10k\",\"4k-10k\",\"4k-10k\",\"4k-10k\",\"4k-10k\",\"4k-10k\",\"4k-10k\",\"4k-10k\",\"4k-10k\",\"4k-10k\",\"4k-10k\",\"4k-10k\",\"4k-10k\",\"4k-10k\",\"4k-10k\",\"4k-10k\",\"4k-10k\",\"4k-10k\",\"4k-10k\",\"4k-10k\",\"4k-10k\",\"10k-20k\",\"4k-10k\",\"4k-10k\",\"10k-20k\",\"10k-20k\",\"4k-10k\"],\"legendgroup\":\"\",\"name\":\"\",\"showlegend\":true,\"type\":\"pie\"}],                        {\"template\":{\"data\":{\"histogram2dcontour\":[{\"type\":\"histogram2dcontour\",\"colorbar\":{\"outlinewidth\":0,\"ticks\":\"\"},\"colorscale\":[[0.0,\"#0d0887\"],[0.1111111111111111,\"#46039f\"],[0.2222222222222222,\"#7201a8\"],[0.3333333333333333,\"#9c179e\"],[0.4444444444444444,\"#bd3786\"],[0.5555555555555556,\"#d8576b\"],[0.6666666666666666,\"#ed7953\"],[0.7777777777777778,\"#fb9f3a\"],[0.8888888888888888,\"#fdca26\"],[1.0,\"#f0f921\"]]}],\"choropleth\":[{\"type\":\"choropleth\",\"colorbar\":{\"outlinewidth\":0,\"ticks\":\"\"}}],\"histogram2d\":[{\"type\":\"histogram2d\",\"colorbar\":{\"outlinewidth\":0,\"ticks\":\"\"},\"colorscale\":[[0.0,\"#0d0887\"],[0.1111111111111111,\"#46039f\"],[0.2222222222222222,\"#7201a8\"],[0.3333333333333333,\"#9c179e\"],[0.4444444444444444,\"#bd3786\"],[0.5555555555555556,\"#d8576b\"],[0.6666666666666666,\"#ed7953\"],[0.7777777777777778,\"#fb9f3a\"],[0.8888888888888888,\"#fdca26\"],[1.0,\"#f0f921\"]]}],\"heatmap\":[{\"type\":\"heatmap\",\"colorbar\":{\"outlinewidth\":0,\"ticks\":\"\"},\"colorscale\":[[0.0,\"#0d0887\"],[0.1111111111111111,\"#46039f\"],[0.2222222222222222,\"#7201a8\"],[0.3333333333333333,\"#9c179e\"],[0.4444444444444444,\"#bd3786\"],[0.5555555555555556,\"#d8576b\"],[0.6666666666666666,\"#ed7953\"],[0.7777777777777778,\"#fb9f3a\"],[0.8888888888888888,\"#fdca26\"],[1.0,\"#f0f921\"]]}],\"heatmapgl\":[{\"type\":\"heatmapgl\",\"colorbar\":{\"outlinewidth\":0,\"ticks\":\"\"},\"colorscale\":[[0.0,\"#0d0887\"],[0.1111111111111111,\"#46039f\"],[0.2222222222222222,\"#7201a8\"],[0.3333333333333333,\"#9c179e\"],[0.4444444444444444,\"#bd3786\"],[0.5555555555555556,\"#d8576b\"],[0.6666666666666666,\"#ed7953\"],[0.7777777777777778,\"#fb9f3a\"],[0.8888888888888888,\"#fdca26\"],[1.0,\"#f0f921\"]]}],\"contourcarpet\":[{\"type\":\"contourcarpet\",\"colorbar\":{\"outlinewidth\":0,\"ticks\":\"\"}}],\"contour\":[{\"type\":\"contour\",\"colorbar\":{\"outlinewidth\":0,\"ticks\":\"\"},\"colorscale\":[[0.0,\"#0d0887\"],[0.1111111111111111,\"#46039f\"],[0.2222222222222222,\"#7201a8\"],[0.3333333333333333,\"#9c179e\"],[0.4444444444444444,\"#bd3786\"],[0.5555555555555556,\"#d8576b\"],[0.6666666666666666,\"#ed7953\"],[0.7777777777777778,\"#fb9f3a\"],[0.8888888888888888,\"#fdca26\"],[1.0,\"#f0f921\"]]}],\"surface\":[{\"type\":\"surface\",\"colorbar\":{\"outlinewidth\":0,\"ticks\":\"\"},\"colorscale\":[[0.0,\"#0d0887\"],[0.1111111111111111,\"#46039f\"],[0.2222222222222222,\"#7201a8\"],[0.3333333333333333,\"#9c179e\"],[0.4444444444444444,\"#bd3786\"],[0.5555555555555556,\"#d8576b\"],[0.6666666666666666,\"#ed7953\"],[0.7777777777777778,\"#fb9f3a\"],[0.8888888888888888,\"#fdca26\"],[1.0,\"#f0f921\"]]}],\"mesh3d\":[{\"type\":\"mesh3d\",\"colorbar\":{\"outlinewidth\":0,\"ticks\":\"\"}}],\"scatter\":[{\"fillpattern\":{\"fillmode\":\"overlay\",\"size\":10,\"solidity\":0.2},\"type\":\"scatter\"}],\"parcoords\":[{\"type\":\"parcoords\",\"line\":{\"colorbar\":{\"outlinewidth\":0,\"ticks\":\"\"}}}],\"scatterpolargl\":[{\"type\":\"scatterpolargl\",\"marker\":{\"colorbar\":{\"outlinewidth\":0,\"ticks\":\"\"}}}],\"bar\":[{\"error_x\":{\"color\":\"#2a3f5f\"},\"error_y\":{\"color\":\"#2a3f5f\"},\"marker\":{\"line\":{\"color\":\"#E5ECF6\",\"width\":0.5},\"pattern\":{\"fillmode\":\"overlay\",\"size\":10,\"solidity\":0.2}},\"type\":\"bar\"}],\"scattergeo\":[{\"type\":\"scattergeo\",\"marker\":{\"colorbar\":{\"outlinewidth\":0,\"ticks\":\"\"}}}],\"scatterpolar\":[{\"type\":\"scatterpolar\",\"marker\":{\"colorbar\":{\"outlinewidth\":0,\"ticks\":\"\"}}}],\"histogram\":[{\"marker\":{\"pattern\":{\"fillmode\":\"overlay\",\"size\":10,\"solidity\":0.2}},\"type\":\"histogram\"}],\"scattergl\":[{\"type\":\"scattergl\",\"marker\":{\"colorbar\":{\"outlinewidth\":0,\"ticks\":\"\"}}}],\"scatter3d\":[{\"type\":\"scatter3d\",\"line\":{\"colorbar\":{\"outlinewidth\":0,\"ticks\":\"\"}},\"marker\":{\"colorbar\":{\"outlinewidth\":0,\"ticks\":\"\"}}}],\"scattermapbox\":[{\"type\":\"scattermapbox\",\"marker\":{\"colorbar\":{\"outlinewidth\":0,\"ticks\":\"\"}}}],\"scatterternary\":[{\"type\":\"scatterternary\",\"marker\":{\"colorbar\":{\"outlinewidth\":0,\"ticks\":\"\"}}}],\"scattercarpet\":[{\"type\":\"scattercarpet\",\"marker\":{\"colorbar\":{\"outlinewidth\":0,\"ticks\":\"\"}}}],\"carpet\":[{\"aaxis\":{\"endlinecolor\":\"#2a3f5f\",\"gridcolor\":\"white\",\"linecolor\":\"white\",\"minorgridcolor\":\"white\",\"startlinecolor\":\"#2a3f5f\"},\"baxis\":{\"endlinecolor\":\"#2a3f5f\",\"gridcolor\":\"white\",\"linecolor\":\"white\",\"minorgridcolor\":\"white\",\"startlinecolor\":\"#2a3f5f\"},\"type\":\"carpet\"}],\"table\":[{\"cells\":{\"fill\":{\"color\":\"#EBF0F8\"},\"line\":{\"color\":\"white\"}},\"header\":{\"fill\":{\"color\":\"#C8D4E3\"},\"line\":{\"color\":\"white\"}},\"type\":\"table\"}],\"barpolar\":[{\"marker\":{\"line\":{\"color\":\"#E5ECF6\",\"width\":0.5},\"pattern\":{\"fillmode\":\"overlay\",\"size\":10,\"solidity\":0.2}},\"type\":\"barpolar\"}],\"pie\":[{\"automargin\":true,\"type\":\"pie\"}]},\"layout\":{\"autotypenumbers\":\"strict\",\"colorway\":[\"#636efa\",\"#EF553B\",\"#00cc96\",\"#ab63fa\",\"#FFA15A\",\"#19d3f3\",\"#FF6692\",\"#B6E880\",\"#FF97FF\",\"#FECB52\"],\"font\":{\"color\":\"#2a3f5f\"},\"hovermode\":\"closest\",\"hoverlabel\":{\"align\":\"left\"},\"paper_bgcolor\":\"white\",\"plot_bgcolor\":\"#E5ECF6\",\"polar\":{\"bgcolor\":\"#E5ECF6\",\"angularaxis\":{\"gridcolor\":\"white\",\"linecolor\":\"white\",\"ticks\":\"\"},\"radialaxis\":{\"gridcolor\":\"white\",\"linecolor\":\"white\",\"ticks\":\"\"}},\"ternary\":{\"bgcolor\":\"#E5ECF6\",\"aaxis\":{\"gridcolor\":\"white\",\"linecolor\":\"white\",\"ticks\":\"\"},\"baxis\":{\"gridcolor\":\"white\",\"linecolor\":\"white\",\"ticks\":\"\"},\"caxis\":{\"gridcolor\":\"white\",\"linecolor\":\"white\",\"ticks\":\"\"}},\"coloraxis\":{\"colorbar\":{\"outlinewidth\":0,\"ticks\":\"\"}},\"colorscale\":{\"sequential\":[[0.0,\"#0d0887\"],[0.1111111111111111,\"#46039f\"],[0.2222222222222222,\"#7201a8\"],[0.3333333333333333,\"#9c179e\"],[0.4444444444444444,\"#bd3786\"],[0.5555555555555556,\"#d8576b\"],[0.6666666666666666,\"#ed7953\"],[0.7777777777777778,\"#fb9f3a\"],[0.8888888888888888,\"#fdca26\"],[1.0,\"#f0f921\"]],\"sequentialminus\":[[0.0,\"#0d0887\"],[0.1111111111111111,\"#46039f\"],[0.2222222222222222,\"#7201a8\"],[0.3333333333333333,\"#9c179e\"],[0.4444444444444444,\"#bd3786\"],[0.5555555555555556,\"#d8576b\"],[0.6666666666666666,\"#ed7953\"],[0.7777777777777778,\"#fb9f3a\"],[0.8888888888888888,\"#fdca26\"],[1.0,\"#f0f921\"]],\"diverging\":[[0,\"#8e0152\"],[0.1,\"#c51b7d\"],[0.2,\"#de77ae\"],[0.3,\"#f1b6da\"],[0.4,\"#fde0ef\"],[0.5,\"#f7f7f7\"],[0.6,\"#e6f5d0\"],[0.7,\"#b8e186\"],[0.8,\"#7fbc41\"],[0.9,\"#4d9221\"],[1,\"#276419\"]]},\"xaxis\":{\"gridcolor\":\"white\",\"linecolor\":\"white\",\"ticks\":\"\",\"title\":{\"standoff\":15},\"zerolinecolor\":\"white\",\"automargin\":true,\"zerolinewidth\":2},\"yaxis\":{\"gridcolor\":\"white\",\"linecolor\":\"white\",\"ticks\":\"\",\"title\":{\"standoff\":15},\"zerolinecolor\":\"white\",\"automargin\":true,\"zerolinewidth\":2},\"scene\":{\"xaxis\":{\"backgroundcolor\":\"#E5ECF6\",\"gridcolor\":\"white\",\"linecolor\":\"white\",\"showbackground\":true,\"ticks\":\"\",\"zerolinecolor\":\"white\",\"gridwidth\":2},\"yaxis\":{\"backgroundcolor\":\"#E5ECF6\",\"gridcolor\":\"white\",\"linecolor\":\"white\",\"showbackground\":true,\"ticks\":\"\",\"zerolinecolor\":\"white\",\"gridwidth\":2},\"zaxis\":{\"backgroundcolor\":\"#E5ECF6\",\"gridcolor\":\"white\",\"linecolor\":\"white\",\"showbackground\":true,\"ticks\":\"\",\"zerolinecolor\":\"white\",\"gridwidth\":2}},\"shapedefaults\":{\"line\":{\"color\":\"#2a3f5f\"}},\"annotationdefaults\":{\"arrowcolor\":\"#2a3f5f\",\"arrowhead\":0,\"arrowwidth\":1},\"geo\":{\"bgcolor\":\"white\",\"landcolor\":\"#E5ECF6\",\"subunitcolor\":\"white\",\"showland\":true,\"showlakes\":true,\"lakecolor\":\"white\"},\"title\":{\"x\":0.05},\"mapbox\":{\"style\":\"light\"}}},\"legend\":{\"tracegroupgap\":0},\"title\":{\"text\":\"Maximum Salary Category\"},\"piecolorway\":[\"#0d0887\",\"#46039f\",\"#7201a8\",\"#9c179e\",\"#bd3786\",\"#d8576b\",\"#ed7953\",\"#fb9f3a\",\"#fdca26\",\"#f0f921\"],\"height\":400,\"width\":1000},                        {\"responsive\": true}                    ).then(function(){\n",
       "                            \n",
       "var gd = document.getElementById('1f8e584b-e68d-4c81-a1f0-6bfab829a214');\n",
       "var x = new MutationObserver(function (mutations, observer) {{\n",
       "        var display = window.getComputedStyle(gd).display;\n",
       "        if (!display || display === 'none') {{\n",
       "            console.log([gd, 'removed!']);\n",
       "            Plotly.purge(gd);\n",
       "            observer.disconnect();\n",
       "        }}\n",
       "}});\n",
       "\n",
       "// Listen for the removal of the full notebook cells\n",
       "var notebookContainer = gd.closest('#notebook-container');\n",
       "if (notebookContainer) {{\n",
       "    x.observe(notebookContainer, {childList: true});\n",
       "}}\n",
       "\n",
       "// Listen for the clearing of the current output cell\n",
       "var outputEl = gd.closest('.output');\n",
       "if (outputEl) {{\n",
       "    x.observe(outputEl, {childList: true});\n",
       "}}\n",
       "\n",
       "                        })                };                });            </script>        </div>"
      ]
     },
     "metadata": {},
     "output_type": "display_data"
    }
   ],
   "source": [
    "\n",
    "fig = pt.pie(data_frame = employeeRecordsDataframe, names = \"Maximum Salary Category\", color_discrete_sequence = pt.colors.sequential.Plasma,\n",
    "             title = \"Maximum Salary Category\", hover_data = {'max_salary' : True}, width = 1000, height = 400)\n",
    "fig.show()"
   ]
  },
  {
   "cell_type": "markdown",
   "id": "1a33ab9f-ba08-47b9-9b37-10255282e026",
   "metadata": {},
   "source": [
    "### Proportion of Employees by Region"
   ]
  },
  {
   "cell_type": "code",
   "execution_count": 133,
   "id": "5f3eb51a-d722-406d-95b2-ea091cec4a6b",
   "metadata": {},
   "outputs": [
    {
     "data": {
      "image/png": "[encoded data removed]",
      "text/plain": [
       "<Figure size 700x500 with 1 Axes>"
      ]
     },
     "metadata": {},
     "output_type": "display_data"
    }
   ],
   "source": [
    "# Group the data by region and count the number of employees in each region\n",
    "department_counts = employeeRecordsDataframe['region_name'].value_counts()\n",
    "\n",
    "# Define a custom color palette (you can choose other palettes or define custom colors)\n",
    "colors = plt.cm.Set3(range(len(department_counts)))\n",
    "\n",
    "# Create the pie chart with custom colors, shadow, and exploded slices\n",
    "plt.figure(figsize=(7, 5))\n",
    "explode = [0.05] * len(department_counts)  # Slightly \"explode\" each slice for better emphasis\n",
    "plt.pie(department_counts, labels=department_counts.index, autopct='%1.1f%%', startangle=140,\n",
    "        colors=colors, explode=explode, shadow=True)\n",
    "plt.title('Proportion of Employees by Region', pad = 15)\n",
    "\n",
    "# Ensure the pie chart is circular\n",
    "plt.axis('equal')  \n",
    "\n",
    "# Show the plot\n",
    "plt.show()"
   ]
  },
  {
   "cell_type": "markdown",
   "id": "ff2dfeb5-9b8b-47e5-bca2-41ece9e2e966",
   "metadata": {},
   "source": [
    "### One Sample t Test"
   ]
  },
  {
   "cell_type": "code",
   "execution_count": 134,
   "id": "73d11085-179d-4f09-905e-0d24638a03b9",
   "metadata": {},
   "outputs": [
    {
     "name": "stdout",
     "output_type": "stream",
     "text": [
      "t-statistics: 0.6924044320436438\n",
      "p_value: 0.49019745449529095\n",
      "fail to reject the null hypothesis at alpha = 0.05\n"
     ]
    }
   ],
   "source": [
    "hm = 6200\n",
    "\n",
    "t_stat, p_value = ttest_1samp(employeeRecordsDataframe[\"salary\"],hm) # p value\n",
    "alpha = 0.05\n",
    "\n",
    "# interpret the result\n",
    "print(f\"t-statistics: {t_stat}\") \n",
    "print(f\"p_value: {p_value}\")\n",
    "\n",
    "if p_value < alpha:\n",
    "    print(f\"reject the null hypothesis at alpha = {alpha}\") \n",
    "\n",
    "else:\n",
    "    print(f\"fail to reject the null hypothesis at alpha = {alpha}\")\n"
   ]
  },
  {
   "cell_type": "markdown",
   "id": "db0d7e75-228b-4040-b7cf-ff0c7376f322",
   "metadata": {},
   "source": [
    "- __Null Hypothesis (H₀):__ The mean salary of the employee is equal to $6,200\n",
    "- __Alternative Hypothesis (H₁):__ The mean salary of the employee is different\n",
    "\n",
    "Therefore, __fail to reject the null hypothesis (0.4 > 0.05)__ ( We don't have enough evidence to reject the null hypothesis)"
   ]
  },
  {
   "cell_type": "markdown",
   "id": "620b3d58-d5cb-4ab1-a935-62ee576bdb1f",
   "metadata": {},
   "source": [
    "### Two-Way Anova Test"
   ]
  },
  {
   "cell_type": "code",
   "execution_count": 35,
   "id": "96077438-f2a8-41cd-8ce5-7228e99d3973",
   "metadata": {},
   "outputs": [
    {
     "name": "stdout",
     "output_type": "stream",
     "text": [
      "                                          sum_sq    df       F  PR(>F)\n",
      "C(department_name)                  1.008314e+09  10.0  24.848     0.0\n",
      "C(country_name)                     1.041366e+09   3.0  85.541     0.0\n",
      "C(department_name):C(country_name)  3.534159e+09  30.0  29.031     0.0\n",
      "Residual                            3.855056e+08  95.0     NaN     NaN\n"
     ]
    },
    {
     "name": "stderr",
     "output_type": "stream",
     "text": [
      "C:\\Users\\Logiya Vidhyapathy\\anaconda3\\Lib\\site-packages\\statsmodels\\base\\model.py:1888: ValueWarning:\n",
      "\n",
      "covariance of constraints does not have full rank. The number of constraints is 10, but rank is 6\n",
      "\n",
      "C:\\Users\\Logiya Vidhyapathy\\anaconda3\\Lib\\site-packages\\statsmodels\\base\\model.py:1888: ValueWarning:\n",
      "\n",
      "covariance of constraints does not have full rank. The number of constraints is 3, but rank is 2\n",
      "\n",
      "C:\\Users\\Logiya Vidhyapathy\\anaconda3\\Lib\\site-packages\\statsmodels\\base\\model.py:1888: ValueWarning:\n",
      "\n",
      "covariance of constraints does not have full rank. The number of constraints is 30, but rank is 9\n",
      "\n"
     ]
    }
   ],
   "source": [
    "data = employeeRecordsDataframe[['department_name', 'country_name', 'salary']]\n",
    "\n",
    "model = ols('salary ~ C(department_name) + C(country_name) + C(department_name):C(country_name)', data = data).fit()\n",
    "\n",
    "twoWayAnovaTable = round(sm.stats.anova_lm(model, typ = 2), 3)\n",
    "print(twoWayAnovaTable)"
   ]
  },
  {
   "cell_type": "markdown",
   "id": "2cf45fe6-b34c-4579-a423-86bfe001dcdf",
   "metadata": {},
   "source": [
    "The Two-way ANOVA results indicate that there are no statistically significant interactions between department and country on salary.\n",
    "\n",
    "- __Null Hypothesis (H₀):__ There is no significant interaction effect between department and country on salary.\n",
    "- __Alternate Hypothesis (H₁):__ There is significant interaction effect between department and country on salary.\n",
    "\n",
    "Therefore, we __reject the Null Hypothesis (0.0 < 0.05)__ (i.e. we have enough evidence to support the alternate hypothesis) "
   ]
  },
  {
   "cell_type": "code",
   "execution_count": null,
   "id": "6ea6cbaf-96f0-41ca-a2de-f9b5db8d9b0a",
   "metadata": {},
   "outputs": [],
   "source": []
  }
 ],
 "metadata": {
  "kernelspec": {
   "display_name": "Python 3 (ipykernel)",
   "language": "python",
   "name": "python3"
  },
  "language_info": {
   "codemirror_mode": {
    "name": "ipython",
    "version": 3
   },
   "file_extension": ".py",
   "mimetype": "text/x-python",
   "name": "python",
   "nbconvert_exporter": "python",
   "pygments_lexer": "ipython3",
   "version": "3.11.7"
  }
 },
 "nbformat": 4,
 "nbformat_minor": 5
}
